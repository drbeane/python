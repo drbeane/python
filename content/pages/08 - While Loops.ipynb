{
 "cells": [
  {
   "cell_type": "markdown",
   "metadata": {},
   "source": [
    "# Lesson 08 - While Loops\n",
    "\n",
    "\n",
    "### The following topics are discussed in this notebook:\n",
    "* `while` loops\n",
    "* Reading user input\n",
    "\n",
    "### Additional Resources\n",
    "* Chapter 07 of **Python Crash Course**.\n",
    "* [DataCamp: Intermediate Python for Data Science, Chapter 4](https://www.datacamp.com/courses/intermediate-python-for-data-science)\n",
    "\n",
    "\n"
   ]
  },
  {
   "cell_type": "markdown",
   "metadata": {},
   "source": [
    "## While Loops\n",
    "\n",
    "A `while` loop is similar to a `for` loop in that it is a tool used to automate a repetive task. The core difference between `while` and `for` loops is as follows:\n",
    "\n",
    "* A `for` loop executes a predetermined number of times. A `for` loop that begins with **`\"for i in range(a,b)\"`** will execute exactly once for each value of the counter `i` that falls within the given range. \n",
    "* A `while` loop executes as long as some supplied condition is true. Depending on the nature of this condition, we do not necessarily know ahead of time how many times the loop will execute. \n",
    "\n",
    "At a basic level, `for` loops and `while` loops behave similarly, as shown by the following examples."
   ]
  },
  {
   "cell_type": "code",
   "execution_count": null,
   "metadata": {},
   "outputs": [],
   "source": [
    "n = 0\n",
    "while n < 10:\n",
    "    print(n**2)\n",
    "    n += 1"
   ]
  },
  {
   "cell_type": "markdown",
   "metadata": {},
   "source": [
    "The task above could have been accomplished more succintly using a `for` loop:"
   ]
  },
  {
   "cell_type": "code",
   "execution_count": null,
   "metadata": {},
   "outputs": [],
   "source": [
    "for n in range(0,10):\n",
    "    print(n**2)"
   ]
  },
  {
   "cell_type": "markdown",
   "metadata": {},
   "source": [
    "The usefulnes of `while` loops arises from situations in which we aren't sure how many times the loop should execute. \n",
    "\n",
    "As a simple example, lets say that we want to print out all perfect squares less than 1000."
   ]
  },
  {
   "cell_type": "code",
   "execution_count": null,
   "metadata": {},
   "outputs": [],
   "source": [
    "x = 0\n",
    "while x**2 < 1000:\n",
    "    print(x**2)\n",
    "    x += 1"
   ]
  },
  {
   "cell_type": "markdown",
   "metadata": {},
   "source": [
    "**<font color=\"orangered\" size=\"5\">� Exercise</font>**\n",
    "\n",
    "Find the largest power of 2 less than 10,000. Print this number. "
   ]
  },
  {
   "cell_type": "code",
   "execution_count": null,
   "metadata": {},
   "outputs": [],
   "source": []
  },
  {
   "cell_type": "markdown",
   "metadata": {},
   "source": [
    "We will occasionally want to create a variable to count the number of times that a while loop executes. Such a variable is typically referred to as a **counter**. A counter should typically be initialized to 0, and incremented each time the loop executes. "
   ]
  },
  {
   "cell_type": "markdown",
   "metadata": {},
   "source": [
    "**<font color=\"orangered\" size=\"5\">� Exercise</font>**\n",
    "\n",
    "Assume that a loan of \\\\$225,000 is being repaid with monthly payments of \\\\$850, which occur at the end of the month. The loan is collecting interest at a monthly rate of 0.4%. So, at the end of each month, the remaining balance wil be multiplied by 1.003, and then \\\\$850 is deducted from this balance. Determine the number of monthly payments required to fully repay the loan. "
   ]
  },
  {
   "cell_type": "code",
   "execution_count": null,
   "metadata": {},
   "outputs": [],
   "source": []
  },
  {
   "cell_type": "markdown",
   "metadata": {},
   "source": [
    "Find the size of the final payment."
   ]
  },
  {
   "cell_type": "code",
   "execution_count": null,
   "metadata": {},
   "outputs": [],
   "source": []
  },
  {
   "cell_type": "markdown",
   "metadata": {},
   "source": [
    "## User Input\n",
    "\n",
    "Programs often require input from the user. Python's `input()` function provides a method of prompting the user for input. For example, consider the following code:\n",
    "\n",
    "    name = input(\"What is your name? \")\n",
    "    \n",
    "This code will print the string, \"What is your name? \" and will then wait for user input. The value entered by the user will then be stored in the variable `myVar`. \n"
   ]
  },
  {
   "cell_type": "code",
   "execution_count": null,
   "metadata": {
    "scrolled": true
   },
   "outputs": [],
   "source": [
    "name = input(\"What is your name? \")\n",
    "print(\"Hello, \" + name + \"!\")"
   ]
  },
  {
   "cell_type": "markdown",
   "metadata": {},
   "source": [
    "User input can be combined with `while` loops to create interactive programs. "
   ]
  },
  {
   "cell_type": "code",
   "execution_count": null,
   "metadata": {},
   "outputs": [],
   "source": [
    "import random\n",
    "n = random.choice(range(0, 1000))\n",
    "\n",
    "\n",
    "print(\"I have selected a random number between 0 and 999, inclusive. Can you guess it?\")\n",
    "\n",
    "done = False\n",
    "count = 1\n",
    "while done == False:\n",
    "    \n",
    "    guess = int(input(\"Please enter guess number \" + str(count) + \": \"))\n",
    "    \n",
    "    if(guess < n):\n",
    "        print(\"Your guess was too small.\")\n",
    "    elif(guess > n):\n",
    "        print(\"Your guess was too large.\")\n",
    "    else:\n",
    "        print(\"That's it! It took you \" + str(count) + \" guesses to find the right answer.\")\n",
    "        done = True\n",
    "        \n",
    "    count += 1\n",
    "    "
   ]
  },
  {
   "cell_type": "markdown",
   "metadata": {},
   "source": [
    "**<font color=\"orangered\" size=\"5\">� Exercise</font>**\n",
    "\n",
    "Newton's Method is a calculus-based technique for finding approximate solutions to mathematical equations. We will not discuss the details of Netwon's Method here, but one application of this technique is finding square roots of numbers. The process works as follows:\n",
    "\n",
    "* Assume that we want to calculuate $\\sqrt K$.\n",
    "* We start by making an initial guess, that we will denote by $x_1$. \n",
    "* We can improve our estimate by calculating $x_2 = x_1 - \\frac{x_1^2 - K}{2 \\cdot x_1}$\n",
    "* We can continue to make impovements by continuing this process.\n",
    "* In general, our nth guess is given by: $x_n = x_{n-1} - \\frac{x_{n-1}^2 - K}{2 \\cdot x_{n-1}}$\n",
    "\n",
    "Apply this technique 10 times to approximate the square root of 734,123,454,324."
   ]
  },
  {
   "cell_type": "code",
   "execution_count": null,
   "metadata": {
    "scrolled": true
   },
   "outputs": [],
   "source": []
  },
  {
   "cell_type": "markdown",
   "metadata": {},
   "source": [
    "It tuns out that the true square root of 734,123,454,324 is approximately 856,810.0457. Our approximation is way off. We didn't let the algorithm run enough times.\n",
    "\n",
    "Let's try again with a `while` loop. We will continue to make improvements on our estimate until two consecutive estimates are within 1/1000 of each other. "
   ]
  },
  {
   "cell_type": "code",
   "execution_count": null,
   "metadata": {},
   "outputs": [],
   "source": []
  }
 ],
 "metadata": {
  "kernelspec": {
   "display_name": "Python 3",
   "language": "python",
   "name": "python3"
  },
  "language_info": {
   "codemirror_mode": {
    "name": "ipython",
    "version": 3
   },
   "file_extension": ".py",
   "mimetype": "text/x-python",
   "name": "python",
   "nbconvert_exporter": "python",
   "pygments_lexer": "ipython3",
   "version": "3.7.3"
  }
 },
 "nbformat": 4,
 "nbformat_minor": 2
}
