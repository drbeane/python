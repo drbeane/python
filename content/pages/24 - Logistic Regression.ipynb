{
 "cells": [
  {
   "cell_type": "markdown",
   "metadata": {},
   "source": [
    "# Introduction to Logistic Regression\n",
    "\n",
    "### The following topics are discussed in this notebook:\n",
    "* Logistic regression background\n",
    "* Performing logistic regression using scikit-learn.\n",
    "* Using logistic regression to perform multiclass classification.\n",
    "\n",
    "### Additional Resources\n",
    "* [Hands-On Machine Learning, Ch 4](https://github.com/ageron/handson-ml/blob/master/04_training_linear_models.ipynb)\n",
    "* [Introduction to Statistical Learning, Section 4.3](http://www-bcf.usc.edu/~gareth/ISL/ISLR%20Seventh%20Printing.pdf)\n"
   ]
  },
  {
   "cell_type": "code",
   "execution_count": 1,
   "metadata": {},
   "outputs": [],
   "source": [
    "import numpy as np\n",
    "import pandas as pd\n",
    "import matplotlib.pyplot as plt\n",
    "#import seaborn as sns\n",
    "\n",
    "from sklearn.linear_model import LogisticRegression\n",
    "from sklearn.preprocessing import OneHotEncoder\n",
    "from sklearn.preprocessing import MinMaxScaler\n",
    "from sklearn.model_selection import train_test_split\n",
    "\n",
    "from ClassificationPlotter import plot_regions"
   ]
  },
  {
   "cell_type": "markdown",
   "metadata": {},
   "source": [
    "# Logistic Regresion\n",
    "\n",
    "Logistic regression is a probabilistic linear classification method that can be used to estimate the probability that an observation belongs to a particular class based on the feature values. Logistic regression can be adapted for use in multi-class classification problems, but we will begin by discussing the standard version of the algorithm, which is a binary classifier. \n",
    "\n",
    "We will introduce this concept with an example."
   ]
  },
  {
   "cell_type": "markdown",
   "metadata": {},
   "source": [
    "# Example 1: Exam Preparation\n",
    "\n",
    "Assume that students in a certain field have to take a professional exam. We wish to determine the effect that time spent studying has on a students chances of passing the exam. We collect a dataset consisting of 6 students. For each student, we have the following pieces of information:\n",
    "\n",
    "* $X^{(1)}$ - The number of hours the student spent studying alone. \n",
    "\n",
    "* $X^{(2)}$ - The number of hours the student spent in an exam preparation seminar. \n",
    "\n",
    "* $Y$ - The results of the test. The result is recorded as 'F' if the student failed and 'P' if the student passed. \n"
   ]
  },
  {
   "cell_type": "code",
   "execution_count": 2,
   "metadata": {},
   "outputs": [
    {
     "data": {
      "image/png": "[encoded data removed]",
      "text/plain": [
       "<Figure size 432x288 with 1 Axes>"
      ]
     },
     "metadata": {
      "needs_background": "light"
     },
     "output_type": "display_data"
    }
   ],
   "source": [
    "X = np.array([[50, 55, 70, 95, 100, 120], \n",
    "              [0, 8, 18, 6, 0, 12]]).T\n",
    "y = np.array(['F', 'F', 'P', 'F', 'P', 'P'])\n",
    "\n",
    "plt.figure(figsize=[6,4])\n",
    "plt.scatter(X[y=='P',0], X[y=='P',1], s=120, \n",
    "            c='b', edgecolors='k', label='Passed')\n",
    "plt.scatter(X[y=='F',0], X[y=='F',1], s=120, \n",
    "            c='r', edgecolors='k', label='Failed')\n",
    "\n",
    "plt.xlabel('Hours Spent Studying Alone')\n",
    "plt.ylabel('Hours Spent in Seminar')\n",
    "\n",
    "plt.xlim([40,130])\n",
    "plt.ylim([-2,22])\n",
    "plt.legend(bbox_to_anchor=(1, 1), loc='upper left')\n",
    "plt.show()\n"
   ]
  },
  {
   "cell_type": "markdown",
   "metadata": {},
   "source": [
    "We wish to build a model that will allow us to make predictions about the likelihood that a person will pass this exam given the amount of time that they spent studying alone, as well as the amount of time that they spent in an exam preparation seminar. \n",
    "\n",
    "Assume that a particular individual has studied for $x^{(1)}$ hours on their own, and $x^{(2)}$ hours in a seminar. Let $p$ denote the probability that this individual will pass the exam. In other words: \n",
    "$\\large p = P \\left[Y = Passed ~|~ X^{(1)} = x^{(1)} \\text{ and } X^{(2)} = x^{(2)} \\right]$\n",
    "\n",
    "Consider a model of the form: $\\large p = b_0 + b_1 \\cdot x^{(1)} + b_2 \\cdot x^{(2)}$\n",
    "\n",
    "What issues might we have in trying to use such a model to estimate a probability?"
   ]
  },
  {
   "cell_type": "markdown",
   "metadata": {},
   "source": [
    "# The Sigmoid Function\n",
    "\n",
    "The **sigmoid** or **logistic** function is given by the following formula:\n",
    "\n",
    "$\\Large \\sigma(z) = \\frac{e^z}{1+e^z} = \\frac{1}{1 + e^{-z}}$\n",
    "\n",
    "A plot of the sigmoid function is shown below."
   ]
  },
  {
   "cell_type": "code",
   "execution_count": 3,
   "metadata": {},
   "outputs": [
    {
     "data": {
      "image/png": "[encoded data removed]",
      "text/plain": [
       "<Figure size 432x288 with 1 Axes>"
      ]
     },
     "metadata": {
      "needs_background": "light"
     },
     "output_type": "display_data"
    }
   ],
   "source": [
    "z = np.linspace(-10,10,100)\n",
    "w = 1 / (1 + np.exp(-z))\n",
    "\n",
    "plt.close()\n",
    "plt.rcParams[\"figure.figsize\"] = [6,4]\n",
    "plt.plot(z,w)\n",
    "plt.plot([-10,10],[1,1], linestyle=':', c=\"r\")\n",
    "plt.plot([-10,10],[0,0], linestyle=':', c=\"r\")\n",
    "plt.plot([0,0],[0,1], linewidth=1, c=\"dimgray\")\n",
    "plt.show()"
   ]
  },
  {
   "cell_type": "markdown",
   "metadata": {},
   "source": [
    "# The Logistic Regression Model\n",
    "\n",
    "Since the output of the sigmoid function is always between 0 and 1, it can be used in models that attempt to estimate probabilities. A **logistic regression** model is constructed by taking a linear combination of the inputs and then passing the result into a sigmoid function. In detail:\n",
    "\n",
    "* Given $x^{(1)}$ and $x^{(2)}$, let $\\large p = P \\left[Y = Passed ~|~ X^{(1)} = x^{(1)} \\text{ and } X^{(2)} = x^{(2)} \\right]$.\n",
    "\n",
    "\n",
    "* Let $\\large z = b_0 + b_1 \\cdot x^{(1)} + b_2 \\cdot x^{(2)}$\n",
    "\n",
    "\n",
    "* Let $\\large p = \\sigma(z)  = \\frac{1}{1 + e^{-z}}$\n",
    "\n",
    "Thus, when using logistic regession, we assume that the probability $p$ of an individual passing their exam follows a model of the form: $\\enspace \\Large p = \\frac {1} {\n",
    "1 + e^{-\\left(b_0 ~+~ b_1 \\cdot x^{(1)} ~+~ b_2 \\cdot  x^{(2)}\\right)}\n",
    "}$\n"
   ]
  },
  {
   "cell_type": "markdown",
   "metadata": {},
   "source": [
    "# Generating Predictions"
   ]
  },
  {
   "cell_type": "markdown",
   "metadata": {},
   "source": [
    "For the sake of discussion, assume that we are considering a model of the following form:\n",
    "\n",
    "$\\Large z = -2.4 + 0.016  x^{(1)} + 0.1 x^{(2)}$\n",
    "\n",
    "$\\Large p = \\frac {1} {1 + e^{-z}}$\n",
    "\n",
    "Let's use this model to estimate the probability that an individual will pass their exam, assuming that $x^{(1)} = 120$ and $x^{(2)} = 12$.\n",
    "\n",
    "Plugging the predictors into the model, we get:"
   ]
  },
  {
   "cell_type": "code",
   "execution_count": 4,
   "metadata": {
    "scrolled": true
   },
   "outputs": [
    {
     "name": "stdout",
     "output_type": "stream",
     "text": [
      "0.7200000000000002\n"
     ]
    }
   ],
   "source": [
    "z = -2.4 + 0.016 * 120 + 0.1 * 12\n",
    "print(z)"
   ]
  },
  {
   "cell_type": "code",
   "execution_count": 5,
   "metadata": {},
   "outputs": [
    {
     "name": "stdout",
     "output_type": "stream",
     "text": [
      "0.6726070170677605\n"
     ]
    }
   ],
   "source": [
    "p = 1 / (1 + np.exp(-z))\n",
    "\n",
    "print(p)"
   ]
  },
  {
   "cell_type": "markdown",
   "metadata": {},
   "source": [
    "Thus, our model estimates a probability of 0.6726 that this student would pass their exam. Note that there is, in fact, such an individual in our dataset, and they did pass their exam. "
   ]
  },
  {
   "cell_type": "markdown",
   "metadata": {},
   "source": [
    "# Decision Boundaries\n",
    "\n",
    "When using our model to predict the outcome of an exam, we will predict that a student will pass their exam if our model estimates $p \\geq 0.5$, and that the student will fail their exam if the model estimates $p < 0.5$. The set of points where $p = 0.5$ will thus form a boundary between the individuals for which we would predict different results. We can show that this boundary will always be linear:\n",
    "\n",
    "* $\\large p = 0.5$\n",
    "\n",
    "\n",
    "* $\\large \\frac {1} {1 + e^{-z}} = 0.5$\n",
    "\n",
    "\n",
    "* $\\large {1 + e^{-z}} = 2$\n",
    "\n",
    "\n",
    "* $\\large {e^{-z}} = 1$\n",
    "\n",
    "\n",
    "* $\\large z = 0$\n",
    "\n",
    "\n",
    "* $\\large\\beta_0 + \\beta_1 \\cdot x^{(1)} ~+~ \\beta_2 \\cdot  x^{(2)} = 0$\n",
    "\n",
    "The decion boundary for the model we are considering is shown below."
   ]
  },
  {
   "cell_type": "code",
   "execution_count": 6,
   "metadata": {},
   "outputs": [
    {
     "data": {
      "image/png": "[encoded data removed]",
      "text/plain": [
       "<Figure size 432x288 with 1 Axes>"
      ]
     },
     "metadata": {
      "needs_background": "light"
     },
     "output_type": "display_data"
    }
   ],
   "source": [
    "%run -i snippets/snippet04.py"
   ]
  },
  {
   "cell_type": "markdown",
   "metadata": {},
   "source": [
    "# Comparing Models\n",
    "\n",
    "We now turn our attention to the question of how to select the best parameter values $b_0$, $b_1$, and $b_2$ for our logistic regression model. The model that we have been considering up to this point was selected arbitrarily, without any consideration of the actual data that we had collected. We would like to find a model that is, in some sense, optimal with respect to the data we have observed. To accomplish that goal, we need to have a means of comparing various models. To that end, consider the following two models:\n",
    "\n",
    "* **Model 1:** $\\Large p = \\frac {1} {1 + e^{2.4 ~-~ 0.016  x^{(1)} ~-~ 0.1 x^{(2)}}}$\n",
    "\n",
    "\n",
    "* **Model 2:** $\\Large p = \\frac {1} {1 + e^{4.5 ~-~ 0.005  x^{(1)} ~-~ 0.1 x^{(2)}}}$\n",
    "\n",
    "The decision boundaries for these two models are shown below. "
   ]
  },
  {
   "cell_type": "code",
   "execution_count": 7,
   "metadata": {},
   "outputs": [
    {
     "data": {
      "image/png": "[encoded data removed]",
      "text/plain": [
       "<Figure size 864x288 with 2 Axes>"
      ]
     },
     "metadata": {
      "needs_background": "light"
     },
     "output_type": "display_data"
    }
   ],
   "source": [
    "%run -i snippets/snippet05.py"
   ]
  },
  {
   "cell_type": "markdown",
   "metadata": {},
   "source": [
    "One could reasonably make an argument for either one of these two models over the other. We need a way of quantitatively scoring the two models. Such a scoring method is provided by the model's likelihood score. "
   ]
  },
  {
   "cell_type": "markdown",
   "metadata": {},
   "source": [
    "# Likelihood\n",
    "\n",
    "For each model, we will assign a value called the **likelihood** of the model. This score will be equal to the model's estimate for the probability that the labels in our dataset will be exactly as we have observed. Formally:\n",
    "\n",
    "* Consider a proposed logistic regression model of the form $\\Large p = \\frac {1} {1 + e^{\n",
    "-\\left({b}_0 ~+~ {b}_1 \\cdot x^{(1)} ~+~ {b}_2 \\cdot x^{(2)}\\right)}}$\n",
    "\n",
    "\n",
    "* For each training observation, calculate $p_i$, and then define $\\pi_i$ as follows: $\n",
    "\\pi_i = \\left\\{\n",
    "        \\begin{array}{ll}\n",
    "            p_i & \\text{if  } y_i = \\text{P} \\\\\n",
    "            1 - p_i & \\text{if  } ~y_i = \\text{F}\n",
    "        \\end{array}\n",
    "    \\right.$\n",
    "    \n",
    "    \n",
    "* Then $\\pi_i$ is the model's estimate for the probability that observation $i$ falls into its actual observed class. \n",
    "\n",
    "\n",
    "* Define the model's likelihood score by $L = \\pi_1 \\cdot \\pi_2 \\cdot ... \\cdot \\pi_n = \\prod_{i=1}^{n} \\pi_i$.\n",
    "\n",
    "\n",
    "We wish to select a model that maximizes this likelihood score. \n",
    "\n",
    "The likelihood scores for the two models define previously are shown below. "
   ]
  },
  {
   "cell_type": "code",
   "execution_count": 8,
   "metadata": {},
   "outputs": [
    {
     "data": {
      "application/vnd.jupyter.widget-view+json": {
       "model_id": "61a92dd4652a4d0b93ee91866c2b5aa0",
       "version_major": 2,
       "version_minor": 0
      },
      "text/plain": [
       "HBox(children=(Output(), Output()))"
      ]
     },
     "metadata": {},
     "output_type": "display_data"
    },
    {
     "data": {
      "application/vnd.jupyter.widget-view+json": {
       "model_id": "1ad5efe2a1a6470e91583a79e0521bf7",
       "version_major": 2,
       "version_minor": 0
      },
      "text/plain": [
       "HBox(children=(Output(), Output()))"
      ]
     },
     "metadata": {},
     "output_type": "display_data"
    }
   ],
   "source": [
    "%run -i snippets/snippet06.py"
   ]
  },
  {
   "cell_type": "markdown",
   "metadata": {},
   "source": [
    "Of the two models, Model 2 has the higher likelihood score, and is thus the preferred model. However, we would like to select the best of all possible models, not simply the best of these two.  "
   ]
  },
  {
   "cell_type": "markdown",
   "metadata": {},
   "source": [
    "# Creating a Logistic Regression Model with Scikit-Learn\n",
    "\n",
    "We now create an instance of the `LogisticRegression` class from `sklearn` and then fit it to our observed data. We will then print the values of the model parameters that result in the maximum likelihood score."
   ]
  },
  {
   "cell_type": "code",
   "execution_count": 9,
   "metadata": {},
   "outputs": [
    {
     "name": "stdout",
     "output_type": "stream",
     "text": [
      "Intercept:    [-9.25848692]\n",
      "Coefficients: [[0.09225878 0.21477704]]\n"
     ]
    }
   ],
   "source": [
    "model = LogisticRegression(solver='lbfgs', penalty='none')\n",
    "model.fit(X, y)\n",
    "\n",
    "print('Intercept:   ',  model.intercept_)\n",
    "print('Coefficients:', model.coef_)\n"
   ]
  },
  {
   "cell_type": "markdown",
   "metadata": {},
   "source": [
    "Thus, our optimal model has the following form:\n",
    "\n",
    "$$\\Large p = \\frac {1} \n",
    "{1 + e^{9.2585 ~-~ 0.0923 x^{(1)} ~-~ 0.2148 x^{(2)}}}$$\n",
    "\n",
    "The decision boundary for this model is displayed below. \n"
   ]
  },
  {
   "cell_type": "code",
   "execution_count": 10,
   "metadata": {
    "scrolled": false
   },
   "outputs": [
    {
     "data": {
      "image/png": "[encoded data removed]",
      "text/plain": [
       "<Figure size 432x288 with 1 Axes>"
      ]
     },
     "metadata": {
      "needs_background": "light"
     },
     "output_type": "display_data"
    }
   ],
   "source": [
    "%run -i snippets/snippet07.py"
   ]
  },
  {
   "cell_type": "markdown",
   "metadata": {},
   "source": [
    "# Generating Predictions\n",
    "\n",
    "An instance of the `LogisticRegression` class comes equipped with a `predict()` method that can be used to generate predictions for the class that observations will fall into, as well as a `predict_proba()` method that generates for each observation a probability distribution over the possible classes. "
   ]
  },
  {
   "cell_type": "code",
   "execution_count": 11,
   "metadata": {},
   "outputs": [
    {
     "name": "stdout",
     "output_type": "stream",
     "text": [
      "['F' 'F' 'P' 'P' 'F' 'P']\n"
     ]
    }
   ],
   "source": [
    "pred = model.predict(X)\n",
    "print(pred)"
   ]
  },
  {
   "cell_type": "code",
   "execution_count": 12,
   "metadata": {},
   "outputs": [
    {
     "name": "stdout",
     "output_type": "stream",
     "text": [
      "[[0.9904871  0.0095129 ]\n",
      " [0.92172637 0.07827363]\n",
      " [0.25623799 0.74376201]\n",
      " [0.31114763 0.68885237]\n",
      " [0.50815149 0.49184851]\n",
      " [0.01225015 0.98774985]]\n"
     ]
    }
   ],
   "source": [
    "proba = model.predict_proba(X)\n",
    "print(proba)"
   ]
  },
  {
   "cell_type": "markdown",
   "metadata": {},
   "source": [
    "We can use these methods to generate predictions for new observations that were not part of our original dataset. "
   ]
  },
  {
   "cell_type": "code",
   "execution_count": 13,
   "metadata": {},
   "outputs": [
    {
     "name": "stdout",
     "output_type": "stream",
     "text": [
      "['P' 'F'] \n",
      "\n",
      "[[0.08182867 0.91817133]\n",
      " [0.65759655 0.34240345]]\n"
     ]
    }
   ],
   "source": [
    "Xnew = [[80, 20], [70, 10]]\n",
    "\n",
    "print(model.predict(Xnew), '\\n')\n",
    "\n",
    "print(model.predict_proba(Xnew))\n"
   ]
  },
  {
   "cell_type": "markdown",
   "metadata": {},
   "source": [
    "Let's use the probability estimates generated for our original data to calculate the model's likelihood score. "
   ]
  },
  {
   "cell_type": "code",
   "execution_count": 14,
   "metadata": {},
   "outputs": [
    {
     "name": "stdout",
     "output_type": "stream",
     "text": [
      "0.10264307590705474\n"
     ]
    }
   ],
   "source": [
    "pi = np.where(y == 'P', proba[:,1], proba[:,0])\n",
    "L = np.product(pi)\n",
    "\n",
    "print(L)"
   ]
  },
  {
   "cell_type": "markdown",
   "metadata": {},
   "source": [
    "Each instance of `LogisticRegression` also comes equipped with a `score()` method that calculates the model's accuracy, or in other words, the proportion of predictions that it gets correct. "
   ]
  },
  {
   "cell_type": "code",
   "execution_count": 15,
   "metadata": {},
   "outputs": [
    {
     "name": "stdout",
     "output_type": "stream",
     "text": [
      "0.6666666666666666\n"
     ]
    }
   ],
   "source": [
    "acc = model.score(X, y)\n",
    "\n",
    "print(acc)"
   ]
  },
  {
   "cell_type": "markdown",
   "metadata": {},
   "source": [
    "# Technical Detail: Negative Log-Likelihood\n",
    "\n",
    "When performing mathematical derivations related to a logistic regression model, or when writing code to implement such a model, it is typical to work with the natural logarithm of the likelihood score, called **log-likilihood**, rather than the actual likelihood score. The log-likelihood is defined as follows:\n",
    "\n",
    "* Consider a proposed logistic regression model of the form $\\Large p = \\frac {1} {1 + e^{\n",
    "-\\left({b}_0 ~+~ {b}_1 \\cdot x^{(1)} ~+~ {b}_2 \\cdot x^{(2)}\\right)}}$.\n",
    "\n",
    "\n",
    "* For each training observation, calculate $p_i$, and then $\\pi_i$ as follows: $\n",
    "\\pi_i = \\left\\{\n",
    "        \\begin{array}{ll}\n",
    "            p_i & \\text{if  } y_i = \\text{P} \\\\\n",
    "            1 - p_i & \\text{if  } ~y_i = \\text{F}\n",
    "        \\end{array}\n",
    "    \\right.$\n",
    "\n",
    "\n",
    "* The likelihood score is given by: $L = \\pi_1 \\cdot \\pi_2 \\cdot ... \\cdot \\pi_n = \\prod_{i=1}^{n} \\pi_i$.\n",
    "\n",
    "\n",
    "* The log-likelihood score is defined as: $LL = \\ln(L) = \\ln(\\pi_1) + \\ln(\\pi_2) + ... + \\ln(\\pi_n) = \\sum_{i=1}^n \\ln(\\pi_i)$.\n",
    "\n",
    "Since the natural logarithm is an increasing function, maximizing the log-likelihood is equivalent to maximizing the likelihood. \n",
    "\n",
    "In machine learning, it is common practice to score models using **loss functions**. A loss function is a scoring method that we wish to minimize. Since our goal is to maximize log-likelihood, it is not a loss function. However, its negative is. Thus, we can define a loss function for logistic regression models as follows:\n",
    "\n",
    "* The **negative log-likelihood** score is defined as: $NLL = -\\ln(L) = -\\sum_{i=1}^n \\ln(\\pi_i)$.\n"
   ]
  },
  {
   "cell_type": "markdown",
   "metadata": {},
   "source": [
    "# Example 2: Census Data"
   ]
  },
  {
   "cell_type": "code",
   "execution_count": 16,
   "metadata": {},
   "outputs": [
    {
     "data": {
      "text/html": [
       "<div>\n",
       "<style scoped>\n",
       "    .dataframe tbody tr th:only-of-type {\n",
       "        vertical-align: middle;\n",
       "    }\n",
       "\n",
       "    .dataframe tbody tr th {\n",
       "        vertical-align: top;\n",
       "    }\n",
       "\n",
       "    .dataframe thead th {\n",
       "        text-align: right;\n",
       "    }\n",
       "</style>\n",
       "<table border=\"1\" class=\"dataframe\">\n",
       "  <thead>\n",
       "    <tr style=\"text-align: right;\">\n",
       "      <th></th>\n",
       "      <th>age</th>\n",
       "      <th>workclass</th>\n",
       "      <th>fnlwgt</th>\n",
       "      <th>education</th>\n",
       "      <th>educ_num</th>\n",
       "      <th>marital_status</th>\n",
       "      <th>occupation</th>\n",
       "      <th>relationship</th>\n",
       "      <th>race</th>\n",
       "      <th>sex</th>\n",
       "      <th>capital_gain</th>\n",
       "      <th>capital_loss</th>\n",
       "      <th>hrs_per_week</th>\n",
       "      <th>native_country</th>\n",
       "      <th>salary</th>\n",
       "    </tr>\n",
       "  </thead>\n",
       "  <tbody>\n",
       "    <tr>\n",
       "      <th>0</th>\n",
       "      <td>39</td>\n",
       "      <td>State-gov</td>\n",
       "      <td>77516</td>\n",
       "      <td>Bachelors</td>\n",
       "      <td>13</td>\n",
       "      <td>Never-married</td>\n",
       "      <td>Adm-clerical</td>\n",
       "      <td>Not-in-family</td>\n",
       "      <td>White</td>\n",
       "      <td>Male</td>\n",
       "      <td>2174</td>\n",
       "      <td>0</td>\n",
       "      <td>40</td>\n",
       "      <td>United-States</td>\n",
       "      <td>&lt;=50K</td>\n",
       "    </tr>\n",
       "    <tr>\n",
       "      <th>1</th>\n",
       "      <td>50</td>\n",
       "      <td>Self-emp-not-inc</td>\n",
       "      <td>83311</td>\n",
       "      <td>Bachelors</td>\n",
       "      <td>13</td>\n",
       "      <td>Married-civ-spouse</td>\n",
       "      <td>Exec-managerial</td>\n",
       "      <td>Husband</td>\n",
       "      <td>White</td>\n",
       "      <td>Male</td>\n",
       "      <td>0</td>\n",
       "      <td>0</td>\n",
       "      <td>13</td>\n",
       "      <td>United-States</td>\n",
       "      <td>&lt;=50K</td>\n",
       "    </tr>\n",
       "    <tr>\n",
       "      <th>2</th>\n",
       "      <td>38</td>\n",
       "      <td>Private</td>\n",
       "      <td>215646</td>\n",
       "      <td>HS-grad</td>\n",
       "      <td>9</td>\n",
       "      <td>Divorced</td>\n",
       "      <td>Handlers-cleaners</td>\n",
       "      <td>Not-in-family</td>\n",
       "      <td>White</td>\n",
       "      <td>Male</td>\n",
       "      <td>0</td>\n",
       "      <td>0</td>\n",
       "      <td>40</td>\n",
       "      <td>United-States</td>\n",
       "      <td>&lt;=50K</td>\n",
       "    </tr>\n",
       "    <tr>\n",
       "      <th>3</th>\n",
       "      <td>53</td>\n",
       "      <td>Private</td>\n",
       "      <td>234721</td>\n",
       "      <td>11th</td>\n",
       "      <td>7</td>\n",
       "      <td>Married-civ-spouse</td>\n",
       "      <td>Handlers-cleaners</td>\n",
       "      <td>Husband</td>\n",
       "      <td>Black</td>\n",
       "      <td>Male</td>\n",
       "      <td>0</td>\n",
       "      <td>0</td>\n",
       "      <td>40</td>\n",
       "      <td>United-States</td>\n",
       "      <td>&lt;=50K</td>\n",
       "    </tr>\n",
       "    <tr>\n",
       "      <th>4</th>\n",
       "      <td>28</td>\n",
       "      <td>Private</td>\n",
       "      <td>338409</td>\n",
       "      <td>Bachelors</td>\n",
       "      <td>13</td>\n",
       "      <td>Married-civ-spouse</td>\n",
       "      <td>Prof-specialty</td>\n",
       "      <td>Wife</td>\n",
       "      <td>Black</td>\n",
       "      <td>Female</td>\n",
       "      <td>0</td>\n",
       "      <td>0</td>\n",
       "      <td>40</td>\n",
       "      <td>Cuba</td>\n",
       "      <td>&lt;=50K</td>\n",
       "    </tr>\n",
       "    <tr>\n",
       "      <th>5</th>\n",
       "      <td>37</td>\n",
       "      <td>Private</td>\n",
       "      <td>284582</td>\n",
       "      <td>Masters</td>\n",
       "      <td>14</td>\n",
       "      <td>Married-civ-spouse</td>\n",
       "      <td>Exec-managerial</td>\n",
       "      <td>Wife</td>\n",
       "      <td>White</td>\n",
       "      <td>Female</td>\n",
       "      <td>0</td>\n",
       "      <td>0</td>\n",
       "      <td>40</td>\n",
       "      <td>United-States</td>\n",
       "      <td>&lt;=50K</td>\n",
       "    </tr>\n",
       "    <tr>\n",
       "      <th>6</th>\n",
       "      <td>49</td>\n",
       "      <td>Private</td>\n",
       "      <td>160187</td>\n",
       "      <td>9th</td>\n",
       "      <td>5</td>\n",
       "      <td>Married-spouse-absent</td>\n",
       "      <td>Other-service</td>\n",
       "      <td>Not-in-family</td>\n",
       "      <td>Black</td>\n",
       "      <td>Female</td>\n",
       "      <td>0</td>\n",
       "      <td>0</td>\n",
       "      <td>16</td>\n",
       "      <td>Jamaica</td>\n",
       "      <td>&lt;=50K</td>\n",
       "    </tr>\n",
       "    <tr>\n",
       "      <th>7</th>\n",
       "      <td>52</td>\n",
       "      <td>Self-emp-not-inc</td>\n",
       "      <td>209642</td>\n",
       "      <td>HS-grad</td>\n",
       "      <td>9</td>\n",
       "      <td>Married-civ-spouse</td>\n",
       "      <td>Exec-managerial</td>\n",
       "      <td>Husband</td>\n",
       "      <td>White</td>\n",
       "      <td>Male</td>\n",
       "      <td>0</td>\n",
       "      <td>0</td>\n",
       "      <td>45</td>\n",
       "      <td>United-States</td>\n",
       "      <td>&gt;50K</td>\n",
       "    </tr>\n",
       "    <tr>\n",
       "      <th>8</th>\n",
       "      <td>31</td>\n",
       "      <td>Private</td>\n",
       "      <td>45781</td>\n",
       "      <td>Masters</td>\n",
       "      <td>14</td>\n",
       "      <td>Never-married</td>\n",
       "      <td>Prof-specialty</td>\n",
       "      <td>Not-in-family</td>\n",
       "      <td>White</td>\n",
       "      <td>Female</td>\n",
       "      <td>14084</td>\n",
       "      <td>0</td>\n",
       "      <td>50</td>\n",
       "      <td>United-States</td>\n",
       "      <td>&gt;50K</td>\n",
       "    </tr>\n",
       "    <tr>\n",
       "      <th>9</th>\n",
       "      <td>42</td>\n",
       "      <td>Private</td>\n",
       "      <td>159449</td>\n",
       "      <td>Bachelors</td>\n",
       "      <td>13</td>\n",
       "      <td>Married-civ-spouse</td>\n",
       "      <td>Exec-managerial</td>\n",
       "      <td>Husband</td>\n",
       "      <td>White</td>\n",
       "      <td>Male</td>\n",
       "      <td>5178</td>\n",
       "      <td>0</td>\n",
       "      <td>40</td>\n",
       "      <td>United-States</td>\n",
       "      <td>&gt;50K</td>\n",
       "    </tr>\n",
       "  </tbody>\n",
       "</table>\n",
       "</div>"
      ],
      "text/plain": [
       "   age          workclass  fnlwgt   education  educ_num  \\\n",
       "0   39          State-gov   77516   Bachelors        13   \n",
       "1   50   Self-emp-not-inc   83311   Bachelors        13   \n",
       "2   38            Private  215646     HS-grad         9   \n",
       "3   53            Private  234721        11th         7   \n",
       "4   28            Private  338409   Bachelors        13   \n",
       "5   37            Private  284582     Masters        14   \n",
       "6   49            Private  160187         9th         5   \n",
       "7   52   Self-emp-not-inc  209642     HS-grad         9   \n",
       "8   31            Private   45781     Masters        14   \n",
       "9   42            Private  159449   Bachelors        13   \n",
       "\n",
       "           marital_status          occupation    relationship    race  \\\n",
       "0           Never-married        Adm-clerical   Not-in-family   White   \n",
       "1      Married-civ-spouse     Exec-managerial         Husband   White   \n",
       "2                Divorced   Handlers-cleaners   Not-in-family   White   \n",
       "3      Married-civ-spouse   Handlers-cleaners         Husband   Black   \n",
       "4      Married-civ-spouse      Prof-specialty            Wife   Black   \n",
       "5      Married-civ-spouse     Exec-managerial            Wife   White   \n",
       "6   Married-spouse-absent       Other-service   Not-in-family   Black   \n",
       "7      Married-civ-spouse     Exec-managerial         Husband   White   \n",
       "8           Never-married      Prof-specialty   Not-in-family   White   \n",
       "9      Married-civ-spouse     Exec-managerial         Husband   White   \n",
       "\n",
       "       sex  capital_gain  capital_loss  hrs_per_week  native_country  salary  \n",
       "0     Male          2174             0            40   United-States   <=50K  \n",
       "1     Male             0             0            13   United-States   <=50K  \n",
       "2     Male             0             0            40   United-States   <=50K  \n",
       "3     Male             0             0            40   United-States   <=50K  \n",
       "4   Female             0             0            40            Cuba   <=50K  \n",
       "5   Female             0             0            40   United-States   <=50K  \n",
       "6   Female             0             0            16         Jamaica   <=50K  \n",
       "7     Male             0             0            45   United-States    >50K  \n",
       "8   Female         14084             0            50   United-States    >50K  \n",
       "9     Male          5178             0            40   United-States    >50K  "
      ]
     },
     "execution_count": 16,
     "metadata": {},
     "output_type": "execute_result"
    }
   ],
   "source": [
    "census = pd.read_csv('data/census.txt', sep='\\t')\n",
    "census.head(10)"
   ]
  },
  {
   "cell_type": "markdown",
   "metadata": {},
   "source": [
    "### Identifying Categorical Features, Numerical Features, and Labels"
   ]
  },
  {
   "cell_type": "code",
   "execution_count": 17,
   "metadata": {},
   "outputs": [
    {
     "name": "stdout",
     "output_type": "stream",
     "text": [
      "(32561, 6)\n",
      "(32561, 8)\n",
      "(32561,)\n"
     ]
    }
   ],
   "source": [
    "X_num = census.iloc[:,[0,2,4,10,11,12]]\n",
    "X_cat = census.iloc[:,[1,3,5,6,7,8,9,13]]\n",
    "y_cen = census.iloc[:,14]\n",
    "\n",
    "print(X_num.shape)\n",
    "print(X_cat.shape)\n",
    "print(y_cen.shape)"
   ]
  },
  {
   "cell_type": "markdown",
   "metadata": {},
   "source": [
    "### One-Hot Encoding of Categorical Variables\n",
    "\n",
    "We will apply one-hot encoding to the categorical variables."
   ]
  },
  {
   "cell_type": "code",
   "execution_count": 18,
   "metadata": {},
   "outputs": [
    {
     "name": "stdout",
     "output_type": "stream",
     "text": [
      "(32561, 102)\n"
     ]
    }
   ],
   "source": [
    "encoder = OneHotEncoder(sparse=False)\n",
    "encoder.fit(X_cat)\n",
    "X_enc = encoder.transform(X_cat)\n",
    "\n",
    "print(X_enc.shape)"
   ]
  },
  {
   "cell_type": "markdown",
   "metadata": {},
   "source": [
    "### Splitting the Data\n",
    "\n",
    "We will create an 80/20 split of our data into training and test tests."
   ]
  },
  {
   "cell_type": "code",
   "execution_count": 19,
   "metadata": {},
   "outputs": [
    {
     "name": "stdout",
     "output_type": "stream",
     "text": [
      "(26048, 102)\n",
      "(6513, 102)\n"
     ]
    }
   ],
   "source": [
    "X_enc_train, X_enc_test, y_train, y_test =\\\n",
    "    train_test_split(X_enc, y_cen, test_size = 0.2, random_state=1, stratify=y_cen)\n",
    "\n",
    "print(X_enc_train.shape)\n",
    "print(X_enc_test.shape)"
   ]
  },
  {
   "cell_type": "code",
   "execution_count": 20,
   "metadata": {},
   "outputs": [
    {
     "name": "stdout",
     "output_type": "stream",
     "text": [
      "(26048, 6)\n",
      "(6513, 6)\n"
     ]
    }
   ],
   "source": [
    "X_num_train, X_num_test, y_train, y_test =\\\n",
    "    train_test_split(X_num, y_cen, test_size = 0.2, random_state=1, stratify=y_cen)\n",
    "\n",
    "print(X_num_train.shape)\n",
    "print(X_num_test.shape)"
   ]
  },
  {
   "cell_type": "markdown",
   "metadata": {},
   "source": [
    "### Scaling Numerical Features.\n",
    "\n",
    "We will now apply min-max scaling to the numerical features."
   ]
  },
  {
   "cell_type": "code",
   "execution_count": 21,
   "metadata": {},
   "outputs": [
    {
     "name": "stdout",
     "output_type": "stream",
     "text": [
      "(26048, 6)\n",
      "(6513, 6)\n"
     ]
    }
   ],
   "source": [
    "scaler = MinMaxScaler()\n",
    "X_mm_train = scaler.fit_transform(X_num_train.astype('float'))\n",
    "X_mm_test = scaler.transform(X_num_test.astype('float'))\n",
    "\n",
    "print(X_mm_train.shape)\n",
    "print(X_mm_test.shape)"
   ]
  },
  {
   "cell_type": "markdown",
   "metadata": {},
   "source": [
    "### Recombining Feature Arrays\n",
    "\n",
    "We have completed the desired encoding and scaling of features. We must now combine the encoded categorical features with the scaled numerical features. We will need to do this for both the training set and the test set. "
   ]
  },
  {
   "cell_type": "code",
   "execution_count": 22,
   "metadata": {},
   "outputs": [
    {
     "name": "stdout",
     "output_type": "stream",
     "text": [
      "(26048, 108)\n",
      "(6513, 108)\n"
     ]
    }
   ],
   "source": [
    "X_train = np.hstack([X_enc_train, X_mm_train])\n",
    "X_test = np.hstack([X_enc_test, X_mm_test])\n",
    "\n",
    "print(X_train.shape)\n",
    "print(X_test.shape)"
   ]
  },
  {
   "cell_type": "markdown",
   "metadata": {},
   "source": [
    "### Constructing the Model"
   ]
  },
  {
   "cell_type": "code",
   "execution_count": 23,
   "metadata": {},
   "outputs": [
    {
     "name": "stdout",
     "output_type": "stream",
     "text": [
      "Training Accuracy:   0.8542690417690417\n",
      "Test  Accuracy:      0.8489175495163519\n"
     ]
    }
   ],
   "source": [
    "cen_model = LogisticRegression(solver='lbfgs', max_iter=1000, penalty='none')\n",
    "cen_model.fit(X_train, y_train)\n",
    "\n",
    "print('Training Accuracy:  ', cen_model.score(X_train, y_train))\n",
    "print('Test  Accuracy:     ', cen_model.score(X_test, y_test))"
   ]
  },
  {
   "cell_type": "markdown",
   "metadata": {},
   "source": [
    "## Classification Metrics"
   ]
  },
  {
   "cell_type": "code",
   "execution_count": 24,
   "metadata": {},
   "outputs": [],
   "source": [
    "from sklearn.metrics import classification_report, confusion_matrix"
   ]
  },
  {
   "cell_type": "code",
   "execution_count": 25,
   "metadata": {},
   "outputs": [
    {
     "data": {
      "text/html": [
       "<div>\n",
       "<style scoped>\n",
       "    .dataframe tbody tr th:only-of-type {\n",
       "        vertical-align: middle;\n",
       "    }\n",
       "\n",
       "    .dataframe tbody tr th {\n",
       "        vertical-align: top;\n",
       "    }\n",
       "\n",
       "    .dataframe thead th {\n",
       "        text-align: right;\n",
       "    }\n",
       "</style>\n",
       "<table border=\"1\" class=\"dataframe\">\n",
       "  <thead>\n",
       "    <tr style=\"text-align: right;\">\n",
       "      <th></th>\n",
       "      <th>&lt;=50K (Pred)</th>\n",
       "      <th>&gt;50K (Pred)</th>\n",
       "    </tr>\n",
       "  </thead>\n",
       "  <tbody>\n",
       "    <tr>\n",
       "      <th>&lt;=50K (True)</th>\n",
       "      <td>4586</td>\n",
       "      <td>359</td>\n",
       "    </tr>\n",
       "    <tr>\n",
       "      <th>&gt;50K (True)</th>\n",
       "      <td>625</td>\n",
       "      <td>943</td>\n",
       "    </tr>\n",
       "  </tbody>\n",
       "</table>\n",
       "</div>"
      ],
      "text/plain": [
       "              <=50K (Pred)  >50K (Pred)\n",
       "<=50K (True)          4586          359\n",
       ">50K (True)            625          943"
      ]
     },
     "execution_count": 25,
     "metadata": {},
     "output_type": "execute_result"
    }
   ],
   "source": [
    "pred_test = cen_model.predict(X_test)\n",
    "\n",
    "cm = confusion_matrix(y_test, pred_test)\n",
    "\n",
    "cm_df = pd.DataFrame(cm, columns=['<=50K (Pred)', '>50K (Pred)'], index=['<=50K (True)', '>50K (True)'])\n",
    "cm_df"
   ]
  },
  {
   "cell_type": "code",
   "execution_count": 26,
   "metadata": {},
   "outputs": [
    {
     "name": "stdout",
     "output_type": "stream",
     "text": [
      "              precision    recall  f1-score   support\n",
      "\n",
      "       <=50K       0.88      0.93      0.90      4945\n",
      "        >50K       0.72      0.60      0.66      1568\n",
      "\n",
      "    accuracy                           0.85      6513\n",
      "   macro avg       0.80      0.76      0.78      6513\n",
      "weighted avg       0.84      0.85      0.84      6513\n",
      "\n"
     ]
    }
   ],
   "source": [
    "print(classification_report(y_test, pred_test))"
   ]
  },
  {
   "cell_type": "markdown",
   "metadata": {},
   "source": [
    "# Multiclass Classification with Logistic Regression\n",
    "\n",
    "Assume that we wish to create a classification model for use in a task in which there are 3 or more classes. In particular, assume that there are `M` predictors and that our labels each fall into one of `K` classes, where `K` is greater than 2. In this case, the standard version of logistic regression will not work, as it can only perform binary classification. There are, however, multiple ways of adapting logistic regression to perfom multiclass classification. We will present one such method here. \n",
    "\n",
    "* For each $k = 1, 2, ..., K$, select parameters $b_{k,0}, b_{k,1}, b_{k,2}, ..., b_{k,M}$.\n",
    "\n",
    "\n",
    "* For each $k = 1, 2, ..., K$, let $\\large z^{(k)} = b_{k,0} + b_{k,1} \\cdot x^{(1)} + b_{k,2} \\cdot x^{(2)} + ... +  b_{k,M} \\cdot x^{(M)}$ \n",
    "\n",
    "\n",
    "* For each observation, and each class, define $\\Large p_i^{(k)} = \\frac{e^{Z^{(k)}}}{ \\sum_{j=1}^K e^{Z^{(j)}} }$\n",
    "\n",
    "\n",
    "* The values $\\large p_i^{(1)}, p_i^{(2)}, ..., p_i^{(K)}$ form a probability distribution over the possible classes. \n",
    "\n",
    "\n",
    "* We let $\\pi_i$ to be equal to the $p_k$ associated with the correct level of observation `i`. \n",
    "\n",
    "\n",
    "* As with the standard version of logistic regression, our goal is to maximize the log-likelihood $LL = \\sum_{i=1}^n \\ln(\\pi_i)$, or equivalently, minimize the negative log-likelihood $NLL$. "
   ]
  },
  {
   "cell_type": "markdown",
   "metadata": {},
   "source": [
    "# Example 3: Sythentic Dataset with Four Classes"
   ]
  },
  {
   "cell_type": "code",
   "execution_count": 27,
   "metadata": {},
   "outputs": [],
   "source": [
    "from sklearn.datasets import make_classification"
   ]
  },
  {
   "cell_type": "code",
   "execution_count": 28,
   "metadata": {},
   "outputs": [
    {
     "data": {
      "image/png": "[encoded data removed]",
      "text/plain": [
       "<Figure size 432x288 with 1 Axes>"
      ]
     },
     "metadata": {
      "needs_background": "light"
     },
     "output_type": "display_data"
    }
   ],
   "source": [
    "X, y = make_classification(n_samples=1000, n_features=2, n_informative=2, \n",
    "                           n_redundant=0, n_classes=4, n_clusters_per_class=1,\n",
    "                           class_sep=1.2, random_state=1)\n",
    "\n",
    "plt.figure(figsize=[6,4])\n",
    "plt.scatter(X[:,0], X[:,1], c=y, edgecolors='k', cmap='rainbow')\n",
    "plt.show()"
   ]
  },
  {
   "cell_type": "code",
   "execution_count": 29,
   "metadata": {},
   "outputs": [
    {
     "name": "stdout",
     "output_type": "stream",
     "text": [
      "(800, 2)\n",
      "(800,)\n",
      "(200, 2)\n",
      "(200,)\n"
     ]
    }
   ],
   "source": [
    "X_train, X_test, y_train, y_test = train_test_split(X, y, test_size=0.2, random_state=1, stratify=y)\n",
    "\n",
    "print(X_train.shape)\n",
    "print(y_train.shape)\n",
    "print(X_test.shape)\n",
    "print(y_test.shape)"
   ]
  },
  {
   "cell_type": "code",
   "execution_count": 30,
   "metadata": {},
   "outputs": [
    {
     "name": "stdout",
     "output_type": "stream",
     "text": [
      "Training Accuracy:   0.82125\n",
      "Validation Accuracy: 0.83\n"
     ]
    }
   ],
   "source": [
    "mc_model = LogisticRegression(solver='lbfgs', C=10e99, multi_class='multinomial')\n",
    "mc_model.fit(X_train, y_train)\n",
    "\n",
    "print('Training Accuracy:  ', mc_model.score(X_train, y_train))\n",
    "print('Validation Accuracy:', mc_model.score(X_test, y_test))"
   ]
  },
  {
   "cell_type": "code",
   "execution_count": 31,
   "metadata": {
    "scrolled": true
   },
   "outputs": [
    {
     "data": {
      "image/png": "[encoded data removed]",
      "text/plain": [
       "<Figure size 432x288 with 1 Axes>"
      ]
     },
     "metadata": {
      "needs_background": "light"
     },
     "output_type": "display_data"
    }
   ],
   "source": [
    "plot_regions(mc_model, X_train, y_train, num_ticks=200)"
   ]
  },
  {
   "cell_type": "code",
   "execution_count": 32,
   "metadata": {},
   "outputs": [
    {
     "data": {
      "text/html": [
       "<div>\n",
       "<style scoped>\n",
       "    .dataframe tbody tr th:only-of-type {\n",
       "        vertical-align: middle;\n",
       "    }\n",
       "\n",
       "    .dataframe tbody tr th {\n",
       "        vertical-align: top;\n",
       "    }\n",
       "\n",
       "    .dataframe thead th {\n",
       "        text-align: right;\n",
       "    }\n",
       "</style>\n",
       "<table border=\"1\" class=\"dataframe\">\n",
       "  <thead>\n",
       "    <tr style=\"text-align: right;\">\n",
       "      <th></th>\n",
       "      <th>0</th>\n",
       "      <th>1</th>\n",
       "      <th>2</th>\n",
       "      <th>3</th>\n",
       "    </tr>\n",
       "  </thead>\n",
       "  <tbody>\n",
       "    <tr>\n",
       "      <th>0</th>\n",
       "      <td>45</td>\n",
       "      <td>1</td>\n",
       "      <td>3</td>\n",
       "      <td>1</td>\n",
       "    </tr>\n",
       "    <tr>\n",
       "      <th>1</th>\n",
       "      <td>4</td>\n",
       "      <td>43</td>\n",
       "      <td>0</td>\n",
       "      <td>2</td>\n",
       "    </tr>\n",
       "    <tr>\n",
       "      <th>2</th>\n",
       "      <td>0</td>\n",
       "      <td>2</td>\n",
       "      <td>42</td>\n",
       "      <td>6</td>\n",
       "    </tr>\n",
       "    <tr>\n",
       "      <th>3</th>\n",
       "      <td>2</td>\n",
       "      <td>9</td>\n",
       "      <td>4</td>\n",
       "      <td>36</td>\n",
       "    </tr>\n",
       "  </tbody>\n",
       "</table>\n",
       "</div>"
      ],
      "text/plain": [
       "    0   1   2   3\n",
       "0  45   1   3   1\n",
       "1   4  43   0   2\n",
       "2   0   2  42   6\n",
       "3   2   9   4  36"
      ]
     },
     "execution_count": 32,
     "metadata": {},
     "output_type": "execute_result"
    }
   ],
   "source": [
    "pred_test = mc_model.predict(X_test)\n",
    "\n",
    "cm = confusion_matrix(y_test, pred_test)\n",
    "\n",
    "cm_df = pd.DataFrame(cm)\n",
    "cm_df"
   ]
  },
  {
   "cell_type": "code",
   "execution_count": 33,
   "metadata": {},
   "outputs": [
    {
     "name": "stdout",
     "output_type": "stream",
     "text": [
      "              precision    recall  f1-score   support\n",
      "\n",
      "           0       0.88      0.90      0.89        50\n",
      "           1       0.78      0.88      0.83        49\n",
      "           2       0.86      0.84      0.85        50\n",
      "           3       0.80      0.71      0.75        51\n",
      "\n",
      "    accuracy                           0.83       200\n",
      "   macro avg       0.83      0.83      0.83       200\n",
      "weighted avg       0.83      0.83      0.83       200\n",
      "\n"
     ]
    }
   ],
   "source": [
    "print(classification_report(y_test, pred_test))"
   ]
  }
 ],
 "metadata": {
  "kernelspec": {
   "display_name": "Python 3",
   "language": "python",
   "name": "python3"
  },
  "language_info": {
   "codemirror_mode": {
    "name": "ipython",
    "version": 3
   },
   "file_extension": ".py",
   "mimetype": "text/x-python",
   "name": "python",
   "nbconvert_exporter": "python",
   "pygments_lexer": "ipython3",
   "version": "3.7.3"
  }
 },
 "nbformat": 4,
 "nbformat_minor": 2
}
