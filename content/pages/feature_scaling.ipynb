{
 "cells": [
  {
   "cell_type": "markdown",
   "metadata": {},
   "source": [
    "# Lesson 23 - Data Preprocessing\n",
    "\n",
    "### The following topics are discussed in this notebook:\n",
    "* One-Hot Encoding of Categorical Variables\n",
    "* Feature Scaling"
   ]
  },
  {
   "cell_type": "code",
   "execution_count": 1,
   "metadata": {},
   "outputs": [],
   "source": [
    "import numpy as np\n",
    "import pandas as pd\n",
    "import matplotlib.pyplot as plt\n",
    "from sklearn.model_selection import train_test_split"
   ]
  },
  {
   "cell_type": "markdown",
   "metadata": {},
   "source": [
    "## Categorical Predictors\n",
    "\n",
    "A variable is **categorical**, or **qualitative** if it takes on values from a finite set of categories or classes. Such values are often recorded as strings, but might also be encoded using numerical labels. Such numerical labels do not typically have any numerical or quantitative significance.The possible values that a categorical variable can assume are referred to as its **levels**.\n",
    "\n",
    "## One-Hot Encoding\n",
    "\n",
    "The Scikit-Learn implementations of supervised learning models require all of the feature information to be provided in a numerical format. If we wish to use a categorical variable as a feature in a Scikit-Learn model, we can do so, but we must first find a way to numerically encode the variable. The most common technique for numerically encoding qualitative information is to use **one-hot encoding**. \n",
    "\n",
    "To perform one-hot encoding on a categorical variable, we must introduce new variables, referred to as **dummy variables**. The encoding will have one dummy variable for each level found within the categorical variable. The values found within a dummy variable will be either 0 or 1. A particular dummy variable is equal to one for observations with the associated level, and is zero otherwise.\n",
    "\n",
    "For example, assume that we have a categorical variable `Z` with four levels: `a`, `b`, `c`, and `d`. A one-hot encoding for `Z` will create four new variables: `Za`, `Zb`, `Zc`, and `Zd`. The value of these dummy variables for each possible level of `Z` is shown in the table below.\n",
    "\n",
    "| Z | - | Za | Zb | Zc | Zd |\n",
    "|---|---|----|----|----|----|\n",
    "| a | - | 1  | 0  | 0  | 0  |\n",
    "| b | - | 0  | 1  | 0  | 0  |\n",
    "| c | - | 0  | 0  | 1  | 0  |\n",
    "| d | - | 0  | 0  | 0  | 1  |\n",
    "\n",
    "We could perform one-hot encoding manually using tools provided by numpy and pandas. However, sklearn provides a class `OneHotEncoder` for performing one-hot encoding. This class can be imported as follows:"
   ]
  },
  {
   "cell_type": "code",
   "execution_count": 2,
   "metadata": {},
   "outputs": [],
   "source": [
    "from sklearn.preprocessing import OneHotEncoder"
   ]
  },
  {
   "cell_type": "markdown",
   "metadata": {},
   "source": [
    "We will now consider a simple example to demonstrate how to perform one-hot encoding."
   ]
  },
  {
   "cell_type": "markdown",
   "metadata": {},
   "source": [
    "## Example: One-Hot Encoding\n",
    "\n",
    "Assume that we have a data set of customers for an online retailer, and we wish to build a model to help us make marketing decisions. Suppose the data set contains three categorical features:\n",
    "* **`sex`** - The sex of the customer. This has levels \"F\" and \"M\".\n",
    "* **`emp`** - The customer's employment status. This has levels \"FT\" (full time), \"PT\" (part time), and \"U\" (unemployed).\n",
    "* **`reg`** - The region in which the customer lives. This is encoded with levels 1 (Americas), 2 (Asia), and 3 (Europe). \n",
    "\n",
    "A DataFrame containing 6 observations from the DataSet has been created below."
   ]
  },
  {
   "cell_type": "code",
   "execution_count": 3,
   "metadata": {},
   "outputs": [
    {
     "data": {
      "text/html": [
       "<div>\n",
       "<style scoped>\n",
       "    .dataframe tbody tr th:only-of-type {\n",
       "        vertical-align: middle;\n",
       "    }\n",
       "\n",
       "    .dataframe tbody tr th {\n",
       "        vertical-align: top;\n",
       "    }\n",
       "\n",
       "    .dataframe thead th {\n",
       "        text-align: right;\n",
       "    }\n",
       "</style>\n",
       "<table border=\"1\" class=\"dataframe\">\n",
       "  <thead>\n",
       "    <tr style=\"text-align: right;\">\n",
       "      <th></th>\n",
       "      <th>sex</th>\n",
       "      <th>emp</th>\n",
       "      <th>reg</th>\n",
       "    </tr>\n",
       "  </thead>\n",
       "  <tbody>\n",
       "    <tr>\n",
       "      <th>0</th>\n",
       "      <td>M</td>\n",
       "      <td>PT</td>\n",
       "      <td>1</td>\n",
       "    </tr>\n",
       "    <tr>\n",
       "      <th>1</th>\n",
       "      <td>F</td>\n",
       "      <td>FT</td>\n",
       "      <td>3</td>\n",
       "    </tr>\n",
       "    <tr>\n",
       "      <th>2</th>\n",
       "      <td>F</td>\n",
       "      <td>U</td>\n",
       "      <td>3</td>\n",
       "    </tr>\n",
       "    <tr>\n",
       "      <th>3</th>\n",
       "      <td>M</td>\n",
       "      <td>FT</td>\n",
       "      <td>2</td>\n",
       "    </tr>\n",
       "    <tr>\n",
       "      <th>4</th>\n",
       "      <td>M</td>\n",
       "      <td>PT</td>\n",
       "      <td>1</td>\n",
       "    </tr>\n",
       "    <tr>\n",
       "      <th>5</th>\n",
       "      <td>F</td>\n",
       "      <td>PT</td>\n",
       "      <td>2</td>\n",
       "    </tr>\n",
       "  </tbody>\n",
       "</table>\n",
       "</div>"
      ],
      "text/plain": [
       "  sex emp  reg\n",
       "0   M  PT    1\n",
       "1   F  FT    3\n",
       "2   F   U    3\n",
       "3   M  FT    2\n",
       "4   M  PT    1\n",
       "5   F  PT    2"
      ]
     },
     "execution_count": 3,
     "metadata": {},
     "output_type": "execute_result"
    }
   ],
   "source": [
    "X_cat = pd.DataFrame({\n",
    "    'sex':['M', 'F', 'F', 'M', 'M', 'F'],\n",
    "    'emp':['PT', 'FT', 'U', 'FT', 'PT', 'PT'],\n",
    "    'reg':[1, 3, 3, 2, 1, 2]\n",
    "})\n",
    "\n",
    "X_cat"
   ]
  },
  {
   "cell_type": "markdown",
   "metadata": {},
   "source": [
    "Notice that `sex` has two levels, while `emp` and `reg` each have three levels. If we apply one-hot encoding to this DataFrame, the encoding will consist of 8 columns.\n",
    "\n",
    "In the cell below, we will use `OneHotEncoder` to perform the encoding. This is a three-step process:\n",
    "1. Create an instance of the encoder object. \n",
    "2. Fit the encoder to the data using the **`fit()`** method. This does not actually perform the encoding. It simply learns the levels for each categorical variable.\n",
    "3. We then perform the encoding using the **`transform()`** method of the encoder object."
   ]
  },
  {
   "cell_type": "code",
   "execution_count": 4,
   "metadata": {},
   "outputs": [
    {
     "name": "stdout",
     "output_type": "stream",
     "text": [
      "[[0. 1. 0. 1. 0. 1. 0. 0.]\n",
      " [1. 0. 1. 0. 0. 0. 0. 1.]\n",
      " [1. 0. 0. 0. 1. 0. 0. 1.]\n",
      " [0. 1. 1. 0. 0. 0. 1. 0.]\n",
      " [0. 1. 0. 1. 0. 1. 0. 0.]\n",
      " [1. 0. 0. 1. 0. 0. 1. 0.]]\n"
     ]
    }
   ],
   "source": [
    "encoder = OneHotEncoder(sparse=False)\n",
    "encoder.fit(X_cat)\n",
    "X_enc = encoder.transform(X_cat)\n",
    "\n",
    "print(X_enc)"
   ]
  },
  {
   "cell_type": "markdown",
   "metadata": {},
   "source": [
    "The output of the encoder is an array. Since the columns are not labeled, it can be difficult to tell what the new columns refer to. The columns of the original DataFrame are encoded from left to right, and the encoded columns for a particular variable are arranged in alphabetical order by level. \n",
    "\n",
    "It follows that the first two columns of the encoded DataFrame encode the `sex` variable. The first column refers to `F`, and the second to `M`. The next three columns are associated with `emp`, and are arranged in the order `FT`, `PT`, and `U`. The final three columns encode the `reg` variable, and refer to levels `1`, `2`, and `3`, in that order. \n",
    "\n",
    "We will make this clearer by converting the encoded array into a data frame and adding column names."
   ]
  },
  {
   "cell_type": "code",
   "execution_count": 5,
   "metadata": {},
   "outputs": [
    {
     "data": {
      "text/html": [
       "<div>\n",
       "<style scoped>\n",
       "    .dataframe tbody tr th:only-of-type {\n",
       "        vertical-align: middle;\n",
       "    }\n",
       "\n",
       "    .dataframe tbody tr th {\n",
       "        vertical-align: top;\n",
       "    }\n",
       "\n",
       "    .dataframe thead th {\n",
       "        text-align: right;\n",
       "    }\n",
       "</style>\n",
       "<table border=\"1\" class=\"dataframe\">\n",
       "  <thead>\n",
       "    <tr style=\"text-align: right;\">\n",
       "      <th></th>\n",
       "      <th>sex_F</th>\n",
       "      <th>sex_M</th>\n",
       "      <th>emp_FT</th>\n",
       "      <th>emp_PT</th>\n",
       "      <th>emp_U</th>\n",
       "      <th>reg_1</th>\n",
       "      <th>reg_2</th>\n",
       "      <th>reg_3</th>\n",
       "    </tr>\n",
       "  </thead>\n",
       "  <tbody>\n",
       "    <tr>\n",
       "      <th>0</th>\n",
       "      <td>0</td>\n",
       "      <td>1</td>\n",
       "      <td>0</td>\n",
       "      <td>1</td>\n",
       "      <td>0</td>\n",
       "      <td>1</td>\n",
       "      <td>0</td>\n",
       "      <td>0</td>\n",
       "    </tr>\n",
       "    <tr>\n",
       "      <th>1</th>\n",
       "      <td>1</td>\n",
       "      <td>0</td>\n",
       "      <td>1</td>\n",
       "      <td>0</td>\n",
       "      <td>0</td>\n",
       "      <td>0</td>\n",
       "      <td>0</td>\n",
       "      <td>1</td>\n",
       "    </tr>\n",
       "    <tr>\n",
       "      <th>2</th>\n",
       "      <td>1</td>\n",
       "      <td>0</td>\n",
       "      <td>0</td>\n",
       "      <td>0</td>\n",
       "      <td>1</td>\n",
       "      <td>0</td>\n",
       "      <td>0</td>\n",
       "      <td>1</td>\n",
       "    </tr>\n",
       "    <tr>\n",
       "      <th>3</th>\n",
       "      <td>0</td>\n",
       "      <td>1</td>\n",
       "      <td>1</td>\n",
       "      <td>0</td>\n",
       "      <td>0</td>\n",
       "      <td>0</td>\n",
       "      <td>1</td>\n",
       "      <td>0</td>\n",
       "    </tr>\n",
       "    <tr>\n",
       "      <th>4</th>\n",
       "      <td>0</td>\n",
       "      <td>1</td>\n",
       "      <td>0</td>\n",
       "      <td>1</td>\n",
       "      <td>0</td>\n",
       "      <td>1</td>\n",
       "      <td>0</td>\n",
       "      <td>0</td>\n",
       "    </tr>\n",
       "    <tr>\n",
       "      <th>5</th>\n",
       "      <td>1</td>\n",
       "      <td>0</td>\n",
       "      <td>0</td>\n",
       "      <td>1</td>\n",
       "      <td>0</td>\n",
       "      <td>0</td>\n",
       "      <td>1</td>\n",
       "      <td>0</td>\n",
       "    </tr>\n",
       "  </tbody>\n",
       "</table>\n",
       "</div>"
      ],
      "text/plain": [
       "   sex_F  sex_M  emp_FT  emp_PT  emp_U  reg_1  reg_2  reg_3\n",
       "0      0      1       0       1      0      1      0      0\n",
       "1      1      0       1       0      0      0      0      1\n",
       "2      1      0       0       0      1      0      0      1\n",
       "3      0      1       1       0      0      0      1      0\n",
       "4      0      1       0       1      0      1      0      0\n",
       "5      1      0       0       1      0      0      1      0"
      ]
     },
     "execution_count": 5,
     "metadata": {},
     "output_type": "execute_result"
    }
   ],
   "source": [
    "X_enc_df = pd.DataFrame(X_enc.astype('int'))\n",
    "X_enc_df.columns = ['sex_F', 'sex_M', 'emp_FT', 'emp_PT', \n",
    "                  'emp_U', 'reg_1', 'reg_2', 'reg_3']\n",
    "X_enc_df"
   ]
  },
  {
   "cell_type": "markdown",
   "metadata": {},
   "source": [
    "To help illustrate how the encoding was performed, we will now join the original DataFrame with the encoded DataFrame."
   ]
  },
  {
   "cell_type": "code",
   "execution_count": 6,
   "metadata": {},
   "outputs": [
    {
     "data": {
      "text/html": [
       "<div>\n",
       "<style scoped>\n",
       "    .dataframe tbody tr th:only-of-type {\n",
       "        vertical-align: middle;\n",
       "    }\n",
       "\n",
       "    .dataframe tbody tr th {\n",
       "        vertical-align: top;\n",
       "    }\n",
       "\n",
       "    .dataframe thead th {\n",
       "        text-align: right;\n",
       "    }\n",
       "</style>\n",
       "<table border=\"1\" class=\"dataframe\">\n",
       "  <thead>\n",
       "    <tr style=\"text-align: right;\">\n",
       "      <th></th>\n",
       "      <th>sex</th>\n",
       "      <th>emp</th>\n",
       "      <th>reg</th>\n",
       "      <th>---</th>\n",
       "      <th>sex_F</th>\n",
       "      <th>sex_M</th>\n",
       "      <th>emp_FT</th>\n",
       "      <th>emp_PT</th>\n",
       "      <th>emp_U</th>\n",
       "      <th>reg_1</th>\n",
       "      <th>reg_2</th>\n",
       "      <th>reg_3</th>\n",
       "    </tr>\n",
       "  </thead>\n",
       "  <tbody>\n",
       "    <tr>\n",
       "      <th>0</th>\n",
       "      <td>M</td>\n",
       "      <td>PT</td>\n",
       "      <td>1</td>\n",
       "      <td>---</td>\n",
       "      <td>0</td>\n",
       "      <td>1</td>\n",
       "      <td>0</td>\n",
       "      <td>1</td>\n",
       "      <td>0</td>\n",
       "      <td>1</td>\n",
       "      <td>0</td>\n",
       "      <td>0</td>\n",
       "    </tr>\n",
       "    <tr>\n",
       "      <th>1</th>\n",
       "      <td>F</td>\n",
       "      <td>FT</td>\n",
       "      <td>3</td>\n",
       "      <td>---</td>\n",
       "      <td>1</td>\n",
       "      <td>0</td>\n",
       "      <td>1</td>\n",
       "      <td>0</td>\n",
       "      <td>0</td>\n",
       "      <td>0</td>\n",
       "      <td>0</td>\n",
       "      <td>1</td>\n",
       "    </tr>\n",
       "    <tr>\n",
       "      <th>2</th>\n",
       "      <td>F</td>\n",
       "      <td>U</td>\n",
       "      <td>3</td>\n",
       "      <td>---</td>\n",
       "      <td>1</td>\n",
       "      <td>0</td>\n",
       "      <td>0</td>\n",
       "      <td>0</td>\n",
       "      <td>1</td>\n",
       "      <td>0</td>\n",
       "      <td>0</td>\n",
       "      <td>1</td>\n",
       "    </tr>\n",
       "    <tr>\n",
       "      <th>3</th>\n",
       "      <td>M</td>\n",
       "      <td>FT</td>\n",
       "      <td>2</td>\n",
       "      <td>---</td>\n",
       "      <td>0</td>\n",
       "      <td>1</td>\n",
       "      <td>1</td>\n",
       "      <td>0</td>\n",
       "      <td>0</td>\n",
       "      <td>0</td>\n",
       "      <td>1</td>\n",
       "      <td>0</td>\n",
       "    </tr>\n",
       "    <tr>\n",
       "      <th>4</th>\n",
       "      <td>M</td>\n",
       "      <td>PT</td>\n",
       "      <td>1</td>\n",
       "      <td>---</td>\n",
       "      <td>0</td>\n",
       "      <td>1</td>\n",
       "      <td>0</td>\n",
       "      <td>1</td>\n",
       "      <td>0</td>\n",
       "      <td>1</td>\n",
       "      <td>0</td>\n",
       "      <td>0</td>\n",
       "    </tr>\n",
       "    <tr>\n",
       "      <th>5</th>\n",
       "      <td>F</td>\n",
       "      <td>PT</td>\n",
       "      <td>2</td>\n",
       "      <td>---</td>\n",
       "      <td>1</td>\n",
       "      <td>0</td>\n",
       "      <td>0</td>\n",
       "      <td>1</td>\n",
       "      <td>0</td>\n",
       "      <td>0</td>\n",
       "      <td>1</td>\n",
       "      <td>0</td>\n",
       "    </tr>\n",
       "  </tbody>\n",
       "</table>\n",
       "</div>"
      ],
      "text/plain": [
       "  sex emp  reg  ---  sex_F  sex_M  emp_FT  emp_PT  emp_U  reg_1  reg_2  reg_3\n",
       "0   M  PT    1  ---      0      1       0       1      0      1      0      0\n",
       "1   F  FT    3  ---      1      0       1       0      0      0      0      1\n",
       "2   F   U    3  ---      1      0       0       0      1      0      0      1\n",
       "3   M  FT    2  ---      0      1       1       0      0      0      1      0\n",
       "4   M  PT    1  ---      0      1       0       1      0      1      0      0\n",
       "5   F  PT    2  ---      1      0       0       1      0      0      1      0"
      ]
     },
     "execution_count": 6,
     "metadata": {},
     "output_type": "execute_result"
    }
   ],
   "source": [
    "sep = pd.DataFrame({'---':['---']*6})\n",
    "pd.concat([X_cat, sep, X_enc_df], axis=1)"
   ]
  },
  {
   "cell_type": "markdown",
   "metadata": {},
   "source": [
    "## Feature Scaling\n",
    "\n",
    "For some supervised learning models, it is important for all of the numerical features to be on roughly the same scale. When working with these models, it is typically necessary to scale any numerical features prior to using them to create a supervised learning model. \n",
    "\n",
    "We will discuss two common scaling techniques: **Min-Max Scaling** and **Standard Scaling** (or **Standardization**)."
   ]
  },
  {
   "cell_type": "markdown",
   "metadata": {},
   "source": [
    "## Min-Max Scaling\n",
    "\n",
    "Let $X$ refer to a feature in a dataset. Let $x_{min}$ be the smallest value of $X$ for observations in the set, and let $x_{max}$ be the largest value of $X$ for observations in the set. \n",
    "\n",
    "If $x_0$ is a value of $X$ for an observation, its scaled value is given by: $\\large w_0 = \\frac{x_0 ~-~ x_{min}}{x_{max} ~-~ x_{min}}$\n",
    "\n",
    "When using min-max scaling to scale features, each feature in the scaled set will have values ranging between 0 and 1.\n",
    "\n",
    "We can perform min-max scaling using the `MinMaxScaler` class from `sklearn.preprocessing`."
   ]
  },
  {
   "cell_type": "code",
   "execution_count": 7,
   "metadata": {},
   "outputs": [],
   "source": [
    "from sklearn.preprocessing import MinMaxScaler"
   ]
  },
  {
   "cell_type": "markdown",
   "metadata": {},
   "source": [
    "We will now see an example of applying min-max scaling to numerical features.\n",
    "\n",
    "## Example: Min-Max Scaling\n",
    "\n",
    "Assume that we are creating a supervised learning model to predict the prices of houses. Suppose our dataset contains the following three numerical features:\n",
    "\n",
    "* **`rooms`** - The number of rooms in the house.\n",
    "* **`sqft`** - The size of the living area of the house, in square feet.\n",
    "* **`lot`** - The size of the lot, in acres. \n",
    "\n",
    "Suppose our dataset consists of the following 6 observations:"
   ]
  },
  {
   "cell_type": "code",
   "execution_count": 8,
   "metadata": {},
   "outputs": [
    {
     "data": {
      "text/html": [
       "<div>\n",
       "<style scoped>\n",
       "    .dataframe tbody tr th:only-of-type {\n",
       "        vertical-align: middle;\n",
       "    }\n",
       "\n",
       "    .dataframe tbody tr th {\n",
       "        vertical-align: top;\n",
       "    }\n",
       "\n",
       "    .dataframe thead th {\n",
       "        text-align: right;\n",
       "    }\n",
       "</style>\n",
       "<table border=\"1\" class=\"dataframe\">\n",
       "  <thead>\n",
       "    <tr style=\"text-align: right;\">\n",
       "      <th></th>\n",
       "      <th>rooms</th>\n",
       "      <th>sqft</th>\n",
       "      <th>lot</th>\n",
       "    </tr>\n",
       "  </thead>\n",
       "  <tbody>\n",
       "    <tr>\n",
       "      <th>0</th>\n",
       "      <td>10</td>\n",
       "      <td>2100</td>\n",
       "      <td>0.34</td>\n",
       "    </tr>\n",
       "    <tr>\n",
       "      <th>1</th>\n",
       "      <td>12</td>\n",
       "      <td>3400</td>\n",
       "      <td>0.45</td>\n",
       "    </tr>\n",
       "    <tr>\n",
       "      <th>2</th>\n",
       "      <td>8</td>\n",
       "      <td>1800</td>\n",
       "      <td>0.24</td>\n",
       "    </tr>\n",
       "    <tr>\n",
       "      <th>3</th>\n",
       "      <td>11</td>\n",
       "      <td>2900</td>\n",
       "      <td>0.49</td>\n",
       "    </tr>\n",
       "    <tr>\n",
       "      <th>4</th>\n",
       "      <td>10</td>\n",
       "      <td>2800</td>\n",
       "      <td>0.37</td>\n",
       "    </tr>\n",
       "    <tr>\n",
       "      <th>5</th>\n",
       "      <td>9</td>\n",
       "      <td>2300</td>\n",
       "      <td>0.28</td>\n",
       "    </tr>\n",
       "  </tbody>\n",
       "</table>\n",
       "</div>"
      ],
      "text/plain": [
       "   rooms  sqft   lot\n",
       "0     10  2100  0.34\n",
       "1     12  3400  0.45\n",
       "2      8  1800  0.24\n",
       "3     11  2900  0.49\n",
       "4     10  2800  0.37\n",
       "5      9  2300  0.28"
      ]
     },
     "execution_count": 8,
     "metadata": {},
     "output_type": "execute_result"
    }
   ],
   "source": [
    "X_num = pd.DataFrame({\n",
    "    'rooms':[10, 12, 8, 11, 10, 9], \n",
    "    'sqft':[2100, 3400, 1800, 2900, 2800, 2300],\n",
    "    'lot':[0.34, 0.45, 0.24, 0.49, 0.37, 0.28]\n",
    "})\n",
    "\n",
    "X_num"
   ]
  },
  {
   "cell_type": "markdown",
   "metadata": {},
   "source": [
    "Using `MinMaxScaler` to perform feature scaling is a three step process:\n",
    "1. Create an instance of the scaler object. \n",
    "2. Fit the scaler to the data using the **`fit()`** method. This does not actually perform the scaling. It simply learns the min and max values for each feature.\n",
    "3. We then perform the scaling using the **`transform()`** method of the scaler object."
   ]
  },
  {
   "cell_type": "code",
   "execution_count": 9,
   "metadata": {},
   "outputs": [
    {
     "name": "stdout",
     "output_type": "stream",
     "text": [
      "[[0.5    0.1875 0.4   ]\n",
      " [1.     1.     0.84  ]\n",
      " [0.     0.     0.    ]\n",
      " [0.75   0.6875 1.    ]\n",
      " [0.5    0.625  0.52  ]\n",
      " [0.25   0.3125 0.16  ]]\n"
     ]
    }
   ],
   "source": [
    "mm_scaler = MinMaxScaler()\n",
    "mm_scaler.fit(X_num.astype('float'))\n",
    "X_mm = mm_scaler.transform(X_num.astype('float'))\n",
    "print(X_mm)"
   ]
  },
  {
   "cell_type": "markdown",
   "metadata": {},
   "source": [
    "In the cell below, we display the scaled values next to the original feature values."
   ]
  },
  {
   "cell_type": "code",
   "execution_count": 10,
   "metadata": {},
   "outputs": [
    {
     "data": {
      "text/html": [
       "<div>\n",
       "<style scoped>\n",
       "    .dataframe tbody tr th:only-of-type {\n",
       "        vertical-align: middle;\n",
       "    }\n",
       "\n",
       "    .dataframe tbody tr th {\n",
       "        vertical-align: top;\n",
       "    }\n",
       "\n",
       "    .dataframe thead th {\n",
       "        text-align: right;\n",
       "    }\n",
       "</style>\n",
       "<table border=\"1\" class=\"dataframe\">\n",
       "  <thead>\n",
       "    <tr style=\"text-align: right;\">\n",
       "      <th></th>\n",
       "      <th>rooms</th>\n",
       "      <th>sqft</th>\n",
       "      <th>lot</th>\n",
       "      <th>---</th>\n",
       "      <th>rooms_mm</th>\n",
       "      <th>sqft_mm</th>\n",
       "      <th>lot_mm</th>\n",
       "    </tr>\n",
       "  </thead>\n",
       "  <tbody>\n",
       "    <tr>\n",
       "      <th>0</th>\n",
       "      <td>10</td>\n",
       "      <td>2100</td>\n",
       "      <td>0.34</td>\n",
       "      <td>---</td>\n",
       "      <td>0.50</td>\n",
       "      <td>0.1875</td>\n",
       "      <td>0.40</td>\n",
       "    </tr>\n",
       "    <tr>\n",
       "      <th>1</th>\n",
       "      <td>12</td>\n",
       "      <td>3400</td>\n",
       "      <td>0.45</td>\n",
       "      <td>---</td>\n",
       "      <td>1.00</td>\n",
       "      <td>1.0000</td>\n",
       "      <td>0.84</td>\n",
       "    </tr>\n",
       "    <tr>\n",
       "      <th>2</th>\n",
       "      <td>8</td>\n",
       "      <td>1800</td>\n",
       "      <td>0.24</td>\n",
       "      <td>---</td>\n",
       "      <td>0.00</td>\n",
       "      <td>0.0000</td>\n",
       "      <td>0.00</td>\n",
       "    </tr>\n",
       "    <tr>\n",
       "      <th>3</th>\n",
       "      <td>11</td>\n",
       "      <td>2900</td>\n",
       "      <td>0.49</td>\n",
       "      <td>---</td>\n",
       "      <td>0.75</td>\n",
       "      <td>0.6875</td>\n",
       "      <td>1.00</td>\n",
       "    </tr>\n",
       "    <tr>\n",
       "      <th>4</th>\n",
       "      <td>10</td>\n",
       "      <td>2800</td>\n",
       "      <td>0.37</td>\n",
       "      <td>---</td>\n",
       "      <td>0.50</td>\n",
       "      <td>0.6250</td>\n",
       "      <td>0.52</td>\n",
       "    </tr>\n",
       "    <tr>\n",
       "      <th>5</th>\n",
       "      <td>9</td>\n",
       "      <td>2300</td>\n",
       "      <td>0.28</td>\n",
       "      <td>---</td>\n",
       "      <td>0.25</td>\n",
       "      <td>0.3125</td>\n",
       "      <td>0.16</td>\n",
       "    </tr>\n",
       "  </tbody>\n",
       "</table>\n",
       "</div>"
      ],
      "text/plain": [
       "   rooms  sqft   lot  ---  rooms_mm  sqft_mm  lot_mm\n",
       "0     10  2100  0.34  ---      0.50   0.1875    0.40\n",
       "1     12  3400  0.45  ---      1.00   1.0000    0.84\n",
       "2      8  1800  0.24  ---      0.00   0.0000    0.00\n",
       "3     11  2900  0.49  ---      0.75   0.6875    1.00\n",
       "4     10  2800  0.37  ---      0.50   0.6250    0.52\n",
       "5      9  2300  0.28  ---      0.25   0.3125    0.16"
      ]
     },
     "execution_count": 10,
     "metadata": {},
     "output_type": "execute_result"
    }
   ],
   "source": [
    "X_mm_df = pd.DataFrame(X_mm)\n",
    "X_mm_df.columns = ['rooms_mm', 'sqft_mm', 'lot_mm']\n",
    "pd.concat([X_num, sep, X_mm_df], axis=1)"
   ]
  },
  {
   "cell_type": "markdown",
   "metadata": {},
   "source": [
    "## Standard Scaling\n",
    "\n",
    "Let $X$ refer to a feature in a dataset. Let $\\bar x$ be the mean of $X$ values for observations in the set, and let $s_X$ be the standard deviation of $X$ for observations in the set. \n",
    "\n",
    "If $x_0$ is a value of $X$ for an observation, its standard scaled value is given by: $\\large z_0 = \\frac{x_0 ~-~ \\bar x}{s_X}$\n",
    "\n",
    "When using standardication to scale features, then each feature in the scaled set will have a mean of 0 and a standard deviation of 1. \n",
    "\n",
    "We can perform standardization using the `StandardScaler` class from `sklearn.preprocessing`."
   ]
  },
  {
   "cell_type": "code",
   "execution_count": 11,
   "metadata": {},
   "outputs": [],
   "source": [
    "from sklearn.preprocessing import StandardScaler"
   ]
  },
  {
   "cell_type": "markdown",
   "metadata": {},
   "source": [
    "We will now see an example of standard scaling of numerical features.\n",
    "\n",
    "## Example: Standard Scaling\n",
    "\n",
    "We will demonstrate standard scaling using the housing data from the previous example. "
   ]
  },
  {
   "cell_type": "code",
   "execution_count": 12,
   "metadata": {},
   "outputs": [
    {
     "data": {
      "text/html": [
       "<div>\n",
       "<style scoped>\n",
       "    .dataframe tbody tr th:only-of-type {\n",
       "        vertical-align: middle;\n",
       "    }\n",
       "\n",
       "    .dataframe tbody tr th {\n",
       "        vertical-align: top;\n",
       "    }\n",
       "\n",
       "    .dataframe thead th {\n",
       "        text-align: right;\n",
       "    }\n",
       "</style>\n",
       "<table border=\"1\" class=\"dataframe\">\n",
       "  <thead>\n",
       "    <tr style=\"text-align: right;\">\n",
       "      <th></th>\n",
       "      <th>rooms</th>\n",
       "      <th>sqft</th>\n",
       "      <th>lot</th>\n",
       "    </tr>\n",
       "  </thead>\n",
       "  <tbody>\n",
       "    <tr>\n",
       "      <th>0</th>\n",
       "      <td>10</td>\n",
       "      <td>2100</td>\n",
       "      <td>0.34</td>\n",
       "    </tr>\n",
       "    <tr>\n",
       "      <th>1</th>\n",
       "      <td>12</td>\n",
       "      <td>3400</td>\n",
       "      <td>0.45</td>\n",
       "    </tr>\n",
       "    <tr>\n",
       "      <th>2</th>\n",
       "      <td>8</td>\n",
       "      <td>1800</td>\n",
       "      <td>0.24</td>\n",
       "    </tr>\n",
       "    <tr>\n",
       "      <th>3</th>\n",
       "      <td>11</td>\n",
       "      <td>2900</td>\n",
       "      <td>0.49</td>\n",
       "    </tr>\n",
       "    <tr>\n",
       "      <th>4</th>\n",
       "      <td>10</td>\n",
       "      <td>2800</td>\n",
       "      <td>0.37</td>\n",
       "    </tr>\n",
       "    <tr>\n",
       "      <th>5</th>\n",
       "      <td>9</td>\n",
       "      <td>2300</td>\n",
       "      <td>0.28</td>\n",
       "    </tr>\n",
       "  </tbody>\n",
       "</table>\n",
       "</div>"
      ],
      "text/plain": [
       "   rooms  sqft   lot\n",
       "0     10  2100  0.34\n",
       "1     12  3400  0.45\n",
       "2      8  1800  0.24\n",
       "3     11  2900  0.49\n",
       "4     10  2800  0.37\n",
       "5      9  2300  0.28"
      ]
     },
     "execution_count": 12,
     "metadata": {},
     "output_type": "execute_result"
    }
   ],
   "source": [
    "X_num"
   ]
  },
  {
   "cell_type": "markdown",
   "metadata": {},
   "source": [
    "Using `StandardScaler` to perform feature scaling is a three step process:\n",
    "1. Create an instance of the scaler object. \n",
    "2. Fit the scaler to the data using the **`fit()`** method. This does not actually perform the scaling. It simply learns the mean and standard deviation for each feature.\n",
    "3. We then perform the scaling using the **`transform()`** method of the scaler object."
   ]
  },
  {
   "cell_type": "code",
   "execution_count": 13,
   "metadata": {},
   "outputs": [
    {
     "name": "stdout",
     "output_type": "stream",
     "text": [
      "[[ 0.         -0.83683223 -0.2466922 ]\n",
      " [ 1.54919334  1.5806831   1.00574511]\n",
      " [-1.54919334 -1.39472039 -1.38527157]\n",
      " [ 0.77459667  0.65086951  1.46117686]\n",
      " [ 0.          0.4649068   0.09488161]\n",
      " [-0.77459667 -0.4649068  -0.92983982]]\n"
     ]
    }
   ],
   "source": [
    "ss_scaler = StandardScaler()\n",
    "ss_scaler.fit(X_num.astype('float'))\n",
    "X_ss = ss_scaler.transform(X_num.astype('float'))\n",
    "print(X_ss)"
   ]
  },
  {
   "cell_type": "markdown",
   "metadata": {},
   "source": [
    "In the cell below, we display the scaled values next to the original feature values."
   ]
  },
  {
   "cell_type": "code",
   "execution_count": 14,
   "metadata": {},
   "outputs": [
    {
     "data": {
      "text/html": [
       "<div>\n",
       "<style scoped>\n",
       "    .dataframe tbody tr th:only-of-type {\n",
       "        vertical-align: middle;\n",
       "    }\n",
       "\n",
       "    .dataframe tbody tr th {\n",
       "        vertical-align: top;\n",
       "    }\n",
       "\n",
       "    .dataframe thead th {\n",
       "        text-align: right;\n",
       "    }\n",
       "</style>\n",
       "<table border=\"1\" class=\"dataframe\">\n",
       "  <thead>\n",
       "    <tr style=\"text-align: right;\">\n",
       "      <th></th>\n",
       "      <th>rooms</th>\n",
       "      <th>sqft</th>\n",
       "      <th>lot</th>\n",
       "      <th>---</th>\n",
       "      <th>rooms_ss</th>\n",
       "      <th>sqft_ss</th>\n",
       "      <th>lot_ss</th>\n",
       "    </tr>\n",
       "  </thead>\n",
       "  <tbody>\n",
       "    <tr>\n",
       "      <th>0</th>\n",
       "      <td>10</td>\n",
       "      <td>2100</td>\n",
       "      <td>0.34</td>\n",
       "      <td>---</td>\n",
       "      <td>0.000000</td>\n",
       "      <td>-0.836832</td>\n",
       "      <td>-0.246692</td>\n",
       "    </tr>\n",
       "    <tr>\n",
       "      <th>1</th>\n",
       "      <td>12</td>\n",
       "      <td>3400</td>\n",
       "      <td>0.45</td>\n",
       "      <td>---</td>\n",
       "      <td>1.549193</td>\n",
       "      <td>1.580683</td>\n",
       "      <td>1.005745</td>\n",
       "    </tr>\n",
       "    <tr>\n",
       "      <th>2</th>\n",
       "      <td>8</td>\n",
       "      <td>1800</td>\n",
       "      <td>0.24</td>\n",
       "      <td>---</td>\n",
       "      <td>-1.549193</td>\n",
       "      <td>-1.394720</td>\n",
       "      <td>-1.385272</td>\n",
       "    </tr>\n",
       "    <tr>\n",
       "      <th>3</th>\n",
       "      <td>11</td>\n",
       "      <td>2900</td>\n",
       "      <td>0.49</td>\n",
       "      <td>---</td>\n",
       "      <td>0.774597</td>\n",
       "      <td>0.650870</td>\n",
       "      <td>1.461177</td>\n",
       "    </tr>\n",
       "    <tr>\n",
       "      <th>4</th>\n",
       "      <td>10</td>\n",
       "      <td>2800</td>\n",
       "      <td>0.37</td>\n",
       "      <td>---</td>\n",
       "      <td>0.000000</td>\n",
       "      <td>0.464907</td>\n",
       "      <td>0.094882</td>\n",
       "    </tr>\n",
       "    <tr>\n",
       "      <th>5</th>\n",
       "      <td>9</td>\n",
       "      <td>2300</td>\n",
       "      <td>0.28</td>\n",
       "      <td>---</td>\n",
       "      <td>-0.774597</td>\n",
       "      <td>-0.464907</td>\n",
       "      <td>-0.929840</td>\n",
       "    </tr>\n",
       "  </tbody>\n",
       "</table>\n",
       "</div>"
      ],
      "text/plain": [
       "   rooms  sqft   lot  ---  rooms_ss   sqft_ss    lot_ss\n",
       "0     10  2100  0.34  ---  0.000000 -0.836832 -0.246692\n",
       "1     12  3400  0.45  ---  1.549193  1.580683  1.005745\n",
       "2      8  1800  0.24  --- -1.549193 -1.394720 -1.385272\n",
       "3     11  2900  0.49  ---  0.774597  0.650870  1.461177\n",
       "4     10  2800  0.37  ---  0.000000  0.464907  0.094882\n",
       "5      9  2300  0.28  --- -0.774597 -0.464907 -0.929840"
      ]
     },
     "execution_count": 14,
     "metadata": {},
     "output_type": "execute_result"
    }
   ],
   "source": [
    "X_ss_df = pd.DataFrame(X_ss)\n",
    "X_ss_df.columns = ['rooms_ss', 'sqft_ss', 'lot_ss']\n",
    "pd.concat([X_num, sep, X_ss_df], axis=1)"
   ]
  },
  {
   "cell_type": "markdown",
   "metadata": {},
   "source": [
    "## Feature Scaling and Training, Validation, and Test Sets\n",
    "\n",
    "When using scaled features to create a supervised learning model, it is important that the feature scaler is fit using the exact same data set that the model will be trained on. From the perspective of using `sklearn`, this means that the `fit()` method of a scaler object should only ever be used on the training set. Once the scaler has been fit to the training set, its `transform()` method can then be used to scale the validation set, the training set, or a set of newly collected data. "
   ]
  },
  {
   "cell_type": "markdown",
   "metadata": {},
   "source": [
    "## Example: Scaling a Test Set\n",
    "\n",
    "Returning to our housing example, assume that we have used the previous six observations to train a model. "
   ]
  },
  {
   "cell_type": "code",
   "execution_count": 15,
   "metadata": {},
   "outputs": [
    {
     "data": {
      "text/html": [
       "<div>\n",
       "<style scoped>\n",
       "    .dataframe tbody tr th:only-of-type {\n",
       "        vertical-align: middle;\n",
       "    }\n",
       "\n",
       "    .dataframe tbody tr th {\n",
       "        vertical-align: top;\n",
       "    }\n",
       "\n",
       "    .dataframe thead th {\n",
       "        text-align: right;\n",
       "    }\n",
       "</style>\n",
       "<table border=\"1\" class=\"dataframe\">\n",
       "  <thead>\n",
       "    <tr style=\"text-align: right;\">\n",
       "      <th></th>\n",
       "      <th>rooms</th>\n",
       "      <th>sqft</th>\n",
       "      <th>lot</th>\n",
       "    </tr>\n",
       "  </thead>\n",
       "  <tbody>\n",
       "    <tr>\n",
       "      <th>0</th>\n",
       "      <td>10</td>\n",
       "      <td>2100</td>\n",
       "      <td>0.34</td>\n",
       "    </tr>\n",
       "    <tr>\n",
       "      <th>1</th>\n",
       "      <td>12</td>\n",
       "      <td>3400</td>\n",
       "      <td>0.45</td>\n",
       "    </tr>\n",
       "    <tr>\n",
       "      <th>2</th>\n",
       "      <td>8</td>\n",
       "      <td>1800</td>\n",
       "      <td>0.24</td>\n",
       "    </tr>\n",
       "    <tr>\n",
       "      <th>3</th>\n",
       "      <td>11</td>\n",
       "      <td>2900</td>\n",
       "      <td>0.49</td>\n",
       "    </tr>\n",
       "    <tr>\n",
       "      <th>4</th>\n",
       "      <td>10</td>\n",
       "      <td>2800</td>\n",
       "      <td>0.37</td>\n",
       "    </tr>\n",
       "    <tr>\n",
       "      <th>5</th>\n",
       "      <td>9</td>\n",
       "      <td>2300</td>\n",
       "      <td>0.28</td>\n",
       "    </tr>\n",
       "  </tbody>\n",
       "</table>\n",
       "</div>"
      ],
      "text/plain": [
       "   rooms  sqft   lot\n",
       "0     10  2100  0.34\n",
       "1     12  3400  0.45\n",
       "2      8  1800  0.24\n",
       "3     11  2900  0.49\n",
       "4     10  2800  0.37\n",
       "5      9  2300  0.28"
      ]
     },
     "execution_count": 15,
     "metadata": {},
     "output_type": "execute_result"
    }
   ],
   "source": [
    "X_num_train = X_num\n",
    "X_num_train"
   ]
  },
  {
   "cell_type": "markdown",
   "metadata": {},
   "source": [
    "Suppse we ultimately wish to test our model using the following three observations."
   ]
  },
  {
   "cell_type": "code",
   "execution_count": 16,
   "metadata": {},
   "outputs": [
    {
     "data": {
      "text/html": [
       "<div>\n",
       "<style scoped>\n",
       "    .dataframe tbody tr th:only-of-type {\n",
       "        vertical-align: middle;\n",
       "    }\n",
       "\n",
       "    .dataframe tbody tr th {\n",
       "        vertical-align: top;\n",
       "    }\n",
       "\n",
       "    .dataframe thead th {\n",
       "        text-align: right;\n",
       "    }\n",
       "</style>\n",
       "<table border=\"1\" class=\"dataframe\">\n",
       "  <thead>\n",
       "    <tr style=\"text-align: right;\">\n",
       "      <th></th>\n",
       "      <th>rooms</th>\n",
       "      <th>sqft</th>\n",
       "      <th>lot</th>\n",
       "    </tr>\n",
       "  </thead>\n",
       "  <tbody>\n",
       "    <tr>\n",
       "      <th>0</th>\n",
       "      <td>11</td>\n",
       "      <td>3200</td>\n",
       "      <td>0.56</td>\n",
       "    </tr>\n",
       "    <tr>\n",
       "      <th>1</th>\n",
       "      <td>8</td>\n",
       "      <td>1600</td>\n",
       "      <td>0.31</td>\n",
       "    </tr>\n",
       "    <tr>\n",
       "      <th>2</th>\n",
       "      <td>10</td>\n",
       "      <td>2700</td>\n",
       "      <td>0.42</td>\n",
       "    </tr>\n",
       "  </tbody>\n",
       "</table>\n",
       "</div>"
      ],
      "text/plain": [
       "   rooms  sqft   lot\n",
       "0     11  3200  0.56\n",
       "1      8  1600  0.31\n",
       "2     10  2700  0.42"
      ]
     },
     "execution_count": 16,
     "metadata": {},
     "output_type": "execute_result"
    }
   ],
   "source": [
    "X_num_test = pd.DataFrame({\n",
    "    'rooms':[11, 8, 10], \n",
    "    'sqft':[3200, 1600, 2700],\n",
    "    'lot':[0.56, 0.31, 0.42]\n",
    "})\n",
    "\n",
    "X_num_test"
   ]
  },
  {
   "cell_type": "markdown",
   "metadata": {},
   "source": [
    "If we were to apply min-max scaling, we would need to first fit the scaler to the training set, and then apply it to both the training and test sets. "
   ]
  },
  {
   "cell_type": "code",
   "execution_count": 17,
   "metadata": {},
   "outputs": [],
   "source": [
    "mm_scaler = MinMaxScaler()\n",
    "mm_scaler.fit(X_num_train.astype('float'))\n",
    "\n",
    "X_mm_train = mm_scaler.transform(X_num_train.astype('float'))\n",
    "X_mm_test = mm_scaler.transform(X_num_test.astype('float'))"
   ]
  },
  {
   "cell_type": "code",
   "execution_count": 18,
   "metadata": {},
   "outputs": [
    {
     "name": "stdout",
     "output_type": "stream",
     "text": [
      "[[0.5    0.1875 0.4   ]\n",
      " [1.     1.     0.84  ]\n",
      " [0.     0.     0.    ]\n",
      " [0.75   0.6875 1.    ]\n",
      " [0.5    0.625  0.52  ]\n",
      " [0.25   0.3125 0.16  ]]\n"
     ]
    }
   ],
   "source": [
    "print(X_mm_train)"
   ]
  },
  {
   "cell_type": "code",
   "execution_count": 19,
   "metadata": {},
   "outputs": [
    {
     "name": "stdout",
     "output_type": "stream",
     "text": [
      "[[ 0.75    0.875   1.28  ]\n",
      " [ 0.     -0.125   0.28  ]\n",
      " [ 0.5     0.5625  0.72  ]]\n"
     ]
    }
   ],
   "source": [
    "print(X_mm_test)"
   ]
  },
  {
   "cell_type": "markdown",
   "metadata": {},
   "source": [
    "Note that the values in the scaled version of the training set are all between 0 and 1. That is not the case for the scaled version of the test set. If an observation in the test set contains a feature value that is less than the minimum value of that feature in the training set, then its scaled value will be negative. Likewise, if a feature value in the test set is larger than the maximum of that feature in the training set, then its scaled value will be greater than 1. "
   ]
  },
  {
   "cell_type": "markdown",
   "metadata": {},
   "source": [
    "## Example: Titanic Dataset\n",
    "\n",
    "We will now provide an example illustrating how to use feature scaling, one-hot encoding, and data splitting to prepare data for use in creating a model. \n",
    "\n",
    "For this example, we will be using the Titanic Dataset. This dataset contains the following pieces of information for each of the 887 passengers on the voyage of the Titanic. \n",
    "\n",
    "* **`Survived`** - Binary variable indicating whether or not the passenger survived the voyage. \n",
    "* **`Pclass`** - Categorical variable indicating the passenger class. \n",
    "* **`Name`** - The Passenger's name.\n",
    "* **`Sex`** - Categorical variable indicating the sex of the passenger. \n",
    "* **`Age`** - Age of the passenger."
   ]
  },
  {
   "cell_type": "code",
   "execution_count": 20,
   "metadata": {},
   "outputs": [
    {
     "data": {
      "text/html": [
       "<div>\n",
       "<style scoped>\n",
       "    .dataframe tbody tr th:only-of-type {\n",
       "        vertical-align: middle;\n",
       "    }\n",
       "\n",
       "    .dataframe tbody tr th {\n",
       "        vertical-align: top;\n",
       "    }\n",
       "\n",
       "    .dataframe thead th {\n",
       "        text-align: right;\n",
       "    }\n",
       "</style>\n",
       "<table border=\"1\" class=\"dataframe\">\n",
       "  <thead>\n",
       "    <tr style=\"text-align: right;\">\n",
       "      <th></th>\n",
       "      <th>Survived</th>\n",
       "      <th>Pclass</th>\n",
       "      <th>Name</th>\n",
       "      <th>Sex</th>\n",
       "      <th>Age</th>\n",
       "    </tr>\n",
       "  </thead>\n",
       "  <tbody>\n",
       "    <tr>\n",
       "      <th>0</th>\n",
       "      <td>0</td>\n",
       "      <td>3</td>\n",
       "      <td>Mr. Owen Harris Braund</td>\n",
       "      <td>male</td>\n",
       "      <td>22.0</td>\n",
       "    </tr>\n",
       "    <tr>\n",
       "      <th>1</th>\n",
       "      <td>1</td>\n",
       "      <td>1</td>\n",
       "      <td>Mrs. John Bradley (Florence Briggs Thayer) Cum...</td>\n",
       "      <td>female</td>\n",
       "      <td>38.0</td>\n",
       "    </tr>\n",
       "    <tr>\n",
       "      <th>2</th>\n",
       "      <td>1</td>\n",
       "      <td>3</td>\n",
       "      <td>Miss. Laina Heikkinen</td>\n",
       "      <td>female</td>\n",
       "      <td>26.0</td>\n",
       "    </tr>\n",
       "    <tr>\n",
       "      <th>3</th>\n",
       "      <td>1</td>\n",
       "      <td>1</td>\n",
       "      <td>Mrs. Jacques Heath (Lily May Peel) Futrelle</td>\n",
       "      <td>female</td>\n",
       "      <td>35.0</td>\n",
       "    </tr>\n",
       "    <tr>\n",
       "      <th>4</th>\n",
       "      <td>0</td>\n",
       "      <td>3</td>\n",
       "      <td>Mr. William Henry Allen</td>\n",
       "      <td>male</td>\n",
       "      <td>35.0</td>\n",
       "    </tr>\n",
       "    <tr>\n",
       "      <th>5</th>\n",
       "      <td>0</td>\n",
       "      <td>3</td>\n",
       "      <td>Mr. James Moran</td>\n",
       "      <td>male</td>\n",
       "      <td>27.0</td>\n",
       "    </tr>\n",
       "    <tr>\n",
       "      <th>6</th>\n",
       "      <td>0</td>\n",
       "      <td>1</td>\n",
       "      <td>Mr. Timothy J McCarthy</td>\n",
       "      <td>male</td>\n",
       "      <td>54.0</td>\n",
       "    </tr>\n",
       "    <tr>\n",
       "      <th>7</th>\n",
       "      <td>0</td>\n",
       "      <td>3</td>\n",
       "      <td>Master. Gosta Leonard Palsson</td>\n",
       "      <td>male</td>\n",
       "      <td>2.0</td>\n",
       "    </tr>\n",
       "    <tr>\n",
       "      <th>8</th>\n",
       "      <td>1</td>\n",
       "      <td>3</td>\n",
       "      <td>Mrs. Oscar W (Elisabeth Vilhelmina Berg) Johnson</td>\n",
       "      <td>female</td>\n",
       "      <td>27.0</td>\n",
       "    </tr>\n",
       "    <tr>\n",
       "      <th>9</th>\n",
       "      <td>1</td>\n",
       "      <td>2</td>\n",
       "      <td>Mrs. Nicholas (Adele Achem) Nasser</td>\n",
       "      <td>female</td>\n",
       "      <td>14.0</td>\n",
       "    </tr>\n",
       "  </tbody>\n",
       "</table>\n",
       "</div>"
      ],
      "text/plain": [
       "   Survived  Pclass                                               Name  \\\n",
       "0         0       3                             Mr. Owen Harris Braund   \n",
       "1         1       1  Mrs. John Bradley (Florence Briggs Thayer) Cum...   \n",
       "2         1       3                              Miss. Laina Heikkinen   \n",
       "3         1       1        Mrs. Jacques Heath (Lily May Peel) Futrelle   \n",
       "4         0       3                            Mr. William Henry Allen   \n",
       "5         0       3                                    Mr. James Moran   \n",
       "6         0       1                             Mr. Timothy J McCarthy   \n",
       "7         0       3                      Master. Gosta Leonard Palsson   \n",
       "8         1       3   Mrs. Oscar W (Elisabeth Vilhelmina Berg) Johnson   \n",
       "9         1       2                 Mrs. Nicholas (Adele Achem) Nasser   \n",
       "\n",
       "      Sex   Age  \n",
       "0    male  22.0  \n",
       "1  female  38.0  \n",
       "2  female  26.0  \n",
       "3  female  35.0  \n",
       "4    male  35.0  \n",
       "5    male  27.0  \n",
       "6    male  54.0  \n",
       "7    male   2.0  \n",
       "8  female  27.0  \n",
       "9  female  14.0  "
      ]
     },
     "execution_count": 20,
     "metadata": {},
     "output_type": "execute_result"
    }
   ],
   "source": [
    "titanic = pd.read_csv('data/titanic.txt', sep='\\t')\n",
    "titanic.head(10)"
   ]
  },
  {
   "cell_type": "markdown",
   "metadata": {},
   "source": [
    "### Extracting Labels\n",
    "\n",
    "Suppose we are interested in creating a model to predict whether or not a passenger would survive based on their passenger class, sex, and age. We will start by extracting the labels from the DataFrame."
   ]
  },
  {
   "cell_type": "code",
   "execution_count": 21,
   "metadata": {},
   "outputs": [
    {
     "name": "stdout",
     "output_type": "stream",
     "text": [
      "(887,)\n"
     ]
    }
   ],
   "source": [
    "y = titanic.loc[:, 'Survived']\n",
    "print(y.shape)"
   ]
  },
  {
   "cell_type": "markdown",
   "metadata": {},
   "source": [
    "### Separating Categorical and Numerical Features\n",
    "\n",
    "Since `Pclass` and `Sex` are categorical variables, we will need to apply one-hot encoding to these. Suppose that we wish to apply min-max scaling to the single numerical variable, `Age`. Since these features require different types of processing, we will split these into two different DataFrames. "
   ]
  },
  {
   "cell_type": "code",
   "execution_count": 22,
   "metadata": {},
   "outputs": [
    {
     "name": "stdout",
     "output_type": "stream",
     "text": [
      "(887, 2)\n"
     ]
    }
   ],
   "source": [
    "X_cat = titanic.loc[:, ['Pclass', 'Sex']]\n",
    "print(X_cat.shape)"
   ]
  },
  {
   "cell_type": "code",
   "execution_count": 23,
   "metadata": {},
   "outputs": [
    {
     "name": "stdout",
     "output_type": "stream",
     "text": [
      "(887, 1)\n"
     ]
    }
   ],
   "source": [
    "X_num = titanic.loc[:, ['Age']]\n",
    "print(X_num.shape)"
   ]
  },
  {
   "cell_type": "markdown",
   "metadata": {},
   "source": [
    "### One-Hot Encoding of Categorical Variables\n",
    "\n",
    "We will apply one-hot encoding to the categorical variables."
   ]
  },
  {
   "cell_type": "code",
   "execution_count": 24,
   "metadata": {},
   "outputs": [
    {
     "name": "stdout",
     "output_type": "stream",
     "text": [
      "(887, 5)\n"
     ]
    }
   ],
   "source": [
    "encoder = OneHotEncoder(sparse=False)\n",
    "encoder.fit(X_cat)\n",
    "X_enc = encoder.transform(X_cat)\n",
    "print(X_enc.shape)"
   ]
  },
  {
   "cell_type": "markdown",
   "metadata": {},
   "source": [
    "### Splitting the Data\n",
    "\n",
    "Recall that a feature scaler must be trained only on the training data. As a result, we must perform our train/validation/test split before performing scaling. Suppose we wish to create a 70/15/15 split."
   ]
  },
  {
   "cell_type": "code",
   "execution_count": 25,
   "metadata": {},
   "outputs": [
    {
     "name": "stdout",
     "output_type": "stream",
     "text": [
      "(620, 1)\n",
      "(133, 1)\n",
      "(134, 1)\n"
     ]
    }
   ],
   "source": [
    "X_num_train, X_num_hold, y_train, y_hold =\\\n",
    "    train_test_split(X_num, y, test_size = 0.3, random_state=1, stratify=y)\n",
    "\n",
    "X_num_valid, X_num_test, y_valid, y_test =\\\n",
    "    train_test_split(X_num_hold, y_hold, test_size = 0.5, random_state=1, stratify=y_hold)\n",
    "\n",
    "print(X_num_train.shape)\n",
    "print(X_num_valid.shape)\n",
    "print(X_num_test.shape)"
   ]
  },
  {
   "cell_type": "markdown",
   "metadata": {},
   "source": [
    "Since we will eventually want to merge our encoded categorical features back with the scaled numerical features, we should also perform the same split on our encoded categorical feature array. "
   ]
  },
  {
   "cell_type": "code",
   "execution_count": 26,
   "metadata": {},
   "outputs": [
    {
     "name": "stdout",
     "output_type": "stream",
     "text": [
      "(620, 5)\n",
      "(133, 5)\n",
      "(134, 5)\n"
     ]
    }
   ],
   "source": [
    "X_enc_train, X_enc_hold, y_train, y_hold =\\\n",
    "    train_test_split(X_enc, y, test_size = 0.3, random_state=1, stratify=y)\n",
    "\n",
    "X_enc_valid, X_enc_test, y_valid, y_test =\\\n",
    "    train_test_split(X_enc_hold, y_hold, test_size = 0.5, random_state=1, stratify=y_hold)\n",
    "\n",
    "print(X_enc_train.shape)\n",
    "print(X_enc_valid.shape)\n",
    "print(X_enc_test.shape)"
   ]
  },
  {
   "cell_type": "markdown",
   "metadata": {},
   "source": [
    "### Scaling Numerical Features.\n",
    "\n",
    "We will now apply min-max scaling to the single numerical feature."
   ]
  },
  {
   "cell_type": "code",
   "execution_count": 27,
   "metadata": {},
   "outputs": [
    {
     "name": "stdout",
     "output_type": "stream",
     "text": [
      "(620, 1)\n",
      "(133, 1)\n",
      "(134, 1)\n"
     ]
    }
   ],
   "source": [
    "mm_scaler = MinMaxScaler()\n",
    "mm_scaler.fit(X_num_train.astype('float'))\n",
    "\n",
    "X_mm_train = mm_scaler.transform(X_num_train.astype('float'))\n",
    "X_mm_valid = mm_scaler.transform(X_num_valid.astype('float'))\n",
    "X_mm_test = mm_scaler.transform(X_num_test.astype('float'))\n",
    "\n",
    "print(X_mm_train.shape)\n",
    "print(X_mm_valid.shape)\n",
    "print(X_mm_test.shape)"
   ]
  },
  {
   "cell_type": "markdown",
   "metadata": {},
   "source": [
    "### Recombining Feature Arrays\n",
    "\n",
    "We have completed the desired encoding and scaling of features. We must now combine the encoded categorical features with the scaled numerical features. We will need to do this for the training set, the validation set, and the test set. "
   ]
  },
  {
   "cell_type": "code",
   "execution_count": 28,
   "metadata": {},
   "outputs": [
    {
     "name": "stdout",
     "output_type": "stream",
     "text": [
      "(620, 6)\n",
      "(133, 6)\n",
      "(134, 6)\n"
     ]
    }
   ],
   "source": [
    "X_train = np.hstack([X_enc_train, X_mm_train])\n",
    "X_valid = np.hstack([X_enc_valid, X_mm_valid])\n",
    "X_test = np.hstack([X_enc_test, X_mm_test])\n",
    "\n",
    "print(X_train.shape)\n",
    "print(X_valid.shape)\n",
    "print(X_test.shape)"
   ]
  },
  {
   "cell_type": "markdown",
   "metadata": {},
   "source": [
    "### Moving on to the Modeling Step\n",
    "\n",
    "We are now ready to use the processed data to create supervised learning models. We will discuss this process in more detail in future lectures. However, to provide a quick example of the modeling process, we will train three models on the training set. In particular, we will train a logistic regression model, a decision tree model, and a KNN model. We will score each model on the validation set. "
   ]
  },
  {
   "cell_type": "code",
   "execution_count": 29,
   "metadata": {},
   "outputs": [
    {
     "name": "stdout",
     "output_type": "stream",
     "text": [
      "Model 1 Training Accuracy:   0.8\n",
      "Model 1 Validation Accuracy: 0.7593984962406015\n",
      "\n",
      "Model 2 Training Accuracy:   0.8274193548387097\n",
      "Model 2 Validation Accuracy: 0.7669172932330827\n",
      "\n",
      "Model 3 Training Accuracy:   0.8419354838709677\n",
      "Model 3 Validation Accuracy: 0.7894736842105263\n"
     ]
    }
   ],
   "source": [
    "from sklearn.linear_model import LogisticRegression\n",
    "from sklearn.neighbors import KNeighborsClassifier\n",
    "from sklearn.tree import DecisionTreeClassifier\n",
    "\n",
    "model_1 = LogisticRegression(solver='lbfgs')\n",
    "model_1.fit(X_train, y_train)\n",
    "\n",
    "model_2 = DecisionTreeClassifier(max_depth=4)\n",
    "model_2.fit(X_train, y_train)\n",
    "\n",
    "model_3 = KNeighborsClassifier(n_neighbors=8)\n",
    "model_3.fit(X_train, y_train)\n",
    "\n",
    "print(\"Model 1 Training Accuracy:  \", model_1.score(X_train, y_train))\n",
    "print(\"Model 1 Validation Accuracy:\", model_1.score(X_valid, y_valid))\n",
    "print()\n",
    "print(\"Model 2 Training Accuracy:  \", model_2.score(X_train, y_train))\n",
    "print(\"Model 2 Validation Accuracy:\", model_2.score(X_valid, y_valid))\n",
    "print()\n",
    "print(\"Model 3 Training Accuracy:  \", model_3.score(X_train, y_train))\n",
    "print(\"Model 3 Validation Accuracy:\", model_3.score(X_valid, y_valid))"
   ]
  },
  {
   "cell_type": "markdown",
   "metadata": {},
   "source": [
    "Model 3 has the best performance on the validation set. We will select Model 3 to be our final model and score it one last time on the test set. "
   ]
  },
  {
   "cell_type": "code",
   "execution_count": 30,
   "metadata": {},
   "outputs": [
    {
     "name": "stdout",
     "output_type": "stream",
     "text": [
      "Model 1 Testing Accuracy:   0.7835820895522388\n"
     ]
    }
   ],
   "source": [
    "print(\"Model 1 Testing Accuracy:  \", model_3.score(X_test, y_test))"
   ]
  }
 ],
 "metadata": {
  "kernelspec": {
   "display_name": "Python 3",
   "language": "python",
   "name": "python3"
  },
  "language_info": {
   "codemirror_mode": {
    "name": "ipython",
    "version": 3
   },
   "file_extension": ".py",
   "mimetype": "text/x-python",
   "name": "python",
   "nbconvert_exporter": "python",
   "pygments_lexer": "ipython3",
   "version": "3.7.1"
  }
 },
 "nbformat": 4,
 "nbformat_minor": 4
}
