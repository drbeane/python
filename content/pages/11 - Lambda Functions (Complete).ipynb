{
 "cells": [
  {
   "cell_type": "markdown",
   "metadata": {},
   "source": [
    "# Lesson 11 - Lambda Functions\n",
    "\n",
    "### The following topics are discussed in this notebook:\n",
    "* Lambda functions."
   ]
  },
  {
   "cell_type": "markdown",
   "metadata": {},
   "source": [
    "## Lambda Functions"
   ]
  },
  {
   "cell_type": "markdown",
   "metadata": {},
   "source": [
    "A **lambda** function in Python is an anonymous (nameless) function that can be defined using a single line of code. They are useful for defining functions that are intended to be passed in as the argument for some other function. \n",
    "\n",
    "We typically define functions in Python by using the **`def`** keyword. In the following cell, we used **`def`** to define a function `g()` that accepts a single input and then returns the square of that input. "
   ]
  },
  {
   "cell_type": "code",
   "execution_count": 1,
   "metadata": {},
   "outputs": [
    {
     "name": "stdout",
     "output_type": "stream",
     "text": [
      "16\n"
     ]
    }
   ],
   "source": [
    "def g(x):\n",
    "    return x**2\n",
    "\n",
    "print(g(4))"
   ]
  },
  {
   "cell_type": "markdown",
   "metadata": {},
   "source": [
    "In the next cell, we will define the same function `g()`, but this time using the **`lambda`** keyword. The syntax for defining a lambda function is as follows:\n",
    "\n",
    "    lambda (parameters) : (formula for return value)\n",
    "    \n",
    "This expression will return the described function. In the cell below, we assign the returned function to the variable `g`.\n"
   ]
  },
  {
   "cell_type": "code",
   "execution_count": 2,
   "metadata": {},
   "outputs": [
    {
     "name": "stdout",
     "output_type": "stream",
     "text": [
      "16\n"
     ]
    }
   ],
   "source": [
    "g = lambda x : x**2\n",
    "\n",
    "print(g(4))"
   ]
  },
  {
   "cell_type": "markdown",
   "metadata": {},
   "source": [
    "Note that we did not have to assign the returned function to a variable in order to use it. In the cell below, we define the function, and then immediately pass the argument 4 to the function, getting an output of 16. However, in this case, the function will not be accessible outside of the line in which it was defined. "
   ]
  },
  {
   "cell_type": "code",
   "execution_count": 3,
   "metadata": {},
   "outputs": [
    {
     "data": {
      "text/plain": [
       "16"
      ]
     },
     "execution_count": 3,
     "metadata": {},
     "output_type": "execute_result"
    }
   ],
   "source": [
    "(lambda x : x**2)(4)"
   ]
  },
  {
   "cell_type": "markdown",
   "metadata": {},
   "source": [
    "As shown in the cell below, lambda functions can be defined using more than one parameter. "
   ]
  },
  {
   "cell_type": "code",
   "execution_count": 4,
   "metadata": {},
   "outputs": [
    {
     "name": "stdout",
     "output_type": "stream",
     "text": [
      "7\n"
     ]
    }
   ],
   "source": [
    "h = lambda x, y : x + y**2\n",
    "print(h(3,2))"
   ]
  },
  {
   "cell_type": "markdown",
   "metadata": {},
   "source": [
    "Lambda functions are useful when you need to provide a simple function as an argument for another function. We will now illustrate this concept using the `filter()` and `map()` functions."
   ]
  },
  {
   "cell_type": "markdown",
   "metadata": {},
   "source": [
    "## The `filter()` Function\n",
    "\n",
    "The `filter()` function provides us with a way of subsetting lists by selecting elements that satisfy a certain condition. The syntax for `filter()` is:\n",
    "\n",
    "    filter(my_function, my_list)\n",
    "    \n",
    "The function provided to filter should accept elements of the list as arguments, and should return a Boolean value. Elements of `my_list` for which `my_function` returns `True` will be included in the results. All other elements will be filtered out. \n",
    "\n",
    "You might expect that `filter()` would return a list. It actually returns a specialized `filter` object. The reasons for this are somewhat beyond the scope of our current discussion, but suffice it to say that `filter` objects can simply be coerced into lists. \n",
    "\n",
    "Let's consider an example."
   ]
  },
  {
   "cell_type": "code",
   "execution_count": 5,
   "metadata": {},
   "outputs": [
    {
     "name": "stdout",
     "output_type": "stream",
     "text": [
      "[4, 3, 2, 4, 1]\n"
     ]
    }
   ],
   "source": [
    "num_list = [4, 7, 3, 2, 8, 4, 5, 6, 1, 7, 9]\n",
    "\n",
    "def less_than_5(x):\n",
    "    return x < 5\n",
    "\n",
    "filter_results = filter(less_than_5, num_list)\n",
    "filtered_list = list(filter_results)\n",
    "print(filtered_list)"
   ]
  },
  {
   "cell_type": "markdown",
   "metadata": {},
   "source": [
    "We can obtain the same results more concisely using a lambda function."
   ]
  },
  {
   "cell_type": "code",
   "execution_count": 6,
   "metadata": {},
   "outputs": [
    {
     "name": "stdout",
     "output_type": "stream",
     "text": [
      "[4, 3, 2, 4, 1]\n"
     ]
    }
   ],
   "source": [
    "filter_results = filter(lambda x : x < 5, num_list)\n",
    "filtered_list = list(filter_results)\n",
    "print(filtered_list)"
   ]
  },
  {
   "cell_type": "markdown",
   "metadata": {},
   "source": [
    "If we use lambda functions, we don't have to create a new function every time we wish to apply a filter."
   ]
  },
  {
   "cell_type": "code",
   "execution_count": 7,
   "metadata": {},
   "outputs": [
    {
     "name": "stdout",
     "output_type": "stream",
     "text": [
      "[7, 8, 5, 6, 7, 9]\n"
     ]
    }
   ],
   "source": [
    "filter_results = filter(lambda x : x > 4, num_list)\n",
    "filtered_list = list(filter_results)\n",
    "print(filtered_list)"
   ]
  },
  {
   "cell_type": "markdown",
   "metadata": {},
   "source": [
    "We can apply filters to lists containing any sort of information. Here we have an example of applying `filter` to a list of strings. "
   ]
  },
  {
   "cell_type": "code",
   "execution_count": 8,
   "metadata": {},
   "outputs": [],
   "source": [
    "pres_list = ['George Washington', 'John Adams', 'Thomas Jefferson', \n",
    "             'James Madison', 'John Quincy Adams', 'Andrew Jackson']"
   ]
  },
  {
   "cell_type": "code",
   "execution_count": 9,
   "metadata": {},
   "outputs": [
    {
     "name": "stdout",
     "output_type": "stream",
     "text": [
      "['John Adams', 'Thomas Jefferson', 'James Madison', 'John Quincy Adams', 'Andrew Jackson']\n"
     ]
    }
   ],
   "source": [
    "print(list(filter(lambda x: 'J' in x, pres_list)))"
   ]
  },
  {
   "cell_type": "code",
   "execution_count": 10,
   "metadata": {},
   "outputs": [
    {
     "name": "stdout",
     "output_type": "stream",
     "text": [
      "['John Adams', 'Thomas Jefferson', 'James Madison', 'John Quincy Adams']\n"
     ]
    }
   ],
   "source": [
    "print(list(filter(lambda x: 'm' in x.lower(), pres_list)))"
   ]
  },
  {
   "cell_type": "code",
   "execution_count": 11,
   "metadata": {},
   "outputs": [
    {
     "name": "stdout",
     "output_type": "stream",
     "text": [
      "['John Adams', 'James Madison', 'John Quincy Adams']\n"
     ]
    }
   ],
   "source": [
    "print(list(filter(lambda x: 'ad' in x.lower(), pres_list)))"
   ]
  },
  {
   "cell_type": "markdown",
   "metadata": {},
   "source": [
    "The example below shows how to apply `filter` to keep only the numerical elements within a list."
   ]
  },
  {
   "cell_type": "code",
   "execution_count": 12,
   "metadata": {},
   "outputs": [
    {
     "name": "stdout",
     "output_type": "stream",
     "text": [
      "[6, 4.0, 3, 9.5]\n"
     ]
    }
   ],
   "source": [
    "mixed_type_list = [6, '7', 4.0, [4, 1, 6], True, 3, 9.5]\n",
    "\n",
    "f_res = filter(lambda x : type(x) == int or type(x) == float, mixed_type_list)\n",
    "just_numbers = list(f_res)\n",
    "print(just_numbers)"
   ]
  },
  {
   "cell_type": "markdown",
   "metadata": {},
   "source": [
    "## The `map()` Function\n",
    "\n",
    "The `map()` function allows us to apply a function to every element of a list. The syntax is similar to that of `filter`:\n",
    "\n",
    "    map(my_function, my_list)\n",
    "    \n",
    "The function provided to map should accept elements of the list as arguments, and returns the result of some type of calculation. As with `filter()`, the `map()` function does not return a list. It returns a `map` object. However, we can coerce a `map` object into a list.\n",
    "\n",
    "Let's consider some examples.\n"
   ]
  },
  {
   "cell_type": "code",
   "execution_count": 13,
   "metadata": {},
   "outputs": [
    {
     "name": "stdout",
     "output_type": "stream",
     "text": [
      "[17, 10, 16, 13, 17, 14]\n"
     ]
    }
   ],
   "source": [
    "map_res = map(len, pres_list)\n",
    "len_list = list(map_res)\n",
    "print(len_list)"
   ]
  },
  {
   "cell_type": "code",
   "execution_count": 14,
   "metadata": {},
   "outputs": [
    {
     "name": "stdout",
     "output_type": "stream",
     "text": [
      "['GEORGE WASHINGTON', 'JOHN ADAMS', 'THOMAS JEFFERSON', 'JAMES MADISON', 'JOHN QUINCY ADAMS', 'ANDREW JACKSON']\n"
     ]
    }
   ],
   "source": [
    "print(list(map(lambda x : x.upper(), pres_list)))"
   ]
  },
  {
   "cell_type": "code",
   "execution_count": 15,
   "metadata": {
    "scrolled": true
   },
   "outputs": [
    {
     "name": "stdout",
     "output_type": "stream",
     "text": [
      "[4, 7, 3, 2, 8, 4, 5, 6, 1, 7, 9]\n"
     ]
    }
   ],
   "source": [
    "print(num_list)"
   ]
  },
  {
   "cell_type": "code",
   "execution_count": 16,
   "metadata": {
    "scrolled": true
   },
   "outputs": [
    {
     "name": "stdout",
     "output_type": "stream",
     "text": [
      "[16, 49, 9, 4, 64, 16, 25, 36, 1, 49, 81]\n"
     ]
    }
   ],
   "source": [
    "print(list(map(lambda x : x**2, num_list)))"
   ]
  },
  {
   "cell_type": "code",
   "execution_count": 17,
   "metadata": {},
   "outputs": [
    {
     "name": "stdout",
     "output_type": "stream",
     "text": [
      "[2.0, 2.6458, 1.7321, 1.4142, 2.8284, 2.0, 2.2361, 2.4495, 1.0, 2.6458, 3.0]\n"
     ]
    }
   ],
   "source": [
    "print(list(map(lambda x : round(x**0.5, 4), num_list)))"
   ]
  }
 ],
 "metadata": {
  "kernelspec": {
   "display_name": "Python 3",
   "language": "python",
   "name": "python3"
  },
  "language_info": {
   "codemirror_mode": {
    "name": "ipython",
    "version": 3
   },
   "file_extension": ".py",
   "mimetype": "text/x-python",
   "name": "python",
   "nbconvert_exporter": "python",
   "pygments_lexer": "ipython3",
   "version": "3.7.1"
  }
 },
 "nbformat": 4,
 "nbformat_minor": 2
}
