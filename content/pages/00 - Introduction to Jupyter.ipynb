{
 "cells": [
  {
   "cell_type": "markdown",
   "metadata": {},
   "source": [
    "# Lesson 00 - Introduction to Jupyter\n",
    "\n",
    "### The following topics are discussed in this notebook:\n",
    "* Creating and evaluating code cells in Jupyter.\n",
    "* Creating Markdown cells in Jupyter.\n"
   ]
  },
  {
   "cell_type": "markdown",
   "metadata": {},
   "source": [
    "## Markdown Cells\n",
    "\n",
    "This is a *markdown cell*. It cantains formatted text. When creating a markdown cell, you can use special syntax to create the following types of formatted text (as well as many others):\n",
    "\n",
    "* Headers\n",
    "* Bold or italicized text\n",
    "* Numbered or bulleted lists\n",
    "* Hyperlinks\n",
    "\n",
    "Markdown cells are used in notebooks to provide instructions, or to describe the purpose of code cells. \n",
    "\n",
    "**Double click on this markdown cell to enter edit mode to see how the formatting contained inside of it was created. Then type `[CTRL] + [ENTER]` to leave edit mode.**"
   ]
  },
  {
   "cell_type": "markdown",
   "metadata": {},
   "source": [
    "## Code Cells\n",
    "\n",
    "Code cells are used to execute one or more lines of Python code. These lines of code provide Python with instructions about the types of task that you would like it to perform. \n",
    "\n",
    "The cell below is a code cell. You can tell that it is a code cell by noting the `In []` to the left of the cell.\n",
    "\n",
    "To execute the code cell below, click in the cell (or directly to the left of it) and type `[CTRL] + [ENTER]`. \n",
    "\n"
   ]
  },
  {
   "cell_type": "code",
   "execution_count": null,
   "metadata": {},
   "outputs": [],
   "source": [
    "3 + 6"
   ]
  },
  {
   "cell_type": "markdown",
   "metadata": {},
   "source": [
    "Notice that the result of the command was displayed as output. When a cell has several lines of code, only the last line with have its output displayed. To see this, execute the code cell below. "
   ]
  },
  {
   "cell_type": "code",
   "execution_count": null,
   "metadata": {},
   "outputs": [],
   "source": [
    "6 * 7\n",
    "5 * 4"
   ]
  },
  {
   "cell_type": "markdown",
   "metadata": {},
   "source": [
    "We can display the output of multiple lines within the same cell by using the `print` function. To see this in action, please execute the cell below. "
   ]
  },
  {
   "cell_type": "code",
   "execution_count": null,
   "metadata": {},
   "outputs": [],
   "source": [
    "print(6 * 7)\n",
    "print(5 * 4)"
   ]
  },
  {
   "cell_type": "markdown",
   "metadata": {},
   "source": [
    "It is good practice to put any output that you would like displayed inside of a `print` function, even if your cell has only one line that actually produces output."
   ]
  },
  {
   "cell_type": "markdown",
   "metadata": {},
   "source": [
    "## Comments \n",
    "\n",
    "A comment is a line in a code cell that begins with the symbeol #. A comment does not produce any results when the cell is ran. Comments are generally used to for two purposes:\n",
    "\n",
    "1. To document your code by describing the purpose of sections of your program. \n",
    "2. To temporarily disable a line of code that you don't want to delete, but that you don't currently want to execute."
   ]
  },
  {
   "cell_type": "code",
   "execution_count": null,
   "metadata": {},
   "outputs": [],
   "source": [
    "# The line below will print 19. \n",
    "print(3 * 4 + 7)   \n",
    "\n",
    "# The line below will not print anything.\n",
    "# print(5 + 3 * 7)\n",
    "\n",
    "# We can also place comments at the end of a line of code. \n",
    "print(3 * (2 + 5) ) # This line will print 21"
   ]
  },
  {
   "cell_type": "markdown",
   "metadata": {},
   "source": [
    "## Creating new Code Cells. \n",
    "\n",
    "You can create cells below above or below a currently existing cell by clicking on the existing cell and typing `[a]` for above, and `[b]` for below. Single-click on this cell to select it, and then hit `[b]` twice to create two cells below this one. \n",
    "\n",
    "Add one line of code to each cell to accomplish the following tasks:\n",
    "1. In the first cell, print the result of (8 - 3) * (8 + 3)\n",
    "2. In the second cell, print the result of 7 + 12 / (9 - 3)\n",
    "\n"
   ]
  },
  {
   "cell_type": "markdown",
   "metadata": {},
   "source": [
    "## Creating new Markdown Cells\n",
    "\n",
    "Create a new markdown cell below this one by completing the following steps:\n",
    "\n",
    "1. Select this cell by single-clicking on it. \n",
    "2. Type `[b]` to insert a new code cell below this one. \n",
    "3. Select the new cell by single-clicking to the left of it (don't click directly inside of the cell). \n",
    "4. Type `[m]` to convert the cell to a mark-down cell. \n",
    "5. Inside of the cell, type the message below, using the same type of formatting. \n",
    "\n",
    "*This* is a **markdown** cell. "
   ]
  },
  {
   "cell_type": "markdown",
   "metadata": {},
   "source": [
    "## Deleting Cells\n",
    "\n",
    "To delete a cell, simple select the cell by clicking to the left of it, and then type `[d]` twice. \n",
    "\n",
    "Delete the markdown cell below. "
   ]
  },
  {
   "cell_type": "markdown",
   "metadata": {},
   "source": [
    "Lorem ipsum dolor sit amet, consectetur adipiscing elit. Maecenas quis dolor feugiat, auctor odio tincidunt, elementum augue. Aenean diam est, imperdiet non tristique vel, faucibus eget ex. Cras mauris lectus, tincidunt pretium lacinia eget, pharetra tristique urna. Morbi convallis efficitur velit a hendrerit. Orci varius natoque penatibus et magnis dis parturient montes, nascetur ridiculus mus. Proin lobortis augue non est maximus consequat. Praesent pulvinar nunc at congue faucibus. Vestibulum quis erat pretium, elementum neque sed, mollis nulla. Duis elementum felis eu enim luctus posuere.  "
   ]
  },
  {
   "cell_type": "markdown",
   "metadata": {},
   "source": [
    "## Errors\n",
    "\n",
    "On occasion, a code cell will not be able to execute because it contains an error. To see this in action, attempt to run the cell below. "
   ]
  },
  {
   "cell_type": "code",
   "execution_count": null,
   "metadata": {},
   "outputs": [],
   "source": [
    "print( 1 + 2 + 3 )\n",
    "print( 150 / (12 + 3 * 4 ) )\n",
    "print( 150 / (12 - 3 * 4))\n",
    "print( 2 + 4 + 6 )"
   ]
  },
  {
   "cell_type": "markdown",
   "metadata": {},
   "source": [
    "Comment out the line that causes the error in the cell above, and then re-run that cell. "
   ]
  },
  {
   "cell_type": "markdown",
   "metadata": {},
   "source": [
    "## Variables\n",
    "\n",
    "A variable is something like a container that has both a name and a value. We can use the name of the variable to access the value that it store inside of it. \n",
    "\n",
    "We create a variable called `my_var` in the cell below. "
   ]
  },
  {
   "cell_type": "code",
   "execution_count": null,
   "metadata": {},
   "outputs": [],
   "source": [
    "my_var = 5 * (3 + 2)"
   ]
  },
  {
   "cell_type": "markdown",
   "metadata": {},
   "source": [
    "Notice that creating this variable did not produce any output. However, an object called `my_var` now exists behind the scenes, and has been set to have a value of 25. Any time that we reference `my_var`, it will be evaluated as being equal to 25. "
   ]
  },
  {
   "cell_type": "code",
   "execution_count": null,
   "metadata": {},
   "outputs": [],
   "source": [
    "print(my_var)\n",
    "print(my_var * 4)\n",
    "print(my_var - 12 )"
   ]
  },
  {
   "cell_type": "markdown",
   "metadata": {},
   "source": [
    "## Non-Linear Execution in Jupyter\n",
    "\n",
    "In Jupyter, we are not required to execute the cells one-at-a-time, from top to bottom. We can execute the cells in any order that we want, and we can execute individual cells as many times as we want. \n",
    "\n",
    "This can cause some problems, however. It is possible that the output of our cells will depend on the order in which we execute them. If you do not execute them in order, one-at-a-time, from top-to-bottom, then it might be unclear to someone reading your notebook (for instance a professor) how you are getting the results that are displayed, since the reader won't have any way of knowing what order that you executed the cells in. \n",
    "\n",
    "We will illustrate this with an example. Start by executing the cell below.\n"
   ]
  },
  {
   "cell_type": "code",
   "execution_count": null,
   "metadata": {},
   "outputs": [],
   "source": [
    "x = 5"
   ]
  },
  {
   "cell_type": "markdown",
   "metadata": {},
   "source": [
    "Now execute the following cell several times. "
   ]
  },
  {
   "cell_type": "code",
   "execution_count": null,
   "metadata": {},
   "outputs": [],
   "source": [
    "y = 2 * x\n",
    "x = y - 1\n",
    "\n",
    "print(x)\n",
    "print(y)"
   ]
  },
  {
   "cell_type": "markdown",
   "metadata": {},
   "source": [
    "Ask yourself the following question: If someone was reading this notebook expecting that the cells would be executed one-at-a-time in order, what output would they expect to see from the cell above? "
   ]
  },
  {
   "cell_type": "markdown",
   "metadata": {},
   "source": [
    "## Clearing the Output\n",
    "\n",
    "It is often convenient to clear the results from all of your code cells, and clear out the values of any variables that have been stored in the background. Do that now by performing the following steps:\n",
    "\n",
    "1. Click **Kernel** in the menu above. \n",
    "2. Select **Restart and Clear Output**. "
   ]
  },
  {
   "cell_type": "markdown",
   "metadata": {},
   "source": [
    "# Executing the Entire Notebook\n",
    "\n",
    "I **highly** recommend that before you submit any assignment or project in Jupyter, you clear your output and run it from scratch to make sure that it executes correctly from beginning to end. This is the very first thing that I will do when I am grading your assignments.  \n",
    "\n",
    "To execute all of the cells in the notebook from beginning to end, do the following:\n",
    "1. Click **Kernel** in the menu above. \n",
    "2. Select **Restart and Run All**. \n",
    "\n",
    "Execute this entire notebook now."
   ]
  }
 ],
 "metadata": {
  "kernelspec": {
   "display_name": "Python 3",
   "language": "python",
   "name": "python3"
  },
  "language_info": {
   "codemirror_mode": {
    "name": "ipython",
    "version": 3
   },
   "file_extension": ".py",
   "mimetype": "text/x-python",
   "name": "python",
   "nbconvert_exporter": "python",
   "pygments_lexer": "ipython3",
   "version": "3.7.1"
  }
 },
 "nbformat": 4,
 "nbformat_minor": 2
}
