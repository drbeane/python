{
 "cells": [
  {
   "cell_type": "markdown",
   "metadata": {},
   "source": [
    "# Lesson 06 - For Loops\n",
    "\n",
    "\n",
    "### The following topics are discussed in this notebook:\n",
    "* Looping over ranges\n",
    "* Using loops with lists\n",
    "* Looping over lists\n",
    "\n",
    "### Additional Resources\n",
    "* Chapter 04 of **Python Crash Course**.\n",
    "* [DataCamp: Intermediate Python for Data Science, Chapter 4](https://www.datacamp.com/courses/intermediate-python-for-data-science)\n",
    "\n",
    "\n"
   ]
  },
  {
   "cell_type": "markdown",
   "metadata": {},
   "source": [
    "## Loops\n",
    "\n",
    "A loop is a tool that allows use to tell Python to repeat a task several times, usualy with slight variations each time. We will consider two types of loops in this course: for loops and while loops.\n",
    "\n",
    "We will begin with for loops, but before we can do so, we need to introduce the concept of a range. "
   ]
  },
  {
   "cell_type": "markdown",
   "metadata": {},
   "source": [
    "## Ranges\n",
    "\n",
    "The `range(a, b)` function generates a list of integers beginning with `a` and continuing up to, but **NOT INCLUDING** `b`. \n",
    "\n",
    "A range is not a list, but can be converted into a list.  "
   ]
  },
  {
   "cell_type": "code",
   "execution_count": 1,
   "metadata": {},
   "outputs": [
    {
     "name": "stdout",
     "output_type": "stream",
     "text": [
      "<class 'range'>\n",
      "range(3, 8)\n",
      "[3, 4, 5, 6, 7]\n"
     ]
    }
   ],
   "source": [
    "my_range = range(3,8)\n",
    "print(type(my_range))\n",
    "print(my_range)\n",
    "print(list(my_range))"
   ]
  },
  {
   "cell_type": "markdown",
   "metadata": {},
   "source": [
    "## Looping over Ranges\n",
    "\n",
    "We can use for loops to ask Python to repeat a task a certain number of times. The following example illustrates the basic syntax used to create a for loop. \n",
    "\n",
    "\n"
   ]
  },
  {
   "cell_type": "code",
   "execution_count": 2,
   "metadata": {},
   "outputs": [
    {
     "name": "stdout",
     "output_type": "stream",
     "text": [
      "This should print 5 times.\n",
      "This should print 5 times.\n",
      "This should print 5 times.\n",
      "This should print 5 times.\n",
      "This should print 5 times.\n"
     ]
    }
   ],
   "source": [
    "for i in range(0,5):\n",
    "    print(\"This should print 5 times.\")"
   ]
  },
  {
   "cell_type": "markdown",
   "metadata": {},
   "source": [
    "At a basic level, the first line in the cell below told Python that it should execute the indented line 5 times. In truth, there is more going on under the hood of this for loop. \n",
    "\n",
    "What is actually happening is that the variable `i` starts out being equal to the first value in the range provided. Each time the loop executes, `i` increments by 1 and the loop executes again. This process continues, with `i` taking on each value within the range. \n",
    "\n",
    "Thus, in this example, the `print()` command executes 5 times: First with `i=0`, then with `i=1`, `i=2`,`i=3`, and finally with `i=4`.\n",
    "\n",
    "As it turns out, we can access the current value of `i` from the body of the loop itself. \n"
   ]
  },
  {
   "cell_type": "code",
   "execution_count": 3,
   "metadata": {},
   "outputs": [
    {
     "name": "stdout",
     "output_type": "stream",
     "text": [
      "0\n",
      "1\n",
      "2\n",
      "3\n",
      "4\n"
     ]
    }
   ],
   "source": [
    "for i in range(0,5):\n",
    "    print(i)"
   ]
  },
  {
   "cell_type": "code",
   "execution_count": 4,
   "metadata": {},
   "outputs": [
    {
     "name": "stdout",
     "output_type": "stream",
     "text": [
      "0\n",
      "1\n",
      "4\n",
      "9\n",
      "16\n"
     ]
    }
   ],
   "source": [
    "for i in range(0,5):\n",
    "    print(i**2)"
   ]
  },
  {
   "cell_type": "markdown",
   "metadata": {},
   "source": [
    "The example below illustrates two new ideas relating to for loops:\n",
    "1. The range over which we are looping does not have to begin with 0. \n",
    "2. We can include multiple lines of code within a for loop. Each one must be indented for the loop to recognize the code as part of the loop. "
   ]
  },
  {
   "cell_type": "code",
   "execution_count": 5,
   "metadata": {},
   "outputs": [
    {
     "name": "stdout",
     "output_type": "stream",
     "text": [
      "The square of 1 is 1.\n",
      "The square of 2 is 4.\n",
      "The square of 3 is 9.\n",
      "The square of 4 is 16.\n",
      "The square of 5 is 25.\n",
      "The square of 6 is 36.\n",
      "The square of 7 is 49.\n",
      "The square of 8 is 64.\n",
      "The square of 9 is 81.\n",
      "The square of 10 is 100.\n"
     ]
    }
   ],
   "source": [
    "for i in range(1,11):\n",
    "    message = \"The square of \" + str(i) + \" is \" + str(i**2) + \".\"\n",
    "    print(message)"
   ]
  },
  {
   "cell_type": "markdown",
   "metadata": {},
   "source": [
    "We can also use loops to alter variables that are defined outside of the loop. "
   ]
  },
  {
   "cell_type": "code",
   "execution_count": 6,
   "metadata": {},
   "outputs": [
    {
     "name": "stdout",
     "output_type": "stream",
     "text": [
      "5050\n"
     ]
    }
   ],
   "source": [
    "# Sum the first 100 positive integers\n",
    "total = 0\n",
    "for i in range(1,101):\n",
    "    total += i\n",
    "\n",
    "print(total)"
   ]
  },
  {
   "cell_type": "markdown",
   "metadata": {},
   "source": [
    "The example above provides a usefull illustration of one of the ways that we can use a loop. However, we could have accomplished that particular task by using the `sum()` function rather than a loop."
   ]
  },
  {
   "cell_type": "code",
   "execution_count": 7,
   "metadata": {},
   "outputs": [
    {
     "name": "stdout",
     "output_type": "stream",
     "text": [
      "5050\n"
     ]
    }
   ],
   "source": [
    "print(sum(range(1,101)))"
   ]
  },
  {
   "cell_type": "markdown",
   "metadata": {},
   "source": [
    "## **<font color=\"orangered\" size=\"5\">� Exercise</font>**\n",
    "\n",
    "Write a loop to find the sum of the squares of the first 50 positive integers. Store the sum in a variable called `sum_of_squares`. Print this variable. You should get 42925."
   ]
  },
  {
   "cell_type": "code",
   "execution_count": 8,
   "metadata": {},
   "outputs": [
    {
     "name": "stdout",
     "output_type": "stream",
     "text": [
      "42925\n"
     ]
    }
   ],
   "source": [
    "# Find the sum of the squares of the first 50 positive integers. \n",
    "sum_of_squares = 0\n",
    "\n",
    "for i in range(1, 51):\n",
    "    sum_of_squares = sum_of_squares + i**2\n",
    "    \n",
    "print(sum_of_squares)"
   ]
  },
  {
   "cell_type": "markdown",
   "metadata": {},
   "source": [
    "## Using Loops to Work with Lists\n",
    "One common use of a loop is to perform an action on every element of a list. In this case, we treat the variable `i` as an index for elements in the list. \n",
    "\n",
    "The code in the next cell generates a random list that we will use in the following examples. You do not need to be concerned with understanding how this code works at the moment. "
   ]
  },
  {
   "cell_type": "code",
   "execution_count": 9,
   "metadata": {},
   "outputs": [
    {
     "name": "stdout",
     "output_type": "stream",
     "text": [
      "[17, 72, 97, 8, 32, 15, 63, 57, 60, 83, 48, 26, 12, 62, 3, 49, 55, 77, 0, 92, 34, 29, 75, 13, 40, 85, 2, 74, 69, 1]\n"
     ]
    }
   ],
   "source": [
    "# Generate a random list of integers\n",
    "import random\n",
    "random.seed(1)\n",
    "rand_list = random.sample(range(100), 30)\n",
    "print(rand_list)"
   ]
  },
  {
   "cell_type": "markdown",
   "metadata": {},
   "source": [
    "We have randomly generated a list of integers called `rand_list`. We will now print out the square of every element in this list. "
   ]
  },
  {
   "cell_type": "code",
   "execution_count": 10,
   "metadata": {},
   "outputs": [
    {
     "name": "stdout",
     "output_type": "stream",
     "text": [
      "The square of 17 is 289\n",
      "The square of 72 is 5184\n",
      "The square of 97 is 9409\n",
      "The square of 8 is 64\n",
      "The square of 32 is 1024\n",
      "The square of 15 is 225\n",
      "The square of 63 is 3969\n",
      "The square of 57 is 3249\n",
      "The square of 60 is 3600\n",
      "The square of 83 is 6889\n",
      "The square of 48 is 2304\n",
      "The square of 26 is 676\n",
      "The square of 12 is 144\n",
      "The square of 62 is 3844\n",
      "The square of 3 is 9\n",
      "The square of 49 is 2401\n",
      "The square of 55 is 3025\n",
      "The square of 77 is 5929\n",
      "The square of 0 is 0\n",
      "The square of 92 is 8464\n",
      "The square of 34 is 1156\n",
      "The square of 29 is 841\n",
      "The square of 75 is 5625\n",
      "The square of 13 is 169\n",
      "The square of 40 is 1600\n",
      "The square of 85 is 7225\n",
      "The square of 2 is 4\n",
      "The square of 74 is 5476\n",
      "The square of 69 is 4761\n",
      "The square of 1 is 1\n"
     ]
    }
   ],
   "source": [
    "# print the square of each element in the rand_list\n",
    "\n",
    "n = len(rand_list)\n",
    "for i in range(0,n):\n",
    "    print(\"The square of \" + str(rand_list[i]) + \" is \" + str(rand_list[i] ** 2))"
   ]
  },
  {
   "cell_type": "code",
   "execution_count": 11,
   "metadata": {},
   "outputs": [
    {
     "name": "stdout",
     "output_type": "stream",
     "text": [
      "[289, 5184, 9409, 64, 1024, 225, 3969, 3249, 3600, 6889, 2304, 676, 144, 3844, 9, 2401, 3025, 5929, 0, 8464, 1156, 841, 5625, 169, 1600, 7225, 4, 5476, 4761, 1]\n"
     ]
    }
   ],
   "source": [
    "# Create a list of squares of elts in rand_list\n",
    "\n",
    "rand_squares = []  # Create a blank list.\n",
    "\n",
    "for i in range(0, len(rand_list)):\n",
    "    rand_squares.append(rand_list[i] ** 2)\n",
    "\n",
    "print(rand_squares)"
   ]
  },
  {
   "cell_type": "code",
   "execution_count": 12,
   "metadata": {},
   "outputs": [
    {
     "name": "stdout",
     "output_type": "stream",
     "text": [
      "[34, 144, 194, 16, 64, 30, 126, 114, 120, 166, 96, 52, 24, 124, 6, 98, 110, 154, 0, 184, 68, 58, 150, 26, 80, 170, 4, 148, 138, 2]\n"
     ]
    }
   ],
   "source": [
    "# Double all of the elements of rand_list\n",
    "\n",
    "for i in range(0, len(rand_list)):\n",
    "    rand_list[i] = rand_list[i] * 2\n",
    "    \n",
    "print(rand_list)"
   ]
  },
  {
   "cell_type": "markdown",
   "metadata": {},
   "source": [
    "**<font color=\"orangered\" size=\"5\">� Exercise</font>**\n",
    "\n",
    "The code in the next cell creates two randomly generated lists, `listA` and `listB`. The lists are of the same (unknown) length. In the blank cell below, write code to create a two new lists, `listC` and `listD` as follows:\n",
    "\n",
    "* For each index `i`, `listC[i]` is equal to the sume of `listA[i]` and `listB[i]`. \n",
    "* For each index `i`, `listD[i]` is equal to 2 times `listA[i]` plus 3 times `listB[i]`. \n",
    "\n",
    "Print the smallest and largest elements of both `listC` and `listD`, along with text stating which values are which. If this was done correctly, you should get the results shown below. Attempt to match the formatting shown. \n",
    "\n",
    "    List C: Min = 24, Max = 941\n",
    "    List D: Min = 71, Max = 2369"
   ]
  },
  {
   "cell_type": "code",
   "execution_count": 13,
   "metadata": {},
   "outputs": [],
   "source": [
    "random.seed(37)\n",
    "size = random.choice(range(200,400))\n",
    "listA = random.sample(range(500), size)\n",
    "listB = random.sample(range(500), size)"
   ]
  },
  {
   "cell_type": "code",
   "execution_count": 14,
   "metadata": {},
   "outputs": [
    {
     "name": "stdout",
     "output_type": "stream",
     "text": [
      "List C: Min = 24, Max = 941\n",
      "List D: Min = 71, Max = 2369\n"
     ]
    }
   ],
   "source": [
    "listC = []\n",
    "listD = []\n",
    "\n",
    "for i in range(0, len(listA)):\n",
    "    listC.append(listA[i] + listB[i])\n",
    "    listD.append(2 * listA[i] + 3*listB[i])\n",
    "    \n",
    "print('List C: Min = ' + str(min(listC)) + ', Max = ' + str(max(listC)))\n",
    "print('List D: Min = ' + str(min(listD)) + ', Max = ' + str(max(listD)))"
   ]
  },
  {
   "cell_type": "markdown",
   "metadata": {},
   "source": [
    "**<font color=\"orangered\" size=\"5\">� Exercise</font>**\n",
    "\n",
    "Assume that a company called WidgCo manufactures and sells many different varieties of widgets. In the cell below, four lists are created to contain information about WidgCo's annual sales. \n",
    "\n",
    "* `prodID` is a list that contains the product ID for each variety of widget produced.\n",
    "* `units` is a list containing the number of widgets sold of each type during the previous year. \n",
    "* `unit_price` is a list containing the price per widget for which WidgCo sells each widget type. \n",
    "* `unit_cost` is a list containing the cost to WidgCo for producint a single widget of each type. \n",
    "\n",
    "For any given index `i`, the elements of the four lists at that particular index will all refer to the same widget. Run this cell as is. "
   ]
  },
  {
   "cell_type": "code",
   "execution_count": null,
   "metadata": {},
   "outputs": [],
   "source": [
    "random.seed(37)\n",
    "n = random.choice(range(200,400))\n",
    "prodID = list(range(101, 101+n))\n",
    "units = random.choices(range(100,300), k=n)\n",
    "unit_price = random.choices(range(20,50), k=n)\n",
    "unit_cost = random.choices(range(5,10), k=n)"
   ]
  },
  {
   "cell_type": "markdown",
   "metadata": {},
   "source": [
    "Print the information for the first five product types. The output should be arrange so that information for a particular product type is shown in a row, with the values of `prodID`, `units`, `unit_price`, and `cost` each arranged in a column. Include headers for your columns. \n",
    "\n",
    "Your output should resemble the following (with actual numbers instead of xxx's). Try to math this format exactly. It might be helpful to use the tab escape character, `\\t`.\n",
    "\n",
    "    prodID\t units\t price\t cost\n",
    "    xxx   \t xxx  \t xx   \t x\n",
    "    xxx   \t xxx  \t xx   \t x\n",
    "    xxx   \t xxx  \t xx   \t x\n",
    "    xxx   \t xxx  \t xx   \t x\n",
    "    xxx   \t xxx  \t xx   \t x"
   ]
  },
  {
   "cell_type": "code",
   "execution_count": 16,
   "metadata": {},
   "outputs": [
    {
     "name": "stdout",
     "output_type": "stream",
     "text": [
      "prodID\t units\t price\t cost\n",
      "101 \t 221 \t 42 \t 6\n",
      "102 \t 287 \t 33 \t 9\n",
      "103 \t 233 \t 48 \t 5\n",
      "104 \t 249 \t 23 \t 9\n",
      "105 \t 226 \t 44 \t 6\n"
     ]
    }
   ],
   "source": [
    "print('prodID\\t units\\t price\\t cost')\n",
    "for i in range(0,5):\n",
    "    print(prodID[i], '\\t', units[i], '\\t', \n",
    "          unit_price[i], '\\t', unit_cost[i])"
   ]
  },
  {
   "cell_type": "markdown",
   "metadata": {},
   "source": [
    "Create three new lists named `revenue`, `cost`, and `profit`. \n",
    "\n",
    "* `revenue` should contain the total annual revenue generated by each type of widget.\n",
    "* `cost` should contain the total annual costs incurred by producing each type of widget.\n",
    "* `profit` should contain the total annual profit generated by each type of widget.\n"
   ]
  },
  {
   "cell_type": "code",
   "execution_count": 17,
   "metadata": {},
   "outputs": [],
   "source": [
    "revenue = []\n",
    "cost = []\n",
    "profit = []\n",
    "\n",
    "for i in range(0, len(prodID)):\n",
    "    revenue.append( units[i] * unit_price[i])\n",
    "    cost.append( units[i] * unit_cost[i] )\n",
    "    profit.append( revenue[i] - cost[i] )"
   ]
  },
  {
   "cell_type": "markdown",
   "metadata": {},
   "source": [
    "Create three variables named `total_revenue`, `total_cost`, and `total_profit`. These should be integers containing the sums of the lists created in the previous cell. Print the value of each of these variables with some text indicating which value is which."
   ]
  },
  {
   "cell_type": "code",
   "execution_count": 18,
   "metadata": {},
   "outputs": [
    {
     "name": "stdout",
     "output_type": "stream",
     "text": [
      "Revenue: 2523165\n",
      "Cost:    524894\n",
      "Profit:  1998271\n"
     ]
    }
   ],
   "source": [
    "total_revenue = sum(revenue)\n",
    "total_cost = sum(cost)\n",
    "total_profit = sum(profit)\n",
    "\n",
    "print('Revenue:', total_revenue)\n",
    "print('Cost:   ', total_cost)\n",
    "print('Profit: ', total_profit)"
   ]
  },
  {
   "cell_type": "markdown",
   "metadata": {},
   "source": [
    "Print the `prodID`, `units`, `unit_price`, `unit_cost`, and `profit` for the product that generated the most profit for WidgeCo last year.   "
   ]
  },
  {
   "cell_type": "code",
   "execution_count": 19,
   "metadata": {},
   "outputs": [
    {
     "name": "stdout",
     "output_type": "stream",
     "text": [
      "prodID:     299\n",
      "units:      279\n",
      "unit_price: 48\n",
      "unit_cost:  5\n",
      "profit:     11997\n"
     ]
    }
   ],
   "source": [
    "max_profit = max(profit)\n",
    "idx = profit.index(max_profit)\n",
    "\n",
    "print('prodID:    ', prodID[idx])\n",
    "print('units:     ', units[idx])\n",
    "print('unit_price:', unit_price[idx])\n",
    "print('unit_cost: ', unit_cost[idx])\n",
    "print('profit:    ', profit[idx])"
   ]
  },
  {
   "cell_type": "markdown",
   "metadata": {},
   "source": [
    "## List Comprehensions\n",
    "\n",
    "Python creates a shortcut for iteratively creating lists. This shortcut is called a **list comprehension**. We know that we can create a list iteratively using a for loop as follows:\n",
    "\n",
    "    my_list = []\n",
    "    for i in range(a,b):\n",
    "        my_list.append(value)\n",
    "        \n",
    "The same result can be obtained in a more compact fashion using a list comprehension as follows:\n",
    "\n",
    "    my_list = [value for i in range(a,b)]\n",
    "      \n",
    "Lets see a few examples. In the first example, we will create a list containing the square of all elements in a range. "
   ]
  },
  {
   "cell_type": "code",
   "execution_count": 20,
   "metadata": {},
   "outputs": [
    {
     "name": "stdout",
     "output_type": "stream",
     "text": [
      "[1, 4, 9, 16, 25, 36, 49, 64, 81]\n"
     ]
    }
   ],
   "source": [
    "sq_list = [n**2 for n in range(1,10)]\n",
    "print(sq_list)"
   ]
  },
  {
   "cell_type": "markdown",
   "metadata": {},
   "source": [
    "In a previous example, we were given lists `listA` and `listB`, and were asked to create a list `listC` that contained an elementwise sum of the `listA` and `listB`. Let's see how this could be accomplished with a list comprehension. "
   ]
  },
  {
   "cell_type": "code",
   "execution_count": 21,
   "metadata": {},
   "outputs": [
    {
     "name": "stdout",
     "output_type": "stream",
     "text": [
      "[780, 118, 874, 516, 619, 702, 872, 911, 777, 511]\n",
      "[780, 118, 874, 516, 619, 702, 872, 911, 777, 511]\n"
     ]
    }
   ],
   "source": [
    "listC_v2 = [listA[i] + listB[i] for i in range(0, len(listA))]\n",
    "\n",
    "print(listC[:10])\n",
    "print(listC_v2[:10])"
   ]
  },
  {
   "cell_type": "markdown",
   "metadata": {},
   "source": [
    "## Alternate Method for Looping over Lists\n",
    "\n",
    "In the loops that we have considered so far, we have created a temporary variable (typically called `i`) that runs through all of the values in a given range. We can also loop over lists by creating a temporary variable that runs through all of the values in a given list. \n"
   ]
  },
  {
   "cell_type": "code",
   "execution_count": 22,
   "metadata": {
    "scrolled": false
   },
   "outputs": [
    {
     "name": "stdout",
     "output_type": "stream",
     "text": [
      "['the phantom menace', 'attack of the clones', 'revenge of the sith', 'a new hope', 'the empire strikes back', 'return of the jedi', 'the force awakens']\n"
     ]
    }
   ],
   "source": [
    "SW = ['the phantom menace', 'attack of the clones', 'revenge of the sith', 'a new hope', 'the empire strikes back', \n",
    "      'return of the jedi', 'the force awakens']\n",
    "print(SW)"
   ]
  },
  {
   "cell_type": "code",
   "execution_count": 23,
   "metadata": {},
   "outputs": [
    {
     "name": "stdout",
     "output_type": "stream",
     "text": [
      "the phantom menace\n",
      "attack of the clones\n",
      "revenge of the sith\n",
      "a new hope\n",
      "the empire strikes back\n",
      "return of the jedi\n",
      "the force awakens\n"
     ]
    }
   ],
   "source": [
    "for movie in SW:\n",
    "    print(movie)"
   ]
  },
  {
   "cell_type": "code",
   "execution_count": 24,
   "metadata": {},
   "outputs": [
    {
     "name": "stdout",
     "output_type": "stream",
     "text": [
      "The Phantom Menace\n",
      "Attack Of The Clones\n",
      "Revenge Of The Sith\n",
      "A New Hope\n",
      "The Empire Strikes Back\n",
      "Return Of The Jedi\n",
      "The Force Awakens\n"
     ]
    }
   ],
   "source": [
    "for movie in SW:\n",
    "    print(movie.title())"
   ]
  },
  {
   "cell_type": "markdown",
   "metadata": {},
   "source": [
    "It should be noted that this method of looping does not provide any new functionality. In fact, losing access to the index actually limits the applications that we can use a loop for. However, looping over a list directly can be a convenient shortcut for reading the elements of a list when we don't need to make any changes to the list and don't need care about the indices of the elements in the list. "
   ]
  },
  {
   "cell_type": "markdown",
   "metadata": {},
   "source": [
    "## Nested Loops\n",
    "\n",
    "For some complex tasks, it is necessary to include loops inside of other loops. This is called a **nested loop**. The simplest case of a nested loops is when we have one loop that itself contains another loop. In this case, we call the first loop that Python encounters the **outer loop**, and the loop inside of that is called the **inner loop**. Each time the outer loop runs, the entire inner loop will process, running through all of it's possible iterations. \n",
    "\n",
    "To get an introduction to how nested loops work, consider the following example. "
   ]
  },
  {
   "cell_type": "code",
   "execution_count": 25,
   "metadata": {},
   "outputs": [
    {
     "name": "stdout",
     "output_type": "stream",
     "text": [
      "i is equal to 0; j is equal to 0\n",
      "i is equal to 0; j is equal to 1\n",
      "i is equal to 0; j is equal to 2\n",
      "\n",
      "i is equal to 1; j is equal to 0\n",
      "i is equal to 1; j is equal to 1\n",
      "i is equal to 1; j is equal to 2\n",
      "\n",
      "i is equal to 2; j is equal to 0\n",
      "i is equal to 2; j is equal to 1\n",
      "i is equal to 2; j is equal to 2\n",
      "\n",
      "i is equal to 3; j is equal to 0\n",
      "i is equal to 3; j is equal to 1\n",
      "i is equal to 3; j is equal to 2\n",
      "\n",
      "i is equal to 4; j is equal to 0\n",
      "i is equal to 4; j is equal to 1\n",
      "i is equal to 4; j is equal to 2\n",
      "\n",
      "i is equal to 5; j is equal to 0\n",
      "i is equal to 5; j is equal to 1\n",
      "i is equal to 5; j is equal to 2\n",
      "\n"
     ]
    }
   ],
   "source": [
    "for i in range(0, 6):\n",
    "    \n",
    "    for j in range(0, 3):\n",
    "        \n",
    "        print(\"i is equal to \" + str(i) + \"; j is equal to \" + str(j))\n",
    "        \n",
    "    print()"
   ]
  },
  {
   "cell_type": "markdown",
   "metadata": {},
   "source": [
    "**<font color=\"orangered\" size=\"5\">� Excercise</font>**\n",
    "\n",
    "The following cell contains a list of lists, named `A`. This list is intended to represent a 3x5 matrix. Each of the three lists inside `A` represents a single row with 5 elements."
   ]
  },
  {
   "cell_type": "code",
   "execution_count": 26,
   "metadata": {},
   "outputs": [],
   "source": [
    "A = [ [11,12,13,14,15], [16,17,18,19,20], [21,22,23,24,25]  ]"
   ]
  },
  {
   "cell_type": "markdown",
   "metadata": {},
   "source": [
    "Write a loop that prints the rows of `A` one at a time. This output will more closely resemble a matrix. "
   ]
  },
  {
   "cell_type": "code",
   "execution_count": 27,
   "metadata": {},
   "outputs": [
    {
     "name": "stdout",
     "output_type": "stream",
     "text": [
      "[11, 12, 13, 14, 15]\n",
      "[16, 17, 18, 19, 20]\n",
      "[21, 22, 23, 24, 25]\n"
     ]
    }
   ],
   "source": [
    "for row in A:\n",
    "    print(row)"
   ]
  },
  {
   "cell_type": "markdown",
   "metadata": {},
   "source": [
    "Create an empty list called `ASquare`. Use nested loops to turn `ASquare` into a matrix such that each element of `ASquare` is equal to the square of the corresponding element in `A`. "
   ]
  },
  {
   "cell_type": "code",
   "execution_count": 28,
   "metadata": {},
   "outputs": [],
   "source": [
    "ASquare = []\n",
    "\n",
    "for i in range(0,3):\n",
    "    \n",
    "    tempRow = []\n",
    "    \n",
    "    for j in range(0,5):\n",
    "        tempRow.append(A[i][j] ** 2)\n",
    "        \n",
    "    ASquare.append(tempRow)"
   ]
  },
  {
   "cell_type": "markdown",
   "metadata": {},
   "source": [
    "Print the list `ASquare`, one row at a time."
   ]
  },
  {
   "cell_type": "code",
   "execution_count": 29,
   "metadata": {},
   "outputs": [
    {
     "name": "stdout",
     "output_type": "stream",
     "text": [
      "[121, 144, 169, 196, 225]\n",
      "[256, 289, 324, 361, 400]\n",
      "[441, 484, 529, 576, 625]\n"
     ]
    }
   ],
   "source": [
    "for row in ASquare:\n",
    "    print(row)"
   ]
  }
 ],
 "metadata": {
  "kernelspec": {
   "display_name": "Python 3",
   "language": "python",
   "name": "python3"
  },
  "language_info": {
   "codemirror_mode": {
    "name": "ipython",
    "version": 3
   },
   "file_extension": ".py",
   "mimetype": "text/x-python",
   "name": "python",
   "nbconvert_exporter": "python",
   "pygments_lexer": "ipython3",
   "version": "3.7.1"
  }
 },
 "nbformat": 4,
 "nbformat_minor": 2
}
