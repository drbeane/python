{
 "cells": [
  {
   "cell_type": "markdown",
   "metadata": {},
   "source": [
    "## Functions\n",
    "\n",
    "A **function** is a sequence of statements that has been given a name. Functions usually (but not always) take some number of inputs, called **parameters**, and usually (but not always) give an output, called the **return value**. When we use a function in our code, we say that we are **calling** the function. \n",
    "\n",
    "Python has many built-in functions, such as `print()`, `sum()`, `len()`, and `int()`. In this chapter, we will discuss how to create our own user-defined functions. "
   ]
  },
  {
   "cell_type": "markdown",
   "metadata": {},
   "source": [
    "## Modularity\n",
    "\n",
    "User-defined functions are useful when you find yourself needing to repeat a task that requires many lines of code, with little-to-change in code between different implementations of the task. In this situation, it might be helpful to group together these lines of code into a function. You can then simply call the function whenever you need to use it, potentially reducing several lines of code into a single code. Taking advantage of the modularity provided by functions can make your code easier to write, easier to read, and easier to debug. "
   ]
  }
 ],
 "metadata": {
  "kernelspec": {
   "display_name": "Python 3",
   "language": "python",
   "name": "python3"
  },
  "language_info": {
   "codemirror_mode": {
    "name": "ipython",
    "version": 3
   },
   "file_extension": ".py",
   "mimetype": "text/x-python",
   "name": "python",
   "nbconvert_exporter": "python",
   "pygments_lexer": "ipython3",
   "version": "3.7.1"
  }
 },
 "nbformat": 4,
 "nbformat_minor": 4
}
