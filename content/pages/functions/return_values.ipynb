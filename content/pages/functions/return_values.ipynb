{
 "cells": [
  {
   "cell_type": "markdown",
   "metadata": {},
   "source": [
    "## Returning Multiple Values\n",
    "\n",
    "It is possible for a Python function to return multiple values. To To accomplish this, we can combine the desired return values together into a list or a tuple, which we then return. Alternately, we can simply list the return values in the return statement, separated by commas.\n",
    "\n",
    "When storing the values returned by such a function in variables, we can list the target variable names on the left of the assignment operator, separated by commas. "
   ]
  },
  {
   "cell_type": "code",
   "execution_count": 34,
   "metadata": {
    "scrolled": true
   },
   "outputs": [
    {
     "name": "stdout",
     "output_type": "stream",
     "text": [
      "32\n",
      "25\n"
     ]
    }
   ],
   "source": [
    "def power(a,b):\n",
    "    return (a**b, b**a)\n",
    "\n",
    "a_to_b, b_to_a = power(2,5)\n",
    "print(a_to_b)\n",
    "print(b_to_a)"
   ]
  },
  {
   "cell_type": "markdown",
   "metadata": {},
   "source": [
    "## Example: Division with Remainder\n",
    "\n",
    "Write a function `div_w_remainder()` that takes two arguments, `num` and `div`, and returns the number of times that `div` evenly divides `num` (i.e. the quotient), as well as the remainder of `num` after division by `div`. Coerce the remainder into an integer."
   ]
  },
  {
   "cell_type": "code",
   "execution_count": 35,
   "metadata": {},
   "outputs": [],
   "source": [
    "def div_w_remainder(num, div):\n",
    "    \n",
    "    quotient = int(num/div)\n",
    "    remainder = num % div\n",
    "    \n",
    "    return (quotient, remainder)"
   ]
  },
  {
   "cell_type": "code",
   "execution_count": 36,
   "metadata": {},
   "outputs": [
    {
     "name": "stdout",
     "output_type": "stream",
     "text": [
      "Quotient:  450\n",
      "Remainder: 0\n"
     ]
    }
   ],
   "source": [
    "q, r = div_w_remainder(900, 2)\n",
    "print('Quotient: ', q)\n",
    "print('Remainder:', r)"
   ]
  },
  {
   "cell_type": "code",
   "execution_count": 37,
   "metadata": {},
   "outputs": [
    {
     "name": "stdout",
     "output_type": "stream",
     "text": [
      "Quotient:  3\n",
      "Remainder: 2\n"
     ]
    }
   ],
   "source": [
    "q, r = div_w_remainder(17, 5)\n",
    "print('Quotient: ', q)\n",
    "print('Remainder:', r)"
   ]
  },
  {
   "cell_type": "code",
   "execution_count": 38,
   "metadata": {},
   "outputs": [
    {
     "name": "stdout",
     "output_type": "stream",
     "text": [
      "Quotient:  2079\n",
      "Remainder: 1\n"
     ]
    }
   ],
   "source": [
    "q, r = div_w_remainder(6238, 3)\n",
    "print('Quotient: ', q)\n",
    "print('Remainder:', r)"
   ]
  },
  {
   "cell_type": "markdown",
   "metadata": {},
   "source": [
    "## Example: Locating Elements in a List\n",
    "\n",
    "Write a function called `locate`. The function should take two arguments: a list called `x`, and another variable called `item`. \n",
    "\n",
    "The function should return two values: A list of indices at which the element in `x` is equal to `item`, and a count of the number of times that `item` appears in `x`. "
   ]
  },
  {
   "cell_type": "code",
   "execution_count": 39,
   "metadata": {},
   "outputs": [],
   "source": [
    "def locate(x, item):\n",
    "   \n",
    "    index_list = []\n",
    "\n",
    "    for i in range(0, len(x)):\n",
    "        if x[i] == item:\n",
    "            index_list.append(i)\n",
    "\n",
    "    return (index_list, len(index_list))"
   ]
  },
  {
   "cell_type": "markdown",
   "metadata": {},
   "source": [
    "A list of student grades is provided in the cell below. Call `locate()` five times. In each function call, pass in `grades` for `x`. For `item`, use each of the following values: `'A'`, `'B'`, `'C'`, `'D'`, and `'F'`.\n",
    "\n",
    "For each function call, print out a message of the following form:\n",
    "\n",
    "    A: indices = [......], count = ##\n"
   ]
  },
  {
   "cell_type": "code",
   "execution_count": 40,
   "metadata": {},
   "outputs": [
    {
     "name": "stdout",
     "output_type": "stream",
     "text": [
      "A: indices = [0, 2, 6, 11, 14, 22], count = 6\n",
      "B: indices = [4, 9, 13, 15, 16, 18, 24], count = 7\n",
      "C: indices = [3, 8, 12, 17, 23], count = 5\n",
      "D: indices = [1, 7, 20, 21], count = 4\n",
      "F: indices = [5, 10, 19], count = 3\n"
     ]
    }
   ],
   "source": [
    "grades = ['A', 'D', 'A', 'C', 'B', 'F', 'A', 'D', 'C', 'B', 'F', 'A', 'C', \n",
    "          'B', 'A', 'B', 'B', 'C', 'B', 'F', 'D', 'D', 'A', 'C', 'B']\n",
    "\n",
    "for letter in ['A', 'B', 'C', 'D', 'F']:\n",
    "    idx, c = locate(grades, letter)\n",
    "    print(str(letter) + ': indices = ' + str(idx) + ', count = ' + str(c) )\n"
   ]
  },
  {
   "cell_type": "markdown",
   "metadata": {},
   "source": [
    "## Multiple Return Statements\n",
    "\n",
    "It is possible for a function to have multiple return statements. As soon as a return statement is hit, however, the function returns that value and then exits. As an illustration of this idea, compare the following two functions, both of which return the absolute value of a number. "
   ]
  },
  {
   "cell_type": "code",
   "execution_count": 41,
   "metadata": {},
   "outputs": [],
   "source": [
    "def abs_val_1(x):\n",
    "    \n",
    "    if (x < 0):\n",
    "        absVal = -x\n",
    "    else:\n",
    "        absVal = x\n",
    "        \n",
    "    return absVal"
   ]
  },
  {
   "cell_type": "code",
   "execution_count": 42,
   "metadata": {},
   "outputs": [
    {
     "name": "stdout",
     "output_type": "stream",
     "text": [
      "9\n",
      "3.8\n"
     ]
    }
   ],
   "source": [
    "print(abs_val_1(9))\n",
    "print(abs_val_1(-3.8))"
   ]
  },
  {
   "cell_type": "code",
   "execution_count": 43,
   "metadata": {},
   "outputs": [],
   "source": [
    "def abs_val_2(x):\n",
    "    if(x < 0):\n",
    "        return -x\n",
    "    return x"
   ]
  },
  {
   "cell_type": "code",
   "execution_count": 44,
   "metadata": {},
   "outputs": [
    {
     "name": "stdout",
     "output_type": "stream",
     "text": [
      "9\n",
      "3.8\n"
     ]
    }
   ],
   "source": [
    "print(abs_val_2(9))\n",
    "print(abs_val_2(-3.8))"
   ]
  }
 ],
 "metadata": {
  "kernelspec": {
   "display_name": "Python 3",
   "language": "python",
   "name": "python3"
  },
  "language_info": {
   "codemirror_mode": {
    "name": "ipython",
    "version": 3
   },
   "file_extension": ".py",
   "mimetype": "text/x-python",
   "name": "python",
   "nbconvert_exporter": "python",
   "pygments_lexer": "ipython3",
   "version": "3.7.1"
  }
 },
 "nbformat": 4,
 "nbformat_minor": 4
}
