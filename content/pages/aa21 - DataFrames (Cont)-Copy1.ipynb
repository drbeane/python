{
 "cells": [
  {
   "cell_type": "markdown",
   "metadata": {},
   "source": [
    "# Lesson 15 - Pandas DataFrames (cont)\n",
    "\n",
    "\n",
    "### The following topics are discussed in this notebook:\n",
    "* The `dataframe` data type from the `pandas` package. \n"
   ]
  },
  {
   "cell_type": "code",
   "execution_count": 1,
   "metadata": {
    "collapsed": true
   },
   "outputs": [],
   "source": [
    "import numpy as np\n",
    "import pandas as pd"
   ]
  },
  {
   "cell_type": "markdown",
   "metadata": {},
   "source": [
    "### Sales Team Data"
   ]
  },
  {
   "cell_type": "code",
   "execution_count": 2,
   "metadata": {
    "collapsed": true
   },
   "outputs": [],
   "source": [
    "salesDF = pd.read_csv('state_data.csv')"
   ]
  },
  {
   "cell_type": "code",
   "execution_count": 7,
   "metadata": {
    "scrolled": true
   },
   "outputs": [
    {
     "data": {
      "text/html": [
       "<div>\n",
       "<table border=\"1\" class=\"dataframe\">\n",
       "  <thead>\n",
       "    <tr style=\"text-align: right;\">\n",
       "      <th></th>\n",
       "      <th>Abbv</th>\n",
       "      <th>State</th>\n",
       "      <th>Pop</th>\n",
       "      <th>Unemp</th>\n",
       "      <th>HS_Grad</th>\n",
       "      <th>BDeg</th>\n",
       "      <th>AdvDeg</th>\n",
       "      <th>Debt</th>\n",
       "      <th>GDP</th>\n",
       "      <th>MedInc15</th>\n",
       "      <th>MedInc14</th>\n",
       "      <th>MedInc13</th>\n",
       "      <th>MedInc12</th>\n",
       "      <th>MedInc11</th>\n",
       "      <th>HC2016</th>\n",
       "      <th>DT2016</th>\n",
       "    </tr>\n",
       "  </thead>\n",
       "  <tbody>\n",
       "    <tr>\n",
       "      <th>0</th>\n",
       "      <td>AL</td>\n",
       "      <td>Alabama</td>\n",
       "      <td>4833722</td>\n",
       "      <td>4.2</td>\n",
       "      <td>84.3</td>\n",
       "      <td>23.5</td>\n",
       "      <td>8.7</td>\n",
       "      <td>8969350000</td>\n",
       "      <td>204861</td>\n",
       "      <td>44765</td>\n",
       "      <td>42830</td>\n",
       "      <td>42849</td>\n",
       "      <td>41574</td>\n",
       "      <td>41415</td>\n",
       "      <td>34.36</td>\n",
       "      <td>62.08</td>\n",
       "    </tr>\n",
       "    <tr>\n",
       "      <th>1</th>\n",
       "      <td>AK</td>\n",
       "      <td>Alaska</td>\n",
       "      <td>735132</td>\n",
       "      <td>7.2</td>\n",
       "      <td>92.1</td>\n",
       "      <td>28.0</td>\n",
       "      <td>10.1</td>\n",
       "      <td>5727891000</td>\n",
       "      <td>50713</td>\n",
       "      <td>73355</td>\n",
       "      <td>71583</td>\n",
       "      <td>72237</td>\n",
       "      <td>67712</td>\n",
       "      <td>67825</td>\n",
       "      <td>36.55</td>\n",
       "      <td>51.28</td>\n",
       "    </tr>\n",
       "    <tr>\n",
       "      <th>2</th>\n",
       "      <td>AZ</td>\n",
       "      <td>Arizona</td>\n",
       "      <td>6626624</td>\n",
       "      <td>5.0</td>\n",
       "      <td>86.0</td>\n",
       "      <td>27.5</td>\n",
       "      <td>10.2</td>\n",
       "      <td>14243659000</td>\n",
       "      <td>302952</td>\n",
       "      <td>51492</td>\n",
       "      <td>50068</td>\n",
       "      <td>48510</td>\n",
       "      <td>47826</td>\n",
       "      <td>46709</td>\n",
       "      <td>45.13</td>\n",
       "      <td>48.67</td>\n",
       "    </tr>\n",
       "    <tr>\n",
       "      <th>3</th>\n",
       "      <td>AR</td>\n",
       "      <td>Arkansas</td>\n",
       "      <td>2959373</td>\n",
       "      <td>3.5</td>\n",
       "      <td>84.8</td>\n",
       "      <td>21.1</td>\n",
       "      <td>7.5</td>\n",
       "      <td>4985140000</td>\n",
       "      <td>120689</td>\n",
       "      <td>41995</td>\n",
       "      <td>41262</td>\n",
       "      <td>40511</td>\n",
       "      <td>40112</td>\n",
       "      <td>38758</td>\n",
       "      <td>33.65</td>\n",
       "      <td>60.57</td>\n",
       "    </tr>\n",
       "    <tr>\n",
       "      <th>4</th>\n",
       "      <td>CA</td>\n",
       "      <td>California</td>\n",
       "      <td>38332521</td>\n",
       "      <td>5.1</td>\n",
       "      <td>81.8</td>\n",
       "      <td>31.4</td>\n",
       "      <td>11.6</td>\n",
       "      <td>151715007000</td>\n",
       "      <td>2602672</td>\n",
       "      <td>64500</td>\n",
       "      <td>61933</td>\n",
       "      <td>60190</td>\n",
       "      <td>58328</td>\n",
       "      <td>57287</td>\n",
       "      <td>61.73</td>\n",
       "      <td>31.62</td>\n",
       "    </tr>\n",
       "  </tbody>\n",
       "</table>\n",
       "</div>"
      ],
      "text/plain": [
       "  Abbv       State       Pop  Unemp  HS_Grad  BDeg  AdvDeg          Debt  \\\n",
       "0   AL     Alabama   4833722    4.2     84.3  23.5     8.7    8969350000   \n",
       "1   AK      Alaska    735132    7.2     92.1  28.0    10.1    5727891000   \n",
       "2   AZ     Arizona   6626624    5.0     86.0  27.5    10.2   14243659000   \n",
       "3   AR    Arkansas   2959373    3.5     84.8  21.1     7.5    4985140000   \n",
       "4   CA  California  38332521    5.1     81.8  31.4    11.6  151715007000   \n",
       "\n",
       "       GDP  MedInc15  MedInc14  MedInc13  MedInc12  MedInc11  HC2016  DT2016  \n",
       "0   204861     44765     42830     42849     41574     41415   34.36   62.08  \n",
       "1    50713     73355     71583     72237     67712     67825   36.55   51.28  \n",
       "2   302952     51492     50068     48510     47826     46709   45.13   48.67  \n",
       "3   120689     41995     41262     40511     40112     38758   33.65   60.57  \n",
       "4  2602672     64500     61933     60190     58328     57287   61.73   31.62  "
      ]
     },
     "execution_count": 7,
     "metadata": {},
     "output_type": "execute_result"
    }
   ],
   "source": [
    "salesDF.head()"
   ]
  },
  {
   "cell_type": "markdown",
   "metadata": {},
   "source": [
    "Determine the number of employees in the DataFrame."
   ]
  },
  {
   "cell_type": "code",
   "execution_count": null,
   "metadata": {
    "collapsed": true
   },
   "outputs": [],
   "source": []
  },
  {
   "cell_type": "code",
   "execution_count": null,
   "metadata": {
    "collapsed": true
   },
   "outputs": [],
   "source": []
  },
  {
   "cell_type": "markdown",
   "metadata": {},
   "source": [
    "Print the total sales for each of the three months separately. "
   ]
  },
  {
   "cell_type": "code",
   "execution_count": null,
   "metadata": {
    "collapsed": true
   },
   "outputs": [],
   "source": []
  },
  {
   "cell_type": "markdown",
   "metadata": {},
   "source": [
    "Calculate the average (mean) amount sold by each salesperson during January. Then do the same for February and March. "
   ]
  },
  {
   "cell_type": "code",
   "execution_count": null,
   "metadata": {
    "collapsed": true
   },
   "outputs": [],
   "source": []
  },
  {
   "cell_type": "markdown",
   "metadata": {},
   "source": [
    "Calculate the total sales for each location in January. "
   ]
  },
  {
   "cell_type": "code",
   "execution_count": null,
   "metadata": {
    "collapsed": true,
    "scrolled": false
   },
   "outputs": [],
   "source": []
  },
  {
   "cell_type": "code",
   "execution_count": null,
   "metadata": {
    "collapsed": true
   },
   "outputs": [],
   "source": []
  },
  {
   "cell_type": "code",
   "execution_count": null,
   "metadata": {
    "collapsed": true
   },
   "outputs": [],
   "source": []
  },
  {
   "cell_type": "code",
   "execution_count": null,
   "metadata": {
    "collapsed": true
   },
   "outputs": [],
   "source": []
  },
  {
   "cell_type": "code",
   "execution_count": null,
   "metadata": {
    "collapsed": true
   },
   "outputs": [],
   "source": []
  },
  {
   "cell_type": "code",
   "execution_count": null,
   "metadata": {
    "collapsed": true
   },
   "outputs": [],
   "source": []
  },
  {
   "cell_type": "code",
   "execution_count": null,
   "metadata": {
    "collapsed": true
   },
   "outputs": [],
   "source": []
  },
  {
   "cell_type": "code",
   "execution_count": null,
   "metadata": {
    "collapsed": true
   },
   "outputs": [],
   "source": []
  }
 ],
 "metadata": {
  "kernelspec": {
   "display_name": "Python 3",
   "language": "python",
   "name": "python3"
  },
  "language_info": {
   "codemirror_mode": {
    "name": "ipython",
    "version": 3
   },
   "file_extension": ".py",
   "mimetype": "text/x-python",
   "name": "python",
   "nbconvert_exporter": "python",
   "pygments_lexer": "ipython3",
   "version": "3.7.1"
  }
 },
 "nbformat": 4,
 "nbformat_minor": 2
}
