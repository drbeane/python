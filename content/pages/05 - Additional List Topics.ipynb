{
 "cells": [
  {
   "cell_type": "markdown",
   "metadata": {},
   "source": [
    "# Lesson 05 - Additional List Topics\n",
    "\n",
    "\n",
    "### The following topics are discussed in this notebook:\n",
    "* List functions and methods.\n",
    "* Slicing.\n",
    "* Lists of lists. \n",
    "* Copying lists.  \n",
    "\n",
    "### Additional Resources\n",
    "* Chapter 04 of **Python Crash Course**.\n",
    "* [DataCamp: Intro to Python for Data Science, Chapter 2](https://www.datacamp.com/courses/intro-to-python-for-data-science)\n",
    "\n"
   ]
  },
  {
   "cell_type": "markdown",
   "metadata": {},
   "source": [
    "## List Functions\n",
    "There are several functions that can take lists as arguments. We will present five such functions here.\n",
    "* `len()` returns the number of items in the list. \n",
    "* `sum()` returns the sum of the elements in a list. This only works on numerical lists.\n",
    "* `max()` returns the largest item in the list. \n",
    "* `min()` returns the smallest item in the list. \n",
    "* `sorted()` returns a sorted copy of the list, but does not change the list itself.\n",
    "\n",
    "We will illustrate the use of these functions using the two lists below."
   ]
  },
  {
   "cell_type": "code",
   "execution_count": null,
   "metadata": {},
   "outputs": [],
   "source": [
    "# Starting lineup in a recent Cardinals games, along with jersey numbers. \n",
    "cardinals = ['Carpenter', 'Pham', 'DeJong', 'Fowler', 'Molina', 'Martinez', 'Wong', 'Grichuk', 'Wacha']\n",
    "jerseys = [13, 28, 11, 25, 4, 58, 16, 15, 52]"
   ]
  },
  {
   "cell_type": "code",
   "execution_count": null,
   "metadata": {},
   "outputs": [],
   "source": [
    "# Find the length of the lists.\n",
    "print(len(cardinals))\n",
    "print(len(jerseys))"
   ]
  },
  {
   "cell_type": "code",
   "execution_count": null,
   "metadata": {},
   "outputs": [],
   "source": [
    "# Sum the jerseys list.\n",
    "print(sum(jerseys))"
   ]
  },
  {
   "cell_type": "code",
   "execution_count": null,
   "metadata": {
    "scrolled": true
   },
   "outputs": [],
   "source": [
    "# Find min and max of cardinals list.\n",
    "print(min(cardinals))\n",
    "print(max(cardinals))"
   ]
  },
  {
   "cell_type": "code",
   "execution_count": null,
   "metadata": {},
   "outputs": [],
   "source": [
    "# Find min and max of jersey list.\n",
    "print(min(jerseys))\n",
    "print(max(jerseys))"
   ]
  },
  {
   "cell_type": "code",
   "execution_count": null,
   "metadata": {},
   "outputs": [],
   "source": [
    "# Print sorted cardinals list, as well as original list.\n",
    "print(sorted(cardinals))\n",
    "print(cardinals)"
   ]
  },
  {
   "cell_type": "code",
   "execution_count": null,
   "metadata": {
    "scrolled": true
   },
   "outputs": [],
   "source": [
    "# Print sorted jersey list, as well as original list.\n",
    "print(sorted(jerseys))\n",
    "print(jerseys)"
   ]
  },
  {
   "cell_type": "markdown",
   "metadata": {},
   "source": [
    "## List Methods\n",
    "We have already seen a few list methods such as `insert()`, `append()`, and `remove()`. Notice that all three of these method  actually alters the list that they are called on. One difference between methods and other functions is that methods have the ability to change the object that they are acting on, where as non-method functions generally do not. \n",
    "\n",
    "There are many list methods in addition to the three that we have seen. We will introduce two more here. \n",
    "* `sort()` sorts the elements of a list in ascending order. These changes affect the list itself. \n",
    "* `reverse()` arranges the elements of the list in reverse order. This affects the list itself.\n"
   ]
  },
  {
   "cell_type": "code",
   "execution_count": null,
   "metadata": {},
   "outputs": [],
   "source": [
    "listA = [6, 9, 1, 4, 7, 3, 6, 4, 5, 2]\n",
    "listA.sort()\n",
    "print(listA)"
   ]
  },
  {
   "cell_type": "code",
   "execution_count": null,
   "metadata": {
    "scrolled": true
   },
   "outputs": [],
   "source": [
    "listB = [6, 9, 1, 4, 7, 3, 6, 4, 5, 2]\n",
    "listB.reverse()\n",
    "print(listB)"
   ]
  },
  {
   "cell_type": "markdown",
   "metadata": {},
   "source": [
    "## Finding Index of List Elements\n",
    "\n",
    "Lists have an `index()` method that accepts a single parameter. The method will return the index of the first occurrence of the supplied value within the list. If the value does not appear in the list, the method will produce an error.\n",
    "\n",
    "The cell below creates a randomly generate list of 30 elements. Run this cell as is."
   ]
  },
  {
   "cell_type": "code",
   "execution_count": null,
   "metadata": {},
   "outputs": [],
   "source": [
    "import random\n",
    "random.seed(1)\n",
    "rand_list = random.choices(range(0,50), k=30)\n",
    "print(rand_list)"
   ]
  },
  {
   "cell_type": "markdown",
   "metadata": {},
   "source": [
    "The value 1 appears multiple times in this list. The code in the cell below will return the index of the first occurrence of 1. "
   ]
  },
  {
   "cell_type": "code",
   "execution_count": null,
   "metadata": {},
   "outputs": [],
   "source": [
    "rand_list.index(1)"
   ]
  },
  {
   "cell_type": "markdown",
   "metadata": {},
   "source": [
    "The value 2 does not appear in the list. The code below will result in an error."
   ]
  },
  {
   "cell_type": "code",
   "execution_count": null,
   "metadata": {},
   "outputs": [],
   "source": [
    "rand_list.index(2)"
   ]
  },
  {
   "cell_type": "markdown",
   "metadata": {},
   "source": [
    "**<font color=\"orangered\" size=\"5\">� Exercise</font>**\n",
    "\n",
    "Print the largest value of `rand_list`, as well as the index where that value is stored. Print some text explaining which value is which. "
   ]
  },
  {
   "cell_type": "code",
   "execution_count": null,
   "metadata": {},
   "outputs": [],
   "source": []
  },
  {
   "cell_type": "markdown",
   "metadata": {},
   "source": [
    "**<font color=\"orangered\" size=\"5\">� Exercise</font>**\n",
    "\n",
    "Add lines of code to the cell below to sort `listC` in descending order. Then print `listC`."
   ]
  },
  {
   "cell_type": "code",
   "execution_count": null,
   "metadata": {
    "scrolled": true
   },
   "outputs": [],
   "source": [
    "listC = [6, 9, 1, 4, 7, 3, 6, 4, 5, 2]"
   ]
  },
  {
   "cell_type": "markdown",
   "metadata": {},
   "source": [
    "## Slicing Lists\n",
    "\n",
    "Occasionally, we will need to need to work with a portion of a list, rather than the entire list. **Slicing** is a method of creating a sublist of consecutive elements drawn from another list. \n",
    "Assume that `myList` is a Python list, and let `i` and `j` be integers. \n",
    "* `myList[i:j]` will generate a sublist of `myList` that begins with the element at index `i` and contains all elements up to **but not including** the element at index `j`.  \n",
    "* `myList[i:]` will generate a sublist of `myList` that begins with the element at index `i` and contains all later elements. \n",
    "* `myList[:j]` will generate a sublist of `myList` that contains all elements up to **but not including** the element at index `j`."
   ]
  },
  {
   "cell_type": "code",
   "execution_count": null,
   "metadata": {
    "scrolled": true
   },
   "outputs": [],
   "source": [
    "# Simple Slicing Example\n",
    "simpleList = [0, 2, 4, 6, 8, 10, 12, 14, 16, 18, 20]\n",
    "\n",
    "print(simpleList[3:7])\n",
    "print(simpleList[5:])\n",
    "print(simpleList[:8])"
   ]
  },
  {
   "cell_type": "markdown",
   "metadata": {},
   "source": [
    "We can also use negative indices when specifying a slice of a list."
   ]
  },
  {
   "cell_type": "code",
   "execution_count": null,
   "metadata": {
    "scrolled": true
   },
   "outputs": [],
   "source": [
    "# Print the last 6 elements of simpleList\n",
    "print(simpleList[-6:])"
   ]
  },
  {
   "cell_type": "code",
   "execution_count": null,
   "metadata": {
    "scrolled": true
   },
   "outputs": [],
   "source": [
    "# Print all but the first two and last two elements of simpleList\n",
    "print(simpleList[2:-2])"
   ]
  },
  {
   "cell_type": "markdown",
   "metadata": {},
   "source": [
    "**<font color=\"orangered\" size=\"5\">� Exercise</font>**\n",
    "\n",
    "CompCo is an company that manufactures laptop computers. The vector `sales` below provides CompCo's total monthly sales for each month of 2016, measured in US dollars. The results are listed in order of month. "
   ]
  },
  {
   "cell_type": "code",
   "execution_count": null,
   "metadata": {},
   "outputs": [],
   "source": [
    "sales = [52353, 43724, 32191, 34914, 44671, 37139, 49341, 57139, 55104, 45193, 52167, 61294]"
   ]
  },
  {
   "cell_type": "markdown",
   "metadata": {
    "collapsed": true
   },
   "source": [
    "CompCo needs to calculate their quarterly sales for each quarter in 2016. \n",
    "\n",
    "Define four new variables Q1, Q2, Q3, and Q4 in the next cell. \n",
    "* Q1 contains the total sales for Quarter 1 (January, February, March).\n",
    "* Q2 contains the total sales for Quarter 2 (April, May, June).\n",
    "* Q3 contains the total sales for Quarter 3 (July, August, September).\n",
    "* Q4 contains the total sales for Quarter 4 (October, November, December). \n",
    "\n",
    "Use a combination of slicing and the `sum()` function. "
   ]
  },
  {
   "cell_type": "code",
   "execution_count": null,
   "metadata": {},
   "outputs": [],
   "source": []
  },
  {
   "cell_type": "markdown",
   "metadata": {
    "collapsed": true
   },
   "source": [
    "Print the variables Q1, Q2, Q3, and Q4. "
   ]
  },
  {
   "cell_type": "code",
   "execution_count": null,
   "metadata": {},
   "outputs": [],
   "source": []
  },
  {
   "cell_type": "markdown",
   "metadata": {},
   "source": [
    "## Lists of Lists\n",
    "\n",
    "It is possible for the elements of a list to be lists themselves. Let's consider a simple example. "
   ]
  },
  {
   "cell_type": "code",
   "execution_count": null,
   "metadata": {},
   "outputs": [],
   "source": [
    "metaList = [ [4, 2], ['a', 'b', 'c', 'd'], [1.1, 2.2, 3.3] ]"
   ]
  },
  {
   "cell_type": "markdown",
   "metadata": {},
   "source": [
    "Notice that `metalist` is a list that contains three elements, each of which is also a list.\n",
    "* `metaList[0]` is a list of two `int` values, `[4, 2]`.\n",
    "* `metaList[1]` is a list of four `str`, `['a', 'b', 'c', 'd']`.\n",
    "* `metaList[2]` is a list of three `float` values, `[1.1, 2.2, 3.3]`.\n",
    "\n",
    "We can access elements of the inner lists by using two sets of square braces and two indices. \n",
    "\n",
    "For example, since  `metaList[1]` is the list `['a', 'b', 'c', 'd']`, we can access the `str` `'c'` with `metaList[1][2]`."
   ]
  },
  {
   "cell_type": "code",
   "execution_count": null,
   "metadata": {},
   "outputs": [],
   "source": [
    "print(metaList[1][2])"
   ]
  },
  {
   "cell_type": "markdown",
   "metadata": {},
   "source": [
    "**<font color=\"orangered\" size=\"5\">� Exercise</font>**\n",
    "\n",
    "In the cell below, we have created lists for 9 midwest states. Each state list contains the names of the cities in that state with a population of 100,000 or greater. "
   ]
  },
  {
   "cell_type": "code",
   "execution_count": null,
   "metadata": {},
   "outputs": [],
   "source": [
    "MO_list = ['Independence', 'Kansas City', 'Springfield', 'St. Louis']\n",
    "IL_list = ['Aurora', 'Chicago', 'Joliet', 'Napierville', 'Peoria', 'Rockford', 'Springfield']\n",
    "AR_list = ['Little Rock']\n",
    "KS_list = ['Kansas City', 'Olathe', 'Overland Park', 'Topeka', 'Wichita']\n",
    "IA_list = ['Cedar Rapids', 'Des Moines']\n",
    "NE_list = ['Lincoln', 'Omaha']\n",
    "OK_list = ['Norman', 'Oklahoma City', 'Tulsa']\n",
    "TN_list = ['Chattanooga', 'Clarksville', 'Knoxville', 'Memphis', 'Nashville']\n",
    "KY_list = ['Lexington', 'Louisville']"
   ]
  },
  {
   "cell_type": "markdown",
   "metadata": {},
   "source": [
    "We will now create a list that contains each of these 9 lists as its elements."
   ]
  },
  {
   "cell_type": "code",
   "execution_count": null,
   "metadata": {},
   "outputs": [],
   "source": [
    "cities_100K = [AR_list, IA_list, IL_list, KS_list, KY_list, MO_list, NE_list, OK_list, TN_list]"
   ]
  },
  {
   "cell_type": "markdown",
   "metadata": {},
   "source": [
    "Without referring directly to any of the 9 original lists, print out a list of the cities in Kansas with a population of 100,000 or greater. "
   ]
  },
  {
   "cell_type": "code",
   "execution_count": null,
   "metadata": {},
   "outputs": [],
   "source": []
  },
  {
   "cell_type": "markdown",
   "metadata": {},
   "source": [
    "Without referring directly to any of the 9 original lists, print out a list of the cities in Nebraska with a population of 100,000 or greater. "
   ]
  },
  {
   "cell_type": "code",
   "execution_count": null,
   "metadata": {},
   "outputs": [],
   "source": []
  },
  {
   "cell_type": "markdown",
   "metadata": {},
   "source": [
    "Using only the list `cities_100K`, print the element `'St. Louis'`."
   ]
  },
  {
   "cell_type": "code",
   "execution_count": null,
   "metadata": {},
   "outputs": [],
   "source": []
  },
  {
   "cell_type": "markdown",
   "metadata": {},
   "source": [
    "Using only the list `cities_100K`, print the element `'Joliet'`."
   ]
  },
  {
   "cell_type": "code",
   "execution_count": null,
   "metadata": {},
   "outputs": [],
   "source": []
  },
  {
   "cell_type": "markdown",
   "metadata": {
    "collapsed": true
   },
   "source": [
    "## Copying Lists\n",
    "\n",
    "Assume that `var1` is a variables of type `int`, `float`, `str`, or `bool`. We have seen before that if we create a new variable `var2` and set its initial value to be equal to that of `var1`, then `var2` will initially contain the same value as `var1`, but will be its own distinct variable whose value can be changed independent of `var1`. This is illustrated in the following two cells. "
   ]
  },
  {
   "cell_type": "code",
   "execution_count": null,
   "metadata": {},
   "outputs": [],
   "source": [
    "var1 = 37\n",
    "var2 = var1 \n",
    "print(var1)\n",
    "print(var2)"
   ]
  },
  {
   "cell_type": "code",
   "execution_count": null,
   "metadata": {},
   "outputs": [],
   "source": [
    "var2 = \"blah\"\n",
    "print(var1)\n",
    "print(var2)"
   ]
  },
  {
   "cell_type": "markdown",
   "metadata": {},
   "source": [
    "The situation is different for lists, however. If we have a list called `list1` and we set `list2` to be equal to `list1`, then `list1` and `list2` will be two different names of the same list. Any changes made to `list1` will also effect `list2` and vice versa."
   ]
  },
  {
   "cell_type": "code",
   "execution_count": null,
   "metadata": {},
   "outputs": [],
   "source": [
    "list1 = [3, 8, 2]\n",
    "list2 = list1\n",
    "print(list1)\n",
    "print(list2)"
   ]
  },
  {
   "cell_type": "code",
   "execution_count": null,
   "metadata": {},
   "outputs": [],
   "source": [
    "list2.append(37)\n",
    "print(list1)\n",
    "print(list2)"
   ]
  },
  {
   "cell_type": "markdown",
   "metadata": {},
   "source": [
    "What if we want to actually create a new, entirely separate, copy of an already existing list? It turns out that Python provides two ways of doing a such. \n",
    "1. We may use the `copy()` method of the list that we wish to duplicate.\n",
    "2. We can return a copy of a list by using slicing. \n",
    "\n",
    "Let's see first see how to duplicate a list using the `copy()` method."
   ]
  },
  {
   "cell_type": "code",
   "execution_count": null,
   "metadata": {
    "scrolled": true
   },
   "outputs": [],
   "source": [
    "dup1 = list1.copy()\n",
    "print(list1)\n",
    "print(dup1)"
   ]
  },
  {
   "cell_type": "code",
   "execution_count": null,
   "metadata": {},
   "outputs": [],
   "source": [
    "dup1.append(42)\n",
    "print(list1)\n",
    "print(dup1)"
   ]
  },
  {
   "cell_type": "markdown",
   "metadata": {},
   "source": [
    "We will now see how to duplicate a list by using slicing. "
   ]
  },
  {
   "cell_type": "code",
   "execution_count": null,
   "metadata": {},
   "outputs": [],
   "source": [
    "dup2 = list1[:]\n",
    "print(list1)\n",
    "print(dup2)"
   ]
  },
  {
   "cell_type": "code",
   "execution_count": null,
   "metadata": {
    "scrolled": true
   },
   "outputs": [],
   "source": [
    "dup2.remove(8)\n",
    "print(list1)\n",
    "print(dup2)"
   ]
  },
  {
   "cell_type": "markdown",
   "metadata": {},
   "source": [
    "**<font color=\"orangered\" size=\"5\">� Exercise</font>**\n",
    "\n",
    "A list called `Avengers` is provided in the cell below. Add code to accomplish the following tasks:\n",
    "1. Create two new copies of the list, one called `Avengers_Asc` and one called `Avengers_Desc`. \n",
    "2. Sort `Avengers_Asc` in ascending alphabetical order. \n",
    "3. Sort `Avengers_Desc` in descending alphabetical order. \n",
    "4. Print all three lists."
   ]
  },
  {
   "cell_type": "code",
   "execution_count": null,
   "metadata": {},
   "outputs": [],
   "source": [
    "Avengers = ['Capt. America', 'Black Widow', 'Iron Man', 'Hulk', 'Thor', 'Hawkeye']"
   ]
  }
 ],
 "metadata": {
  "kernelspec": {
   "display_name": "Python 3",
   "language": "python",
   "name": "python3"
  },
  "language_info": {
   "codemirror_mode": {
    "name": "ipython",
    "version": 3
   },
   "file_extension": ".py",
   "mimetype": "text/x-python",
   "name": "python",
   "nbconvert_exporter": "python",
   "pygments_lexer": "ipython3",
   "version": "3.7.3"
  }
 },
 "nbformat": 4,
 "nbformat_minor": 2
}
