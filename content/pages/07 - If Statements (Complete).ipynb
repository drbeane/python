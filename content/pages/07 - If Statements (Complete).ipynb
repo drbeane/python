{
 "cells": [
  {
   "cell_type": "markdown",
   "metadata": {},
   "source": [
    "# Lesson 07 - If Statements\n",
    "\n",
    "\n",
    "### The following topics are discussed in this notebook:\n",
    "* If statements\n",
    "* If-Else statements\n",
    "* If-Elif-Else statements\n",
    "* If statements and loops\n",
    "\n",
    "### Additional Resources\n",
    "* Chapter 05 of **Python Crash Course**.\n",
    "* [DataCamp: Intermediate Python for Data Science, Chapter 3](https://www.datacamp.com/courses/intermediate-python-for-data-science)\n",
    "\n",
    "\n"
   ]
  },
  {
   "cell_type": "markdown",
   "metadata": {},
   "source": [
    "## Basic If Statments\n",
    "\n",
    "We can use if statements (also called conditionals) to control how or if portions of our code will execute, based on conditions that we provide.  "
   ]
  },
  {
   "cell_type": "code",
   "execution_count": 1,
   "metadata": {},
   "outputs": [
    {
     "name": "stdout",
     "output_type": "stream",
     "text": [
      "You passed the exam.\n",
      "Congratulations!\n"
     ]
    }
   ],
   "source": [
    "grade = 72\n",
    "\n",
    "if grade >= 60:\n",
    "    print('You passed the exam.')\n",
    "    print('Congratulations!')"
   ]
  },
  {
   "cell_type": "code",
   "execution_count": 2,
   "metadata": {},
   "outputs": [],
   "source": [
    "grade = 39\n",
    "\n",
    "if grade >= 60:\n",
    "    print('You passed the exam.')\n",
    "    print('Congratulations!')"
   ]
  },
  {
   "cell_type": "markdown",
   "metadata": {},
   "source": [
    "## If-Else Statements\n",
    "\n",
    "We can use an if statemnt to determine whether or not a particular set of actions will be satisfied. But we will occasionally want to use a condition to determine which of two sets of actions will be completed. This functionality is provided to us by an **if-else** statement. The synax for an if-else statement is as follows:\n",
    "\n",
    "<pre>\n",
    "if condition:\n",
    "    code to be executed if condition is true\n",
    "else:\n",
    "    code to be executed if condition is false\n",
    "</pre>\n"
   ]
  },
  {
   "cell_type": "code",
   "execution_count": 3,
   "metadata": {},
   "outputs": [
    {
     "name": "stdout",
     "output_type": "stream",
     "text": [
      "You failed the exam.\n",
      "Better luck next time.\n"
     ]
    }
   ],
   "source": [
    "grade = 39\n",
    "\n",
    "if grade >= 60:\n",
    "    print(\"You passed the exam.\")\n",
    "    print(\"Congratulations!\")\n",
    "else:\n",
    "    print(\"You failed the exam.\")\n",
    "    print(\"Better luck next time.\")"
   ]
  },
  {
   "cell_type": "markdown",
   "metadata": {},
   "source": [
    "## Conditional Statements and Loops\n",
    "\n",
    "We will often use if statements in conjunctions with loops. In the example below, we are provided with two lists, one that contains the names of several students, and one that contains the grades that these students got on an exam. We will loop over these lists, printing a different message for each student.  "
   ]
  },
  {
   "cell_type": "code",
   "execution_count": 4,
   "metadata": {},
   "outputs": [
    {
     "name": "stdout",
     "output_type": "stream",
     "text": [
      "Anna failed the exam.\n",
      "Beth passed the exam.\n",
      "Chad passed the exam.\n",
      "Drew failed the exam.\n",
      "Elsa passed the exam.\n",
      "Fred passed the exam.\n"
     ]
    }
   ],
   "source": [
    "names = ['Anna', 'Beth', 'Chad', 'Drew', 'Elsa', 'Fred']\n",
    "grades = [56, 92, 87, 43, 75, 62]\n",
    "\n",
    "for i in range(0, len(names) ):\n",
    "    if grades[i] < 60:\n",
    "        print(names[i] + ' failed the exam.')\n",
    "    else: \n",
    "        print(names[i] + ' passed the exam.')"
   ]
  },
  {
   "cell_type": "markdown",
   "metadata": {},
   "source": [
    "**<font color=\"orangered\" size=\"5\">� Exercise</font>**\n",
    "\n",
    "The modulus `%` is a mathematical operator that can be used to test for divisibilitiy. The expression `a % b` returns the remainder of `a` after division by `b`. If that remainder is 0, then that means that `a` is divisible by `b`. \n",
    "\n",
    "For example:"
   ]
  },
  {
   "cell_type": "code",
   "execution_count": 5,
   "metadata": {},
   "outputs": [
    {
     "name": "stdout",
     "output_type": "stream",
     "text": [
      "True\n",
      "False\n"
     ]
    }
   ],
   "source": [
    "print( 27 % 3 == 0)\n",
    "print( 17 % 3 == 0)"
   ]
  },
  {
   "cell_type": "markdown",
   "metadata": {},
   "source": [
    "A list of randomly generated integers is provided below. Write a loop that returns one of the following phrases for each element of rList:\n",
    "\n",
    "    [x] is even.\n",
    "    [x] is odd."
   ]
  },
  {
   "cell_type": "code",
   "execution_count": 6,
   "metadata": {},
   "outputs": [
    {
     "name": "stdout",
     "output_type": "stream",
     "text": [
      "74 is even.\n",
      "55 is odd.\n",
      "-77 is odd.\n",
      "58 is even.\n",
      "0 is even.\n",
      "91 is odd.\n",
      "62 is even.\n",
      "31 is odd.\n",
      "-91 is odd.\n",
      "61 is odd.\n",
      "-6 is even.\n",
      "12 is even.\n",
      "0 is even.\n",
      "-73 is odd.\n",
      "16 is even.\n",
      "53 is odd.\n",
      "-28 is even.\n",
      "-4 is even.\n",
      "88 is even.\n",
      "8 is even.\n"
     ]
    }
   ],
   "source": [
    "rList = [74, 55, -77, 58, 0, 91, 62, 31, -91, 61, -6, 12, 0, -73, 16, 53, -28, -4, 88, 8]\n",
    "\n",
    "for i in range(0, len(rList)):\n",
    "    if rList[i] % 2 == 0:\n",
    "        print(str(rList[i]) + \" is even.\")\n",
    "    else:\n",
    "        print(str(rList[i]) + \" is odd.\")"
   ]
  },
  {
   "cell_type": "markdown",
   "metadata": {},
   "source": [
    "## If-Elif-Else Statements\n",
    "\n",
    "If statements allow us to determine whether or not a single set of actions will be taken, and if-else statments allow us to determine which of two sets of actions will be taken. If we require our program to select from more than two options when making a decision, we can use an **if-elif-else** statment. The syntax for this sort of statement is as follows:\n",
    "\n",
    "<pre>\n",
    "if condition1:\n",
    "    code to be executed if condition is true\n",
    "elif condition2:  \n",
    "    code to be executed if condition1 is false, but condition2 is true\n",
    "elif condition3:  \n",
    "    code to be executed if all above conditions are false, but condition3 is true\n",
    "elif condition4:  \n",
    "    code to be executed if all above conditions are false, but condition4 is true\n",
    "...\n",
    "else:\n",
    "    code to be executed if all above conditions are false. \n",
    "</pre>\n",
    "\n",
    "\n",
    "We can include as many conditions as we would like in an **if-elif-else** statement. However, It is important to note that only one portion of the code will be allowed to execute. It is possible that multiple conditions might potentially evaluate to `True`, but as soon as the **if-elif-else** statement encounters its first `True` condition, it will execute the code for that condition, and will then skip the rest of the statment. \n",
    "\n",
    "The example below provides an example with a single `elif` clause. "
   ]
  },
  {
   "cell_type": "code",
   "execution_count": 7,
   "metadata": {},
   "outputs": [
    {
     "name": "stdout",
     "output_type": "stream",
     "text": [
      "74 is positive.\n",
      "55 is positive.\n",
      "-77 is negative.\n",
      "58 is positive.\n",
      "0 is neither positive nor negative.\n",
      "91 is positive.\n",
      "62 is positive.\n",
      "31 is positive.\n",
      "-91 is negative.\n",
      "61 is positive.\n",
      "-6 is negative.\n",
      "12 is positive.\n",
      "0 is neither positive nor negative.\n",
      "-73 is negative.\n",
      "16 is positive.\n",
      "53 is positive.\n",
      "-28 is negative.\n",
      "-4 is negative.\n",
      "88 is positive.\n",
      "8 is positive.\n"
     ]
    }
   ],
   "source": [
    "for i in range(0, len(rList)):\n",
    "    \n",
    "    if rList[i] < 0:\n",
    "        print(str(rList[i]) + \" is negative.\")\n",
    "    elif rList[i] > 0:\n",
    "        print(str(rList[i]) + \" is positive.\")\n",
    "    else:\n",
    "        print(str(rList[i]) + \" is neither positive nor negative.\")"
   ]
  },
  {
   "cell_type": "markdown",
   "metadata": {},
   "source": [
    "**<font color=\"orangered\" size=\"5\">� Exercise</font>**\n",
    "\n",
    "Two lists are given below. One provides a list of names. The other provides a list of credit scores associated with each of the people in the first list. Assume that credit scores are classified as follows:\n",
    "* 0 - 649 is considered \"poor\". \n",
    "* 650 - 699 is considered \"fair\".\n",
    "* 700 and up is considered \"good\". \n",
    "\n",
    "For each of the names in the list, print a statement of the following form:\n",
    "\n",
    "    [name] has a [poor/fair/good] credit score. "
   ]
  },
  {
   "cell_type": "code",
   "execution_count": 8,
   "metadata": {},
   "outputs": [
    {
     "name": "stdout",
     "output_type": "stream",
     "text": [
      "Anna has a fair credit score.\n",
      "Beth has a poor credit score.\n",
      "Chad has a good credit score.\n",
      "Drew has a poor credit score.\n",
      "Elsa has a poor credit score.\n",
      "Fred has a good credit score.\n"
     ]
    }
   ],
   "source": [
    "names = ['Anna', 'Beth', 'Chad', 'Drew', 'Elsa', 'Fred']\n",
    "credit = [683, 580, 752, 607, 615, 703]\n",
    "\n",
    "for i in range(0, len(names)):\n",
    "    \n",
    "    if(credit[i] <= 649):\n",
    "        print(names[i] + \" has a poor credit score.\")\n",
    "    elif(credit[i] <= 699):\n",
    "        print(names[i] + \" has a fair credit score.\")\n",
    "    else:\n",
    "        print(names[i] + \" has a good credit score.\")"
   ]
  },
  {
   "cell_type": "markdown",
   "metadata": {},
   "source": [
    "**<font color=\"orangered\" size=\"5\">� Exercise</font>**\n",
    "\n",
    "We can include as many `elif` statements as we would like. \n",
    "\n",
    "Assume that we have the following, more specific, classification of credit scores:\n",
    "* 0 - 599 is considered \"bad\". \n",
    "* 600 - 649 is considered \"poor\". \n",
    "* 650 - 699 is considered \"fair\".\n",
    "* 700 - 749 is considered \"good\". \n",
    "* 750 and up is considered \"excellent\". \n",
    "\n",
    "Modify the code from above to reflext this new classification system. "
   ]
  },
  {
   "cell_type": "code",
   "execution_count": 9,
   "metadata": {},
   "outputs": [
    {
     "name": "stdout",
     "output_type": "stream",
     "text": [
      "Anna has a fair credit score.\n",
      "Beth has a bad credit score.\n",
      "Chad has a excellent credit score.\n",
      "Drew has a poor credit score.\n",
      "Elsa has a poor credit score.\n",
      "Fred has a good credit score.\n"
     ]
    }
   ],
   "source": [
    "for i in range(0, len(names)):\n",
    "    \n",
    "    if(credit[i] <= 599):\n",
    "        print(names[i] + \" has a bad credit score.\")\n",
    "    elif(credit[i] <= 649):\n",
    "        print(names[i] + \" has a poor credit score.\")\n",
    "    elif(credit[i] <= 699):\n",
    "        print(names[i] + \" has a fair credit score.\")\n",
    "    elif(credit[i] <= 749):\n",
    "        print(names[i] + \" has a good credit score.\")\n",
    "    else:\n",
    "        print(names[i] + \" has a excellent credit score.\")"
   ]
  },
  {
   "cell_type": "markdown",
   "metadata": {},
   "source": [
    "## Logical Operators\n",
    "\n",
    "We can use the logical operators `and`, `or`, and `not` to combine basic conditional statments into more complex ones. These operators work as follows:\n",
    "\n",
    "* When `and` appears between two conditional statements, the combined statment will evaluate to `True` if and only if both of the original statements evaluated to `True`. \n",
    "* When `or` appears between two conditional statements, the combined statment will evaluate to `True` if either of the original statements evaluated to `True`. \n",
    "* When `not` appears before a conditional statement, it will negate the value of that particular statement. \n",
    "\n",
    "We will provide several basic examples in the cell below. \n"
   ]
  },
  {
   "cell_type": "code",
   "execution_count": 10,
   "metadata": {},
   "outputs": [
    {
     "name": "stdout",
     "output_type": "stream",
     "text": [
      "True\n",
      "False\n"
     ]
    }
   ],
   "source": [
    "x = 7\n",
    "print( (x > 2) and (x < 9) )\n",
    "print( (x > 2) and (x < 6) )"
   ]
  },
  {
   "cell_type": "code",
   "execution_count": 11,
   "metadata": {},
   "outputs": [
    {
     "name": "stdout",
     "output_type": "stream",
     "text": [
      "True\n",
      "False\n"
     ]
    }
   ],
   "source": [
    "print( (x > 2) or (x < 6) )\n",
    "print( (x > 9) or (x < 6) )"
   ]
  },
  {
   "cell_type": "code",
   "execution_count": 12,
   "metadata": {},
   "outputs": [
    {
     "name": "stdout",
     "output_type": "stream",
     "text": [
      "False\n"
     ]
    }
   ],
   "source": [
    "print( not (x < 9))"
   ]
  },
  {
   "cell_type": "markdown",
   "metadata": {},
   "source": [
    "**<font color=\"orangered\" size=\"5\">� Exercise</font>**\n",
    "\n",
    "In the cell below, we are provided with three lists. The list `names` contains the names of students, `grades1` contains scores for Exam 1, and `grades 2` contains scores for Exam 2. Loop over the lists, printing one of the following messages for each student:\n",
    "\n",
    "    [name] passed both exams. \n",
    "    [name] passed exam 1, but not exam 2. \n",
    "    [name] passed exam 2, but not exam 1. \n",
    "    [name] failed both exams. \n",
    "    \n",
    "Assume that a grade of 60 or higher is a passing grade."
   ]
  },
  {
   "cell_type": "code",
   "execution_count": 13,
   "metadata": {},
   "outputs": [
    {
     "name": "stdout",
     "output_type": "stream",
     "text": [
      "Anna passed exam 2, but not exam 1.\n",
      "Beth passed both exams.\n",
      "Chad passed both exams.\n",
      "Drew failed both exams.\n",
      "Elsa passed exam 1, but not exam 2.\n",
      "Fred passed both exams.\n"
     ]
    }
   ],
   "source": [
    "names = ['Anna', 'Beth', 'Chad', 'Drew', 'Elsa', 'Fred']\n",
    "grades1 = [56, 92, 87, 43, 75, 62]\n",
    "grades2 = [81, 95, 72, 21, 58, 64]\n",
    "\n",
    "for i in range(len(names)):\n",
    "    if (grades1[i] >= 60) and (grades2[i] >= 60):\n",
    "        print(names[i] + ' passed both exams.')\n",
    "    elif grades1[i] >= 60:\n",
    "        print(names[i] + ' passed exam 1, but not exam 2.')\n",
    "    elif grades2[i] >= 60:\n",
    "        print(names[i] + ' passed exam 2, but not exam 1.')\n",
    "    else:\n",
    "        print(names[i] + ' failed both exams.')\n",
    "        "
   ]
  },
  {
   "cell_type": "markdown",
   "metadata": {},
   "source": [
    "## Using Conditional Statements to Avoid Errors\n",
    "\n",
    "When Python encounters an error, it stops executing statements. We would like our code to be robust so that unexpected inputs do not cause our programs to stop executing prematurely. If statements can help us to avoid situations that would result in errors, thus breaking our code. \n",
    "\n",
    "We will illustrate this idea using the factorial funtion from the `math` package. We begin by importing this package. "
   ]
  },
  {
   "cell_type": "code",
   "execution_count": 14,
   "metadata": {},
   "outputs": [],
   "source": [
    "import math"
   ]
  },
  {
   "cell_type": "markdown",
   "metadata": {},
   "source": [
    "In the cell below, we would define a list of values. Our goal is to calculate the factorial of every whole number in this list. \n"
   ]
  },
  {
   "cell_type": "code",
   "execution_count": 15,
   "metadata": {},
   "outputs": [],
   "source": [
    "myList = [4, 3.0, 2.7, 7, 'one', 5]"
   ]
  },
  {
   "cell_type": "markdown",
   "metadata": {},
   "source": [
    "We will loop through `myList`, attempting to print the factorial of each element. "
   ]
  },
  {
   "cell_type": "code",
   "execution_count": 16,
   "metadata": {},
   "outputs": [
    {
     "name": "stdout",
     "output_type": "stream",
     "text": [
      "24\n",
      "6\n"
     ]
    },
    {
     "ename": "ValueError",
     "evalue": "factorial() only accepts integral values",
     "output_type": "error",
     "traceback": [
      "\u001b[1;31m---------------------------------------------------------------------------\u001b[0m",
      "\u001b[1;31mValueError\u001b[0m                                Traceback (most recent call last)",
      "\u001b[1;32m<ipython-input-16-c112b0404cec>\u001b[0m in \u001b[0;36m<module>\u001b[1;34m\u001b[0m\n\u001b[0;32m      1\u001b[0m \u001b[1;32mfor\u001b[0m \u001b[0mi\u001b[0m \u001b[1;32min\u001b[0m \u001b[0mrange\u001b[0m\u001b[1;33m(\u001b[0m\u001b[1;36m0\u001b[0m\u001b[1;33m,\u001b[0m \u001b[0mlen\u001b[0m\u001b[1;33m(\u001b[0m\u001b[0mmyList\u001b[0m\u001b[1;33m)\u001b[0m\u001b[1;33m)\u001b[0m\u001b[1;33m:\u001b[0m\u001b[1;33m\u001b[0m\u001b[1;33m\u001b[0m\u001b[0m\n\u001b[1;32m----> 2\u001b[1;33m     \u001b[0mprint\u001b[0m\u001b[1;33m(\u001b[0m\u001b[0mmath\u001b[0m\u001b[1;33m.\u001b[0m\u001b[0mfactorial\u001b[0m\u001b[1;33m(\u001b[0m\u001b[0mmyList\u001b[0m\u001b[1;33m[\u001b[0m\u001b[0mi\u001b[0m\u001b[1;33m]\u001b[0m\u001b[1;33m)\u001b[0m\u001b[1;33m)\u001b[0m\u001b[1;33m\u001b[0m\u001b[1;33m\u001b[0m\u001b[0m\n\u001b[0m",
      "\u001b[1;31mValueError\u001b[0m: factorial() only accepts integral values"
     ]
    }
   ],
   "source": [
    "for i in range(0, len(myList)):\n",
    "    print(math.factorial(myList[i]))"
   ]
  },
  {
   "cell_type": "markdown",
   "metadata": {},
   "source": [
    "The loop executed correctly for the first two elements in the list. However, once it hit the element 2.7, it threw an error and stopped executing. Factorials can only be calculated for whole numbers.\n",
    "\n",
    "We can correct this behavior by using conditional statements. "
   ]
  },
  {
   "cell_type": "code",
   "execution_count": 17,
   "metadata": {
    "scrolled": true
   },
   "outputs": [
    {
     "name": "stdout",
     "output_type": "stream",
     "text": [
      "24\n",
      "3.0 is not a whole number.\n",
      "2.7 is not a whole number.\n",
      "5040\n",
      "one is not a whole number.\n",
      "120\n"
     ]
    }
   ],
   "source": [
    "for i in range(0, len(myList)):\n",
    "    if(type(myList[i]) == int):\n",
    "        print(math.factorial(myList[i]))\n",
    "    else:\n",
    "        print(str(myList[i]) + \" is not a whole number.\")"
   ]
  },
  {
   "cell_type": "markdown",
   "metadata": {},
   "source": [
    "**<font color=\"orangered\" size=\"5\">� Exercise</font>**\n",
    "\n",
    "The factorial of the second element did not print. Can we fix this?"
   ]
  },
  {
   "cell_type": "code",
   "execution_count": 18,
   "metadata": {},
   "outputs": [
    {
     "name": "stdout",
     "output_type": "stream",
     "text": [
      "24\n",
      "6\n",
      "2.7 is not a whole number.\n",
      "5040\n",
      "one is not a whole number.\n",
      "120\n"
     ]
    }
   ],
   "source": [
    "int(myList[i]) == myList[i]\n",
    "\n",
    "for i in range(0, len(myList)):\n",
    "    if(type(myList[i]) == int):\n",
    "        print(math.factorial(myList[i]))\n",
    "    elif( type(myList[i]) == float and int(myList[i]) == myList[i]):\n",
    "        print(math.factorial(myList[i]))\n",
    "    else:\n",
    "        print(str(myList[i]) + \" is not a whole number.\")"
   ]
  }
 ],
 "metadata": {
  "kernelspec": {
   "display_name": "Python 3",
   "language": "python",
   "name": "python3"
  },
  "language_info": {
   "codemirror_mode": {
    "name": "ipython",
    "version": 3
   },
   "file_extension": ".py",
   "mimetype": "text/x-python",
   "name": "python",
   "nbconvert_exporter": "python",
   "pygments_lexer": "ipython3",
   "version": "3.7.1"
  }
 },
 "nbformat": 4,
 "nbformat_minor": 2
}
