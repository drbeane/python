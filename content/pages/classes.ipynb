{
 "cells": [
  {
   "cell_type": "markdown",
   "metadata": {},
   "source": [
    "# Lesson 20 - Classes\n",
    "\n",
    "### The following topics are discussed in this notebook:\n",
    "* Classes and instances. \n",
    "* Attributes and methods.\n",
    "* Constructors\n",
    "\n"
   ]
  },
  {
   "cell_type": "markdown",
   "metadata": {},
   "source": [
    "### Classes\n",
    "\n",
    "A **class** is a programmer-defined data type. Classes can contain variables, which are called **attributes**.\n",
    "\n",
    "In the next cell, we will create a class called `Rectangle`. It will contain two attributes, `corner_bl` and `corner_ur`, which which contain the coordinates of the bottom-left and upper-right coordinates of a rectangle. "
   ]
  },
  {
   "cell_type": "code",
   "execution_count": 1,
   "metadata": {},
   "outputs": [],
   "source": [
    "# Version 1\n",
    "\n",
    "class Rectangle_v1:  \n",
    "    # Attributes\n",
    "    corner_bl = [1,3]\n",
    "    corner_ur = [5,6]  "
   ]
  },
  {
   "cell_type": "markdown",
   "metadata": {},
   "source": [
    "### Instances\n",
    "\n",
    "The cell above does not actually create an object of the type `Rectangle`. It just defines the structure for later objects that we might create with this type. An object that is created with a certain class type is said to be an **instance** of that class. We may have several instances of the same class. \n",
    "\n",
    "In the cell below, we will create a single instance of the `Rectangle` class. We will then explore some aspects of this class. "
   ]
  },
  {
   "cell_type": "code",
   "execution_count": 2,
   "metadata": {},
   "outputs": [
    {
     "name": "stdout",
     "output_type": "stream",
     "text": [
      "<class '__main__.Rectangle_v1'>\n"
     ]
    }
   ],
   "source": [
    "rect1 = Rectangle_v1()\n",
    "print(type(rect1))"
   ]
  },
  {
   "cell_type": "code",
   "execution_count": 3,
   "metadata": {},
   "outputs": [
    {
     "name": "stdout",
     "output_type": "stream",
     "text": [
      "[1, 3]\n",
      "[5, 6]\n"
     ]
    }
   ],
   "source": [
    "print(rect1.corner_bl)\n",
    "print(rect1.corner_ur)"
   ]
  },
  {
   "cell_type": "markdown",
   "metadata": {},
   "source": [
    "### Changing Attribute Values\n",
    "\n",
    "We can change the value of class attributes (although this is often not advisable to do so). "
   ]
  },
  {
   "cell_type": "code",
   "execution_count": 4,
   "metadata": {},
   "outputs": [
    {
     "name": "stdout",
     "output_type": "stream",
     "text": [
      "[1, 3]\n",
      "[3, 8]\n"
     ]
    }
   ],
   "source": [
    "rect1.corner_ur = [3,8]\n",
    "\n",
    "print(rect1.corner_bl)\n",
    "print(rect1.corner_ur)"
   ]
  },
  {
   "cell_type": "markdown",
   "metadata": {},
   "source": [
    "### Multiple Instances\n",
    "\n",
    "As mentioned previously, we can have multiple instances of a single class. "
   ]
  },
  {
   "cell_type": "code",
   "execution_count": 5,
   "metadata": {},
   "outputs": [
    {
     "name": "stdout",
     "output_type": "stream",
     "text": [
      "rect1 corners: [1, 3] and [3, 8]\n",
      "rect2 corners: [1, 3] and [5, 6]\n"
     ]
    }
   ],
   "source": [
    "rect2 = Rectangle_v1()\n",
    "\n",
    "print('rect1 corners:', rect1.corner_bl, 'and', rect1.corner_ur)\n",
    "print('rect2 corners:', rect2.corner_bl, 'and', rect2.corner_ur)"
   ]
  },
  {
   "cell_type": "markdown",
   "metadata": {},
   "source": [
    "When we set a variable to be equal to an existing instance of a class, it does not create a new version of that class. Instance, the new variable simply points to the already existing instance. Recall that lists exhibit a similar behavior. "
   ]
  },
  {
   "cell_type": "code",
   "execution_count": 6,
   "metadata": {},
   "outputs": [
    {
     "name": "stdout",
     "output_type": "stream",
     "text": [
      "rect1 corners: [1, 3] and [3, 8]\n",
      "rect2 corners: [1, 3] and [5, 6]\n",
      "rect3 corners: [1, 3] and [3, 8]\n"
     ]
    }
   ],
   "source": [
    "rect3 = rect1\n",
    "\n",
    "print('rect1 corners:', rect1.corner_bl, 'and', rect1.corner_ur)\n",
    "print('rect2 corners:', rect2.corner_bl, 'and', rect2.corner_ur)\n",
    "print('rect3 corners:', rect3.corner_bl, 'and', rect3.corner_ur)"
   ]
  },
  {
   "cell_type": "code",
   "execution_count": 7,
   "metadata": {},
   "outputs": [
    {
     "name": "stdout",
     "output_type": "stream",
     "text": [
      "rect1 corners: [2, 4] and [3, 8]\n",
      "rect2 corners: [1, 3] and [5, 6]\n",
      "rect3 corners: [2, 4] and [3, 8]\n"
     ]
    }
   ],
   "source": [
    "rect1.corner_bl = [2,4]\n",
    "\n",
    "print('rect1 corners:', rect1.corner_bl, 'and', rect1.corner_ur)\n",
    "print('rect2 corners:', rect2.corner_bl, 'and', rect2.corner_ur)\n",
    "print('rect3 corners:', rect3.corner_bl, 'and', rect3.corner_ur)"
   ]
  },
  {
   "cell_type": "markdown",
   "metadata": {},
   "source": [
    "### Methods\n",
    "\n",
    "A **method** is a function that is associated with a certain class. A method is always called by using a particular instance of the class, and that instance is always provided to the method as an argument. "
   ]
  },
  {
   "cell_type": "code",
   "execution_count": 8,
   "metadata": {},
   "outputs": [],
   "source": [
    "# Version 2\n",
    "\n",
    "class Rectangle_v2:  \n",
    "    # Attributes\n",
    "    corner_bl = [1,3]\n",
    "    corner_ur = [5,6]  \n",
    "    \n",
    "    # Methods\n",
    "    def get_width(self):\n",
    "        return self.corner_ur[0] - self.corner_bl[0]\n",
    "    \n",
    "    def get_height(self):\n",
    "        return self.corner_ur[1] - self.corner_bl[1]"
   ]
  },
  {
   "cell_type": "code",
   "execution_count": 9,
   "metadata": {},
   "outputs": [
    {
     "name": "stdout",
     "output_type": "stream",
     "text": [
      "rect1 corners: [1, 3] and [5, 6]\n",
      "rect1 width:   4\n",
      "rect1 height:  3\n"
     ]
    }
   ],
   "source": [
    "rect1 = Rectangle_v2()\n",
    "\n",
    "w = rect1.get_width()\n",
    "h = rect1.get_height()\n",
    "\n",
    "print('rect1 corners:', rect1.corner_bl, 'and', rect1.corner_ur)\n",
    "print('rect1 width:  ', w)\n",
    "print('rect1 height: ', h)"
   ]
  },
  {
   "cell_type": "code",
   "execution_count": 10,
   "metadata": {},
   "outputs": [
    {
     "name": "stdout",
     "output_type": "stream",
     "text": [
      "rect1 corners: [4, 1] and [9, 2]\n",
      "rect1 width:   5\n",
      "rect1 height:  1\n"
     ]
    }
   ],
   "source": [
    "rect1.corner_bl = [4,1]\n",
    "rect1.corner_ur = [9,2]\n",
    "\n",
    "w = rect1.get_width()\n",
    "h = rect1.get_height()\n",
    "\n",
    "print('rect1 corners:', rect1.corner_bl, 'and', rect1.corner_ur)\n",
    "print('rect1 width:  ', w)\n",
    "print('rect1 height: ', h)"
   ]
  },
  {
   "cell_type": "markdown",
   "metadata": {},
   "source": [
    "### Methods Calling Methods\n",
    "\n",
    "A method in a class has access not only to the attributes within that class, but also the other methods. "
   ]
  },
  {
   "cell_type": "code",
   "execution_count": 11,
   "metadata": {
    "jupyter": {
     "outputs_hidden": true
    }
   },
   "outputs": [],
   "source": [
    "# Version 3\n",
    "\n",
    "class Rectangle_v3:  \n",
    "    # Attributes\n",
    "    corner_bl = [1,3]\n",
    "    corner_ur = [5,6]  \n",
    "    \n",
    "    # Methods\n",
    "    def get_width(self):\n",
    "        return self.corner_ur[0] - self.corner_bl[0]\n",
    "    \n",
    "    def get_height(self):\n",
    "        return self.corner_ur[1] - self.corner_bl[1]\n",
    "    \n",
    "    def get_area(self):\n",
    "        w = self.get_width()\n",
    "        h = self.get_height()\n",
    "        return h*w"
   ]
  },
  {
   "cell_type": "code",
   "execution_count": 12,
   "metadata": {},
   "outputs": [
    {
     "name": "stdout",
     "output_type": "stream",
     "text": [
      "rect1 corners: [1, 3] and [5, 6]\n",
      "rect1 width:   4\n",
      "rect1 height:  3\n",
      "rect1 area:    12\n"
     ]
    }
   ],
   "source": [
    "rect1 = Rectangle_v3()\n",
    "\n",
    "print('rect1 corners:', rect1.corner_bl, 'and', rect1.corner_ur)\n",
    "print('rect1 width:  ', rect1.get_width())\n",
    "print('rect1 height: ', rect1.get_height())\n",
    "print('rect1 area:   ', rect1.get_area())"
   ]
  },
  {
   "cell_type": "markdown",
   "metadata": {},
   "source": [
    "### Constructors\n",
    "\n",
    "A **constuctor** is a special method that is called automatically when an instance of a class is created. This can allow us to set the values of class attributes when the instance is created. The constuctor of a class in Python is always named `__init__()`. \n",
    "\n"
   ]
  },
  {
   "cell_type": "code",
   "execution_count": 17,
   "metadata": {
    "jupyter": {
     "outputs_hidden": true
    }
   },
   "outputs": [],
   "source": [
    "# Version 4\n",
    "\n",
    "class Rectangle_v4:  \n",
    "    # Attributes\n",
    "    #corner_bl = [1,3]\n",
    "    #corner_ur = [5,6]  \n",
    "    \n",
    "    # Methods\n",
    "    def __init__(self, corner_bl, corner_ur):\n",
    "        self.corner_bl = corner_bl\n",
    "        self.corner_ur = corner_ur\n",
    "    \n",
    "    def get_width(self):\n",
    "        return self.corner_ur[0] - self.corner_bl[0]\n",
    "    \n",
    "    def get_height(self):\n",
    "        return self.corner_ur[1] - self.corner_bl[1]\n",
    "    \n",
    "    def get_area(self):\n",
    "        w = self.get_width()\n",
    "        h = self.get_height()\n",
    "        return h*w"
   ]
  },
  {
   "cell_type": "code",
   "execution_count": 18,
   "metadata": {
    "scrolled": true
   },
   "outputs": [
    {
     "name": "stdout",
     "output_type": "stream",
     "text": [
      "rect1 area: 15\n",
      "rect2 area: 7\n"
     ]
    }
   ],
   "source": [
    "rect1 = Rectangle_v4([1,2], [6,5])\n",
    "rect2 = Rectangle_v4([3,2], [4,9])\n",
    "\n",
    "print('rect1 area:', rect1.get_area())\n",
    "print('rect2 area:', rect2.get_area())"
   ]
  },
  {
   "cell_type": "markdown",
   "metadata": {},
   "source": [
    "### Methods Can Alter Attributes\n",
    "\n",
    "Class methods are able to alter the value of the attributes of that class. \n"
   ]
  },
  {
   "cell_type": "code",
   "execution_count": 22,
   "metadata": {
    "jupyter": {
     "outputs_hidden": true
    }
   },
   "outputs": [],
   "source": [
    "# Version 5\n",
    "\n",
    "class Rectangle_v5:  \n",
    "    # Attributes\n",
    "    corner_bl = [1,3]\n",
    "    corner_ur = [5,6]  \n",
    "    \n",
    "    # Methods\n",
    "    def __init__(self, corner_bl, corner_ur):\n",
    "        self.corner_bl = corner_bl\n",
    "        self.corner_ur = corner_ur\n",
    "    \n",
    "    def get_width(self):\n",
    "        return self.corner_ur[0] - self.corner_bl[0]\n",
    "    \n",
    "    def get_height(self):\n",
    "        return self.corner_ur[1] - self.corner_bl[1]\n",
    "    \n",
    "    def get_area(self):\n",
    "        w = self.get_width()\n",
    "        h = self.get_height()\n",
    "        return h*w\n",
    "    \n",
    "    def grow(self, dw, dh):\n",
    "        self.corner_ur[0] += dw\n",
    "        self.corner_ur[1] += dh\n",
    "        return self"
   ]
  },
  {
   "cell_type": "code",
   "execution_count": 23,
   "metadata": {},
   "outputs": [
    {
     "name": "stdout",
     "output_type": "stream",
     "text": [
      "rect1 corners: [0, 0] and [9, 5]\n"
     ]
    }
   ],
   "source": [
    "rect1 = Rectangle_v5([0,0], [3,4])\n",
    "rect1.grow(6,1)\n",
    "\n",
    "print('rect1 corners:', rect1.corner_bl, 'and', rect1.corner_ur)"
   ]
  },
  {
   "cell_type": "markdown",
   "metadata": {},
   "source": [
    "### Passing Instances as Arguments\n",
    "\n",
    "A class method is able to take instances of that class as parameters. "
   ]
  },
  {
   "cell_type": "code",
   "execution_count": 24,
   "metadata": {
    "jupyter": {
     "outputs_hidden": true
    }
   },
   "outputs": [],
   "source": [
    "# Version 6\n",
    "\n",
    "class Rectangle_v6:  \n",
    "    # Attributes\n",
    "    corner_bl = [1,3]\n",
    "    corner_ur = [5,6]  \n",
    "    \n",
    "    # Methods\n",
    "    def __init__(self, corner_bl, corner_ur):\n",
    "        self.corner_bl = corner_bl\n",
    "        self.corner_ur = corner_ur\n",
    "    \n",
    "    def get_width(self):\n",
    "        return self.corner_ur[0] - self.corner_bl[0]\n",
    "    \n",
    "    def get_height(self):\n",
    "        return self.corner_ur[1] - self.corner_bl[1]\n",
    "    \n",
    "    def get_area(self):\n",
    "        w = self.get_width()\n",
    "        h = self.get_height()\n",
    "        return h*w\n",
    "    \n",
    "    def grow(self, dw, dh):\n",
    "        self.corner_ur[0] += dw\n",
    "        self.corner_ur[1] += dh\n",
    "        return self\n",
    "    \n",
    "    def is_smaller(self, other):\n",
    "        if(self.get_area() < other.get_area()):\n",
    "            return True\n",
    "        return False"
   ]
  },
  {
   "cell_type": "code",
   "execution_count": 25,
   "metadata": {},
   "outputs": [
    {
     "name": "stdout",
     "output_type": "stream",
     "text": [
      "False\n"
     ]
    }
   ],
   "source": [
    "rect1 = Rectangle_v6([0,0], [3,4])\n",
    "rect2 = Rectangle_v6([2,3], [4,6])\n",
    "\n",
    "print(rect1.is_smaller(rect2))"
   ]
  },
  {
   "cell_type": "code",
   "execution_count": 26,
   "metadata": {
    "scrolled": true
   },
   "outputs": [
    {
     "name": "stdout",
     "output_type": "stream",
     "text": [
      "True\n"
     ]
    }
   ],
   "source": [
    "rect1 = Rectangle_v6([0,0], [3,4])\n",
    "rect2 = Rectangle_v6([2,3], [5,9])\n",
    "\n",
    "print(rect1.is_smaller(rect2))"
   ]
  },
  {
   "cell_type": "markdown",
   "metadata": {},
   "source": [
    "### Returning New Instances\n",
    "\n",
    "It is possible for a class method to create and return a new instance of the class itself."
   ]
  },
  {
   "cell_type": "code",
   "execution_count": 29,
   "metadata": {
    "jupyter": {
     "outputs_hidden": true
    }
   },
   "outputs": [],
   "source": [
    "# Version 7\n",
    "\n",
    "class Rectangle_v7:  \n",
    "    # Attributes\n",
    "    corner_bl = [1,3]\n",
    "    corner_ur = [5,6]  \n",
    "    \n",
    "    # Methods\n",
    "    def __init__(self, corner_bl, corner_ur):\n",
    "        self.corner_bl = corner_bl\n",
    "        self.corner_ur = corner_ur\n",
    "    \n",
    "    def get_width(self):\n",
    "        return self.corner_ur[0] - self.corner_bl[0]\n",
    "    \n",
    "    def get_height(self):\n",
    "        return self.corner_ur[1] - self.corner_bl[1]\n",
    "    \n",
    "    def get_area(self):\n",
    "        w = self.get_width()\n",
    "        h = self.get_height()\n",
    "        return h*w\n",
    "    \n",
    "    def grow(self, dw, dh):\n",
    "        self.corner_ur[0] += dw\n",
    "        self.corner_ur[1] += dh\n",
    "        return self\n",
    "    \n",
    "    def is_smaller(self, other):\n",
    "        if(self.get_area() < other.get_area()):\n",
    "            return True\n",
    "        return False\n",
    "    \n",
    "    def intersect(self, other):\n",
    "        x1 = max(self.corner_bl[0], other.corner_bl[0])\n",
    "        y1 = max(self.corner_bl[1], other.corner_bl[1])\n",
    "        x2 = min(self.corner_ur[0], other.corner_ur[0])\n",
    "        y2 = min(self.corner_ur[1], other.corner_ur[1])\n",
    "        new_rect = Rectangle_v7([x1,y1], [x2,y2])\n",
    "        return new_rect"
   ]
  },
  {
   "cell_type": "code",
   "execution_count": 33,
   "metadata": {},
   "outputs": [
    {
     "name": "stdout",
     "output_type": "stream",
     "text": [
      "rect3 corners: [2, 2] and [1, 1]\n"
     ]
    }
   ],
   "source": [
    "rect1 = Rectangle_v7([0,0], [1,1])\n",
    "rect2 = Rectangle_v7([2,2], [5,5])\n",
    "\n",
    "rect3 = rect1.intersect(rect2)\n",
    "print('rect3 corners:', rect3.corner_bl, 'and', rect3.corner_ur)"
   ]
  }
 ],
 "metadata": {
  "kernelspec": {
   "display_name": "Python 3",
   "language": "python",
   "name": "python3"
  },
  "language_info": {
   "codemirror_mode": {
    "name": "ipython",
    "version": 3
   },
   "file_extension": ".py",
   "mimetype": "text/x-python",
   "name": "python",
   "nbconvert_exporter": "python",
   "pygments_lexer": "ipython3",
   "version": "3.7.3"
  }
 },
 "nbformat": 4,
 "nbformat_minor": 4
}
