{
 "cells": [
  {
   "cell_type": "markdown",
   "metadata": {},
   "source": [
    "# Lesson 09 - Introduction to Functions\n",
    "\n",
    "### The following topics are discussed in this notebook:\n",
    "* Defining functions. \n",
    "* Parameters and arguments. \n",
    "* Return values. \n",
    "\n",
    "### Additional Resources\n",
    "* Chapter 08 of **Python Crash Course**.\n",
    "* [DataCamp: Python Data Science Toolbox (Part 1), Ch 1](https://www.datacamp.com/courses/python-data-science-toolbox-part-1)\n",
    "\n",
    "\n",
    "\n"
   ]
  },
  {
   "cell_type": "markdown",
   "metadata": {},
   "source": [
    "## Function Basics\n",
    "\n",
    "A **function** is a sequence of instructions that has been given a name. Functions usually (but not always) take some number of inputs, called **parameters**, and usually (but not always) give an output, called the **return value**. When we use a function in our code, we say that we are **calling** the function. \n",
    "\n",
    "Once a function has been defined, it can be called from anywhere within your program. If you find that there is a task that you are repeating often and that requires several lines of codes, it might be a good idea to group those lines of code together into a function. \n",
    "\n",
    "Most functions we write will accept one or more inputs and will generate an output. However, We will start by considering functions that do not accept inputs, and that do not provide outputs. The syntax for defining such a function is as follows:\n",
    "\n",
    "<pre>\n",
    "def function_name():\n",
    "    Code to be executed by the function.\n",
    "</pre>\n",
    "\n",
    "We start by defining a (very) simple function below. "
   ]
  },
  {
   "cell_type": "code",
   "execution_count": null,
   "metadata": {},
   "outputs": [],
   "source": [
    "def rick_roll():\n",
    "    print(\"Never gonna give you up. Never gonna let you down.\")"
   ]
  },
  {
   "cell_type": "markdown",
   "metadata": {},
   "source": [
    "Notice that nothing was printed when we defined the function. This cell defined the function, but it did not call it. Thus, the code inside of the function was not executed. "
   ]
  },
  {
   "cell_type": "code",
   "execution_count": null,
   "metadata": {},
   "outputs": [],
   "source": [
    "rick_roll()"
   ]
  },
  {
   "cell_type": "code",
   "execution_count": null,
   "metadata": {
    "scrolled": true
   },
   "outputs": [],
   "source": [
    "for n in range(0,5):\n",
    "    rick_roll()"
   ]
  },
  {
   "cell_type": "markdown",
   "metadata": {},
   "source": [
    "## Parameters and Arguments\n",
    "\n",
    "The function `rick_roll()` defined above is not vary useful (for a few reasons). In particular, it doesn't accept any inputs. There are occassions when you will want to write functions that take no inputs, but functions are generally more useful when we are able to supply them information that affects how they behave. \n",
    "\n",
    "To specify that a function should accept one or more parameters, we list names for the parameters between the parentheses in the function definition. We can include as many parameters as we like, as long as we separate them with commas. \n",
    "\n",
    "The function below prints the square of a number that is supplied to it. "
   ]
  },
  {
   "cell_type": "code",
   "execution_count": null,
   "metadata": {},
   "outputs": [],
   "source": [
    "def square(n):\n",
    "    print(n**2)"
   ]
  },
  {
   "cell_type": "markdown",
   "metadata": {},
   "source": [
    "The variable `n` in the function definition above is called a **parameter**. We would like for our function to work on any number that is supplied to it, and so we use the parameter `n` to serve as a placeholder for any number supplied to `square()`. The parameter `n` has a new value assigned to it each time the function is called. Any specific number supplied to the function is referred to as an **argument**."
   ]
  },
  {
   "cell_type": "code",
   "execution_count": null,
   "metadata": {},
   "outputs": [],
   "source": [
    "square(2)\n",
    "square(3.6)\n",
    "square(-3)\n",
    "#square('circle')"
   ]
  },
  {
   "cell_type": "markdown",
   "metadata": {},
   "source": [
    "To clarify, when you see a function definition such as:\n",
    "    \n",
    "    def my_function(x):\n",
    "        Code to be executed.\n",
    "    \n",
    "The variable between the parentheses is referred to as a **parameter**. A parameter is simply a placeholder for a value to be supplied later. A specific number that is substituted in for the parameter is called an **argument**. For example, consider the following expression:\n",
    "\n",
    "    my_function(7)\n",
    "    \n",
    "In this case 7 is an argument that is being \"plugged in\" to the parameter `x`.\n",
    "\n",
    "If we would like, we can specify the name of the parameter when we are calling a function. This is usually not necessary, however. "
   ]
  },
  {
   "cell_type": "code",
   "execution_count": null,
   "metadata": {},
   "outputs": [],
   "source": [
    "square(n=4)"
   ]
  },
  {
   "cell_type": "markdown",
   "metadata": {},
   "source": [
    "**<font color=\"orangered\" size=\"5\">� Exercise</font>**\n",
    "\n",
    "Write a function called `square_message()`. The function should take one argument, `n`, and should print the message:\n",
    "\n",
    "    The square of [n] is [n**2]."
   ]
  },
  {
   "cell_type": "code",
   "execution_count": null,
   "metadata": {},
   "outputs": [],
   "source": []
  },
  {
   "cell_type": "markdown",
   "metadata": {},
   "source": [
    "In the cell below, add a loop that applies the function `square_message()` to every element of the list `A`. "
   ]
  },
  {
   "cell_type": "code",
   "execution_count": null,
   "metadata": {},
   "outputs": [],
   "source": [
    "A = [12, 34, 89, 17, 23, 49, 87, 34, 89, 71]\n",
    "\n"
   ]
  },
  {
   "cell_type": "markdown",
   "metadata": {},
   "source": [
    "## Return Values\n",
    "\n",
    "All of the function we have written so far have printed some sort of message. However, we will not always desire this sort of behavior. Most of the pre-defined functions we have seen in this course print nothing at all, but instead provide some sort of output that can be printed, or stored into a variable. \n",
    "\n",
    "For example, the `sum()` function takes a list as an input, and provides the sum of the values in the list as the output. When a function provides an output, that output is called a **return value**. \n",
    "\n",
    "The syntax for defining a function with a return value is as follows:\n",
    "\n",
    "    def my_function(parameter1, parameter 2, ...):\n",
    "        Code to be executed.\n",
    "        return value_to_be_returned\n",
    "        \n",
    "As a simple example, the cell below defines a function called `half()` that accepts a single input, and returns the input divided by 2. "
   ]
  },
  {
   "cell_type": "code",
   "execution_count": null,
   "metadata": {},
   "outputs": [],
   "source": [
    "def half(x):\n",
    "    return x/2"
   ]
  },
  {
   "cell_type": "code",
   "execution_count": null,
   "metadata": {},
   "outputs": [],
   "source": [
    "print(half(100))\n",
    "print(half(35))\n",
    "print(half(3.14159))"
   ]
  },
  {
   "cell_type": "markdown",
   "metadata": {},
   "source": [
    "We can nest function calls inside of each other. In this way, the return value for one function call becomes the argument for another. "
   ]
  },
  {
   "cell_type": "code",
   "execution_count": null,
   "metadata": {},
   "outputs": [],
   "source": [
    "one_eighth = half(half(half(20)))\n",
    "print(one_eighth)"
   ]
  },
  {
   "cell_type": "markdown",
   "metadata": {},
   "source": [
    "**<font color=\"orangered\" size=\"5\">� Exercise</font>**\n",
    "\n",
    "Write a function called `sumN()` that take a single parameter `n`, and returns the sum of the first n positive integers. "
   ]
  },
  {
   "cell_type": "code",
   "execution_count": null,
   "metadata": {},
   "outputs": [],
   "source": []
  },
  {
   "cell_type": "markdown",
   "metadata": {},
   "source": [
    "Call `sumN()` on 100, and also on 237. Print the return value for each function call. "
   ]
  },
  {
   "cell_type": "code",
   "execution_count": null,
   "metadata": {},
   "outputs": [],
   "source": []
  },
  {
   "cell_type": "markdown",
   "metadata": {},
   "source": [
    "**<font color=\"orangered\" size=\"5\">� Exercise</font>**\n",
    "\n",
    "Write a function called `fact()` that takes in one argument, and returns the factorial of that argument. "
   ]
  },
  {
   "cell_type": "code",
   "execution_count": null,
   "metadata": {},
   "outputs": [],
   "source": []
  },
  {
   "cell_type": "markdown",
   "metadata": {},
   "source": [
    "Call `fact()` on 3, 5, 10, and 20. "
   ]
  },
  {
   "cell_type": "code",
   "execution_count": null,
   "metadata": {
    "scrolled": true
   },
   "outputs": [],
   "source": []
  },
  {
   "cell_type": "markdown",
   "metadata": {},
   "source": [
    "## Multiple Return Statements\n",
    "\n",
    "It is possible for a function to have multiple return statements. As soon as a return statement is hit, however, the function returns that value and then exits. As an illustration of this idea, compare the following two functions, both of which return the absolute value of a number. "
   ]
  },
  {
   "cell_type": "code",
   "execution_count": null,
   "metadata": {},
   "outputs": [],
   "source": [
    "def abs_val_1(x):\n",
    "    \n",
    "    if (x < 0):\n",
    "        absVal = -x\n",
    "    else:\n",
    "        absVal = x\n",
    "        \n",
    "    return absVal"
   ]
  },
  {
   "cell_type": "code",
   "execution_count": null,
   "metadata": {},
   "outputs": [],
   "source": [
    "print(abs_val_1(9))\n",
    "print(abs_val_1(-3.8))"
   ]
  },
  {
   "cell_type": "code",
   "execution_count": null,
   "metadata": {},
   "outputs": [],
   "source": [
    "def abs_val_2(x):\n",
    "    if(x < 0):\n",
    "        return -x\n",
    "    return x"
   ]
  },
  {
   "cell_type": "code",
   "execution_count": null,
   "metadata": {},
   "outputs": [],
   "source": [
    "print(abs_val_2(9))\n",
    "print(abs_val_2(-3.8))"
   ]
  },
  {
   "cell_type": "markdown",
   "metadata": {},
   "source": [
    "## Functions with Multiple Parameters\n",
    "\n",
    "It is possible for functions to have two or more parameters. Consider the following example."
   ]
  },
  {
   "cell_type": "code",
   "execution_count": null,
   "metadata": {},
   "outputs": [],
   "source": [
    "def power(a, b):\n",
    "    return a**b"
   ]
  },
  {
   "cell_type": "code",
   "execution_count": null,
   "metadata": {
    "scrolled": true
   },
   "outputs": [],
   "source": [
    "print( power(2, 5) )\n",
    "print( power(3, 4) )\n",
    "print( power(10, 2) )\n",
    "print( power(2, 10) )"
   ]
  },
  {
   "cell_type": "markdown",
   "metadata": {},
   "source": [
    "Notice that when we call a function with multiple arguments, the arguments are assigned to the parameters in the same order as they appear. If we specify names for the parameters when we call a function, then we can supply the arguments in any order that we wish. "
   ]
  },
  {
   "cell_type": "code",
   "execution_count": null,
   "metadata": {},
   "outputs": [],
   "source": [
    "print(power(a=4, b=3))\n",
    "print(power(b=3, a=4))"
   ]
  },
  {
   "cell_type": "markdown",
   "metadata": {},
   "source": [
    "Supplying names for our parameters can make our code easier to read when we are using functions with many parameters. It can also be useful when we can't recall the exact order in which the parameters appeared in the function definition. "
   ]
  },
  {
   "cell_type": "markdown",
   "metadata": {},
   "source": [
    "## Default Parameter Values"
   ]
  },
  {
   "cell_type": "markdown",
   "metadata": {},
   "source": [
    "It is sometimes useful to assign a default value to a parameter. This can be done by setting the parameter equal to the desired default value in the function definition. When the function is called, if an argument is supplied for this parameter, it will override the default value. If no argument is supplied for a parameter with a default value, then the default will be used. "
   ]
  },
  {
   "cell_type": "code",
   "execution_count": null,
   "metadata": {},
   "outputs": [],
   "source": [
    "def sum_first(arg_list, n=5):\n",
    "    total = 0\n",
    "    for i in range(n):\n",
    "        total += arg_list[i]\n",
    "    return total"
   ]
  },
  {
   "cell_type": "code",
   "execution_count": null,
   "metadata": {},
   "outputs": [],
   "source": [
    "my_list = [4, 8, 5, 7, 4, 9, 1, 6, 3, 2]\n",
    "\n",
    "print(sum_first(my_list, 3))\n",
    "print(sum_first(my_list, 5))\n",
    "print(sum_first(my_list))"
   ]
  },
  {
   "cell_type": "markdown",
   "metadata": {},
   "source": [
    "**<font color=\"orangered\" size=\"5\">� Exercise</font>**\n",
    "\n",
    "If the argument supplied for `n` in the `sum_first()` function is greater than the length of the list, then the function will result in an error. In the cell below, rewrite this function so that in this case, it instead retuns the sum of all of the elements in the list. "
   ]
  },
  {
   "cell_type": "code",
   "execution_count": null,
   "metadata": {},
   "outputs": [],
   "source": []
  },
  {
   "cell_type": "code",
   "execution_count": null,
   "metadata": {},
   "outputs": [],
   "source": [
    "print(sum_first(my_list, 15))"
   ]
  },
  {
   "cell_type": "markdown",
   "metadata": {},
   "source": [
    "**<font color=\"orangered\" size=\"5\">� Exercise</font>**\n",
    "\n",
    "Write a function called `SumOfSquares` that takes a list as an argument, and returns the sum of the squares of the list."
   ]
  },
  {
   "cell_type": "code",
   "execution_count": null,
   "metadata": {},
   "outputs": [],
   "source": []
  },
  {
   "cell_type": "code",
   "execution_count": null,
   "metadata": {},
   "outputs": [],
   "source": []
  },
  {
   "cell_type": "markdown",
   "metadata": {},
   "source": [
    "**<font color=\"orangered\" size=\"5\">� Exercise</font>**\n",
    "\n",
    "Write a function called `SumPower` that takes as parameters a list called `arg_list` and an integer called `power`. The function should raise every element of `arg_list` to the power specified by `power`, and then sum the results.  The parameter `power` should have a default value of 1. "
   ]
  },
  {
   "cell_type": "code",
   "execution_count": null,
   "metadata": {},
   "outputs": [],
   "source": []
  },
  {
   "cell_type": "markdown",
   "metadata": {},
   "source": [
    "Test your function by running the cells below."
   ]
  },
  {
   "cell_type": "code",
   "execution_count": null,
   "metadata": {},
   "outputs": [],
   "source": [
    "A = [4,2,1]\n",
    "print(SumPower(A, 2))\n",
    "print(SumPower(A, 3))\n",
    "print(SumPower(A, 7))"
   ]
  },
  {
   "cell_type": "code",
   "execution_count": null,
   "metadata": {},
   "outputs": [],
   "source": [
    "print(SumPower(A,1))\n",
    "print(SumPower(A))"
   ]
  },
  {
   "cell_type": "markdown",
   "metadata": {},
   "source": [
    "**<font color=\"orangered\" size=\"5\">� Exercise</font>**\n",
    "\n",
    "Write a function called `CountItems` that takes two parameters: `arg_list` and `item`. The function should return the number of times that `item` appears as an element of `arg_list`. "
   ]
  },
  {
   "cell_type": "code",
   "execution_count": null,
   "metadata": {},
   "outputs": [],
   "source": []
  },
  {
   "cell_type": "markdown",
   "metadata": {},
   "source": [
    "Test your function by running the cell below."
   ]
  },
  {
   "cell_type": "code",
   "execution_count": null,
   "metadata": {},
   "outputs": [],
   "source": [
    "Grades = ['A', 'A', 'C', 'B', 'F', 'D', 'C', 'B', 'F', 'A', 'C']\n",
    "\n",
    "print(CountItems(Grades, 'A'))\n",
    "print(CountItems(Grades, 'B'))\n",
    "print(CountItems(Grades, 'C'))\n",
    "print(CountItems(Grades, 'D'))\n",
    "print(CountItems(Grades, 'E'))\n",
    "print(CountItems(Grades, 'F'))"
   ]
  },
  {
   "cell_type": "markdown",
   "metadata": {},
   "source": [
    "**<font color=\"orangered\" size=\"5\">� Exercise</font>**\n",
    "\n",
    "Write a function called `FindItem` that has three paramaters, `arg_list`, `item`, and `all`. The parameter `all` should have a default value of `False`. The function should behave as follows:\n",
    "\n",
    "* If `all == False`, then the function should search for the first time that `item` appears in `arg_list`, and should return the index of that occurrence.\n",
    "* If `all == True`, then the function should return a list that contains all indices for which `item` appears in `arg_list`.\n",
    "* If `item` does not appear in `arg_list`, then the function should return `None`."
   ]
  },
  {
   "cell_type": "code",
   "execution_count": null,
   "metadata": {},
   "outputs": [],
   "source": []
  },
  {
   "cell_type": "markdown",
   "metadata": {},
   "source": [
    "After defining your function, use the following lines of code to test it."
   ]
  },
  {
   "cell_type": "code",
   "execution_count": null,
   "metadata": {},
   "outputs": [],
   "source": [
    "print(FindItem(Grades, 'C'))\n",
    "print(FindItem(Grades, 'C', all=True))\n",
    "print(FindItem(Grades, 'E'))\n",
    "print(FindItem(Grades, 'E', all=True))"
   ]
  }
 ],
 "metadata": {
  "kernelspec": {
   "display_name": "Python 3",
   "language": "python",
   "name": "python3"
  },
  "language_info": {
   "codemirror_mode": {
    "name": "ipython",
    "version": 3
   },
   "file_extension": ".py",
   "mimetype": "text/x-python",
   "name": "python",
   "nbconvert_exporter": "python",
   "pygments_lexer": "ipython3",
   "version": "3.7.1"
  }
 },
 "nbformat": 4,
 "nbformat_minor": 2
}
