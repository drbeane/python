{
 "cells": [
  {
   "cell_type": "markdown",
   "metadata": {},
   "source": [
    "# Numeric Data Types\n",
    "\n",
    "Every value in Python has a **data type** that describes what kind of information is represented by the value. The data type for a value also determines the ways that the value can be used in operations. \n",
    "\n",
    "In this chapter, we will dicussion data types used to represent numerical values. Python has three numerical variable types: `int`, `float`, and `complex`. We will discuss only the `int` and `float` data types in this chapter. \n",
    "\n",
    "* An **integer**, or **int**, is a value that represents a whole number. For example: 7, 42, and 1337.\n",
    "* A **float** is a value that represents a decimal number. For example, 0.33, 3.14, and 25.1.\n",
    "\n",
    "Every variable also has a data type determined by the value stored inside it. We can use the `type()` function to check the type of a variable. This is demonstrated below.\n",
    "termine a variable's type using the `type()` function."
   ]
  },
  {
   "cell_type": "code",
   "execution_count": 1,
   "metadata": {},
   "outputs": [
    {
     "name": "stdout",
     "output_type": "stream",
     "text": [
      "The type of x is: <class 'int'>\n",
      "The type of y is: <class 'float'>\n"
     ]
    }
   ],
   "source": [
    "x = 17\n",
    "y = 4.3\n",
    "\n",
    "print('The type of x is:', type(x))\n",
    "print('The type of y is:', type(y))"
   ]
  },
  {
   "cell_type": "markdown",
   "metadata": {},
   "source": [
    "Python infers whether a numeric variable should be stored as an `int` or a `float` based on the value of that variable. Occasionally we might wish to assign a whole number value to a variable, but have it stored as a float. We can accomplish this by adding \"`.0`\" to the end of the number."
   ]
  },
  {
   "cell_type": "code",
   "execution_count": 2,
   "metadata": {},
   "outputs": [
    {
     "name": "stdout",
     "output_type": "stream",
     "text": [
      "<class 'float'>\n"
     ]
    }
   ],
   "source": [
    "z = 14.0\n",
    "print(type(z))"
   ]
  },
  {
   "cell_type": "markdown",
   "metadata": {},
   "source": [
    "## Operations Involving Floats and Ints"
   ]
  },
  {
   "cell_type": "markdown",
   "metadata": {},
   "source": [
    "The data type for a value determines the ways that the value can be used in operations. We can use integers, floats, or a combination of the two in most numerical calculations. When performing an artihmetic operation that involves an integer and a float, the result will always be represented as a float. "
   ]
  },
  {
   "cell_type": "code",
   "execution_count": 7,
   "metadata": {},
   "outputs": [
    {
     "name": "stdout",
     "output_type": "stream",
     "text": [
      "12.1\n",
      "<class 'float'>\n"
     ]
    }
   ],
   "source": [
    "x = 7\n",
    "y = 5.1\n",
    "\n",
    "total = x + y\n",
    "\n",
    "print(total)\n",
    "print(type(total))"
   ]
  },
  {
   "cell_type": "markdown",
   "metadata": {},
   "source": [
    "This holds true even when the result of the calculation is a whole number. "
   ]
  },
  {
   "cell_type": "code",
   "execution_count": 9,
   "metadata": {},
   "outputs": [
    {
     "name": "stdout",
     "output_type": "stream",
     "text": [
      "21.0\n",
      "<class 'float'>\n"
     ]
    }
   ],
   "source": [
    "x = 4.2\n",
    "y = 5\n",
    "\n",
    "product = x * y\n",
    "\n",
    "print(product)\n",
    "print(type(product))"
   ]
  },
  {
   "cell_type": "markdown",
   "metadata": {},
   "source": [
    "The ratio of two integers is always represented as a float. "
   ]
  },
  {
   "cell_type": "code",
   "execution_count": 10,
   "metadata": {},
   "outputs": [
    {
     "name": "stdout",
     "output_type": "stream",
     "text": [
      "1.4\n",
      "<class 'float'>\n"
     ]
    }
   ],
   "source": [
    "a = 7\n",
    "b = 5\n",
    "\n",
    "q = a / b\n",
    "\n",
    "print(q)\n",
    "print(type(q))"
   ]
  },
  {
   "cell_type": "markdown",
   "metadata": {},
   "source": [
    "Again, this holds true even if the resulting value is a whole number. "
   ]
  },
  {
   "cell_type": "code",
   "execution_count": 11,
   "metadata": {},
   "outputs": [
    {
     "name": "stdout",
     "output_type": "stream",
     "text": [
      "4.0\n",
      "<class 'float'>\n"
     ]
    }
   ],
   "source": [
    "a = 20\n",
    "b = 5\n",
    "\n",
    "q = a / b\n",
    "\n",
    "print(q)\n",
    "print(type(q))"
   ]
  },
  {
   "cell_type": "markdown",
   "metadata": {},
   "source": [
    "## Rounding Values\n",
    "\n",
    "Python provides us a `round()` function that can be used to round a floating-point value to a specified number of decimal digits. Suppose that we wish to round the value `number` to a number of decimal places indicated by `digits`. The syntax for to accomplish this is shown below. \n",
    "\n",
    "    round(number, digits)\n",
    "    \n",
    "Some examples of the `round()` function are provided below. "
   ]
  },
  {
   "cell_type": "code",
   "execution_count": 13,
   "metadata": {},
   "outputs": [
    {
     "name": "stdout",
     "output_type": "stream",
     "text": [
      "3.0\n",
      "3.1\n",
      "3.14\n",
      "3.142\n",
      "3.1416\n"
     ]
    }
   ],
   "source": [
    "pi = 3.141592653589793\n",
    "\n",
    "print(round(pi, 0))\n",
    "print(round(pi, 1))\n",
    "print(round(pi, 2))\n",
    "print(round(pi, 3))\n",
    "print(round(pi, 4))"
   ]
  },
  {
   "cell_type": "markdown",
   "metadata": {},
   "source": [
    "If we do not provide `round()` with the desired number of digits, writing only `round(number)`, then Python will round the provided number to the nearest integer. "
   ]
  },
  {
   "cell_type": "code",
   "execution_count": 14,
   "metadata": {},
   "outputs": [
    {
     "name": "stdout",
     "output_type": "stream",
     "text": [
      "12\n",
      "13\n"
     ]
    }
   ],
   "source": [
    "print(round(12.3))\n",
    "print(round(12.7))"
   ]
  },
  {
   "cell_type": "markdown",
   "metadata": {},
   "source": [
    "## Type Coercion\n",
    "\n",
    "There are occasions when we would like to convert a variable from one data type to another. This is referred to as **type coercion**. We can coerce a variable to another date type by passing it to a function whose name is identical to the desired data type. For instance, if we want to convert a variable `x` to an integer, we would use the command `int(x)`. If we want to convert a variable `y` to a float, we would wuse `float(y)`. \n",
    "\n",
    "We will discuss coercion in more detail in a [later chapter](addl_type_topics). For now, we will consider some examples of converting between integers and floats.\n",
    "\n",
    "In the cell below, we create an integer with a value of 19 and coerce it into a float. Notice that resulting float is displayed as 19.0 rather than 19. "
   ]
  },
  {
   "cell_type": "code",
   "execution_count": 15,
   "metadata": {},
   "outputs": [
    {
     "name": "stdout",
     "output_type": "stream",
     "text": [
      "19.0\n",
      "<class 'float'>\n"
     ]
    }
   ],
   "source": [
    "x_int = 19\n",
    "x_float = float(x_int)\n",
    "\n",
    "print(x_float)\n",
    "print(type(x_float))"
   ]
  },
  {
   "cell_type": "markdown",
   "metadata": {},
   "source": [
    "We will now explore coercing a floating-point value into an integer. "
   ]
  },
  {
   "cell_type": "code",
   "execution_count": 17,
   "metadata": {},
   "outputs": [
    {
     "name": "stdout",
     "output_type": "stream",
     "text": [
      "6\n",
      "<class 'int'>\n"
     ]
    }
   ],
   "source": [
    "y_float = 6.8\n",
    "y_int = int(y_float)\n",
    "\n",
    "print(y_int)\n",
    "print(type(y_int))"
   ]
  },
  {
   "cell_type": "markdown",
   "metadata": {},
   "source": [
    "Notice that we we coerce a `float` to an `int`, Python does not round the float to the nearest integer. Instead, it return the integer portion of the floating-point value discarding any digits to the right of the decimal point. "
   ]
  }
 ],
 "metadata": {
  "kernelspec": {
   "display_name": "Python 3",
   "language": "python",
   "name": "python3"
  },
  "language_info": {
   "codemirror_mode": {
    "name": "ipython",
    "version": 3
   },
   "file_extension": ".py",
   "mimetype": "text/x-python",
   "name": "python",
   "nbconvert_exporter": "python",
   "pygments_lexer": "ipython3",
   "version": "3.8.3"
  }
 },
 "nbformat": 4,
 "nbformat_minor": 4
}
