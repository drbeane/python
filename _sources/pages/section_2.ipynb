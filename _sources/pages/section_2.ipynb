{
 "cells": [
  {
   "cell_type": "markdown",
   "metadata": {},
   "source": [
    "# Python Basics"
   ]
  },
  {
   "cell_type": "markdown",
   "metadata": {},
   "source": [
    "This chapter serves as an introduction to the Python programming language. The first section in the chapter establishes terminology related to foundational concepts that we will use throughout the rest of the book. The second section demonstrates how to use Python to perform a variety of arithmetic calculations. The third chapter introduces variables, which are used to store values. \n",
    "\n",
    "## Chapter 2 Table of Contents\n",
    "\n",
    "1. [Introduction to Python](intro_python)\n",
    "2. [Arithmetic Operations](arithmetic)\n",
    "3. [Variables](variables)\n"
   ]
  }
 ],
 "metadata": {
  "kernelspec": {
   "display_name": "Python 3 (ipykernel)",
   "language": "python",
   "name": "python3"
  },
  "language_info": {
   "codemirror_mode": {
    "name": "ipython",
    "version": 3
   },
   "file_extension": ".py",
   "mimetype": "text/x-python",
   "name": "python",
   "nbconvert_exporter": "python",
   "pygments_lexer": "ipython3",
   "version": "3.8.12"
  }
 },
 "nbformat": 4,
 "nbformat_minor": 4
}
